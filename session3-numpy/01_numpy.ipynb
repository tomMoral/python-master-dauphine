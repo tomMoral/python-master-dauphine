{
 "cells": [
  {
   "cell_type": "markdown",
   "metadata": {},
   "source": [
    "# Session 2 - Data manipulation in numpy\n",
    "\n",
    "Dans cette section, nous allons découvrir deux modules indispensables à la programmation scientifique: `numpy` et `matplotlib`. Ces 2 librairies sont les briques de bases sur lesquels de nombreux projets s'appuient. Elles suffisent normalement pour toute analyse de petits jeux de données.\n",
    "\n",
    "\n",
    "* `numpy` est un module utilisé dans presque tous les projets de calcul numérique sous Python:\n",
    "    * Il fournit des structures de données performantes pour la manipulation de vecteurs, matrices et tenseurs plus généraux. C'est l'objet de base pour manipuler de données tabulaires.\n",
    "    * `numpy` est écrit en C et en Fortran d'où ses performances élevées lorsque les calculs sont vectorisés (formulés comme des opérations sur des vecteurs/matrices).\n",
    "\n",
    "\n",
    "* `matplotlib` est un module performant pour la génération de graphiques en 2D et 3D:\n",
    "   * syntaxe très proche de celle de Matlab,\n",
    "   * supporte texte et étiquettes en $\\LaTeX$,\n",
    "   * sortie de qualité dans divers formats (PNG, PDF, SV, EPS...),\n",
    "   * interface graphique interactive pour explorer les figures.\n",
    "\n",
    "\n",
    "Pour utiliser `numpy` et `matplotlib` il faut commencer par les importer :"
   ]
  },
  {
   "cell_type": "code",
   "execution_count": 2,
   "metadata": {},
   "outputs": [],
   "source": [
    "import numpy as np\n",
    "import matplotlib.pyplot as plt"
   ]
  },
  {
   "cell_type": "markdown",
   "metadata": {},
   "source": [
    "### Quelques rappels sur l'utilisation de `jupyter`\n",
    "\n",
    "Quelques commandes de bases pour s'aider à trouver les informations:\n",
    "\n",
    "- Dans le mode selection de cellule (*cellule bleue*): `h` montre les racourcis claviers.\n",
    "- Dans le mode édition de cellule (*cellule verte*):\n",
    "    - `np?` affiche l'aide du module `numpy`.\n",
    "    - `np.` puis `tab` affiche les fonctions et les variable disponible dans le module `numpy`.\n",
    "    - `np.array?` affiche la documentation de la fonction `array` du module `numpy`.\n",
    "    - `%timeit` permet de mesurer la durée du temps pour executer la suite  de la ligne.\n"
   ]
  },
  {
   "cell_type": "code",
   "execution_count": 6,
   "metadata": {},
   "outputs": [],
   "source": [
    "np.array?"
   ]
  },
  {
   "cell_type": "markdown",
   "metadata": {},
   "source": [
    "# 1 -  Les tableaux `numpy`\n",
    "\n",
    "Dans la terminologie `numpy`, vecteurs, matrices et autres tenseurs sont appelés `arrays`.\n",
    "Pour créer un `array`, il existe plusieurs possibilités:\n",
    "\n",
    " * à partir de listes ou tuples.\n",
    " * en utilisant des fonctions dédiées, telles que `arange`, `linspace`, etc.\n",
    " * par chargement à partir de fichiers.\n",
    "\n",
    "## 1.1 - Création et manipulation de tableaux\n",
    "\n",
    "\n",
    "### 1.1.1 - A partir de listes\n",
    "\n",
    "On peut créer un `array` en une dimension à partir d'une liste python classique, au moyen de la fonction `numpy.array` :"
   ]
  },
  {
   "cell_type": "code",
   "execution_count": 8,
   "metadata": {
    "scrolled": true
   },
   "outputs": [
    {
     "name": "stdout",
     "output_type": "stream",
     "text": [
      "[1 3 2 4]\n",
      "<class 'numpy.ndarray'>\n"
     ]
    },
    {
     "data": {
      "text/plain": [
       "array([1, 3, 2, 4])"
      ]
     },
     "execution_count": 8,
     "metadata": {},
     "output_type": "execute_result"
    }
   ],
   "source": [
    "# un vecteur: l'argument de la fonction est une liste Python\n",
    "v = np.array([1, 3, 2, 4])\n",
    "print(v)\n",
    "print(type(v))\n",
    "v"
   ]
  },
  {
   "cell_type": "markdown",
   "metadata": {},
   "source": [
    "On peut utiliser la librairie `matplotlib` pour visualiser des tableaux 1D sous la forme de courbe:"
   ]
  },
  {
   "cell_type": "code",
   "execution_count": 12,
   "metadata": {},
   "outputs": [
    {
     "name": "stdout",
     "output_type": "stream",
     "text": [
      "2_numpy_data.csv\t  numpy_broadcasting.png  random-matrix.txt\r\n",
      "checkerboard.svg\t  Numpy.ipynb\t\t  solutions\r\n",
      "K-nearest-centroid.ipynb  random-matrix.csv\t  toto.png\r\n"
     ]
    },
    {
     "data": {
      "image/png": "[encoded data removed]",
      "text/plain": [
       "<Figure size 432x288 with 1 Axes>"
      ]
     },
     "metadata": {
      "needs_background": "light"
     },
     "output_type": "display_data"
    }
   ],
   "source": [
    "v = np.array([1, 3, 2, 4])\n",
    "x = np.array([0, 1, 2, 3])\n",
    "\n",
    "# Crée une nouvelle figure\n",
    "plt.figure()\n",
    "\n",
    "# Dessine la courbe v en fonction de x\n",
    "# 'rv--' <=> color='red', marker='v', linestyle='dashed', \n",
    "# label -> utilisé pour la légende\n",
    "plt.plot(x, v, color='red', marker='+',\n",
    "         linestyle='dashed', label='v(x)')\n",
    "plt.plot(v, x, color='blue', marker='o',\n",
    "         linestyle='solid', label='x(v)')\n",
    "\n",
    "# Rajoute une legende dans le coin en bas à droite\n",
    "plt.legend(loc='lower right')\n",
    "\n",
    "# Met une legende pour les axes\n",
    "plt.xlabel('x')\n",
    "plt.ylabel('v')\n",
    "\n",
    "# Rajoute un titre\n",
    "plt.title('Mon titre')\n",
    "\n",
    "# Définie les limites des axes\n",
    "plt.xlim([-1, 4])\n",
    "plt.ylim([0, 5])\n",
    "\n",
    "# Dans un script non-interactif, montre la figure et met en pause le script\n",
    "# plt.show()\n",
    "\n",
    "# Sauve la figure sous la forme d'un `png`\n",
    "plt.savefig('toto.png')\n",
    "! ls"
   ]
  },
  {
   "cell_type": "markdown",
   "metadata": {},
   "source": [
    "La librairie `matplotlib` est très riche (et complexe). Il existe une [documentation fournie avec de nombreux d'exemples](https://matplotlib.org/). Le plus simple est souvent de chercher un exemple qui fait quelques choses de simlaire et regarder comment le faire."
   ]
  },
  {
   "cell_type": "markdown",
   "metadata": {},
   "source": [
    "#### Tableau multi-dimensionels\n",
    "\n",
    "On peut aussi créer de tableau en plus grande dimension, comme des matrices ou des tenseurs, avec des listes imbriquées:"
   ]
  },
  {
   "cell_type": "code",
   "execution_count": 13,
   "metadata": {},
   "outputs": [
    {
     "name": "stdout",
     "output_type": "stream",
     "text": [
      "[[1 0]\n",
      " [3 2]]\n",
      "<class 'numpy.ndarray'>\n"
     ]
    }
   ],
   "source": [
    "M = np.array([[1, 0], [3, 2]])\n",
    "print(M)\n",
    "print(type(M))"
   ]
  },
  {
   "cell_type": "markdown",
   "metadata": {},
   "source": [
    "Les matrices peuvent être visualisées comme des images avec les fonctions `matshow` et `imshow` de `matplotlib`."
   ]
  },
  {
   "cell_type": "code",
   "execution_count": 15,
   "metadata": {},
   "outputs": [
    {
     "data": {
      "text/plain": [
       "<matplotlib.image.AxesImage at 0x7f5e6af1ce80>"
      ]
     },
     "execution_count": 15,
     "metadata": {},
     "output_type": "execute_result"
    },
    {
     "data": {
      "image/png": "[encoded data removed]",
      "text/plain": [
       "<Figure size 432x288 with 1 Axes>"
      ]
     },
     "metadata": {
      "needs_background": "light"
     },
     "output_type": "display_data"
    },
    {
     "data": {
      "image/png": "[encoded data removed]",
      "text/plain": [
       "<Figure size 288x288 with 1 Axes>"
      ]
     },
     "metadata": {
      "needs_background": "light"
     },
     "output_type": "display_data"
    }
   ],
   "source": [
    "# On enlève les axes de la figure avec `plt.axis('off')`\n",
    "plt.imshow(M)\n",
    "plt.axis('off')\n",
    "\n",
    "# Les axes sont modifiés directement par `matshow`\n",
    "plt.matshow(M)"
   ]
  },
  {
   "cell_type": "code",
   "execution_count": 14,
   "metadata": {},
   "outputs": [
    {
     "name": "stdout",
     "output_type": "stream",
     "text": [
      "[[[[ 1  2]\n",
      "   [ 3  4]]\n",
      "\n",
      "  [[ 5  6]\n",
      "   [ 7  8]]]\n",
      "\n",
      "\n",
      " [[[ 9 10]\n",
      "   [11 12]]\n",
      "\n",
      "  [[13 14]\n",
      "   [15 16]]]]\n",
      "<class 'numpy.ndarray'>\n"
     ]
    }
   ],
   "source": [
    "T = np.array([[[[1, 2], [3, 4]],\n",
    "                [[5, 6], [7, 8]]],\n",
    "              [[[9, 10], [11, 12]],\n",
    "               [[13, 14], [15, 16]]]])\n",
    "print(T)\n",
    "print(type(T))"
   ]
  },
  {
   "cell_type": "markdown",
   "metadata": {},
   "source": [
    "#### Attribut d'un `array`\n",
    "\n",
    "L'object `array` dispose de plusieurs attributs qui renseignent des informations sur son contenu. On peut ainsi accéder à la taille total du vecteur et au type d'élément dans le vecteur à partir des attributs `size`, `nbytes` et `dtype`:"
   ]
  },
  {
   "cell_type": "code",
   "execution_count": 16,
   "metadata": {
    "scrolled": true
   },
   "outputs": [
    {
     "name": "stdout",
     "output_type": "stream",
     "text": [
      "Taille du vecteur v: 4\n",
      "Type de donnée du vecteur v: int64\n",
      "Taille en bytes du vecteur v: 32\n"
     ]
    }
   ],
   "source": [
    "print(\"Taille du vecteur v: {}\".format(v.size))\n",
    "print(\"Type de donnée du vecteur v: {}\".format(v.dtype))\n",
    "print(\"Taille en bytes du vecteur v: {}\".format(v.nbytes))"
   ]
  },
  {
   "cell_type": "markdown",
   "metadata": {},
   "source": [
    "Les tableaux multi-dimensionels sont aussi de type `array`.  \n",
    "Ils exposent donc les même attributs `size` et `dtype`:"
   ]
  },
  {
   "cell_type": "code",
   "execution_count": 17,
   "metadata": {},
   "outputs": [
    {
     "name": "stdout",
     "output_type": "stream",
     "text": [
      "M is a matrix with size=4 and dtype=int64\n",
      "T is a tensor with size=16 and dtype=int64\n"
     ]
    }
   ],
   "source": [
    "print(\"M is a matrix with size={} and dtype={}\"\n",
    "      .format(M.size, M.dtype))\n",
    "print(\"T is a tensor with size={} and dtype={}\"\n",
    "      .format(T.size, T.dtype))"
   ]
  },
  {
   "cell_type": "markdown",
   "metadata": {},
   "source": [
    "**Exercice 1 :** (*Créé un tableau avec une liste*)  \n",
    "* Créer un simple tableau à 2 dimensions (contenant les éléments que vous voulez).  \n",
    "* Utiliser les fonctions `len()`, `np.shape()` sur votre tableau. Comment sont elles reliées? comment est ce relié à l'attribut `ndim`?"
   ]
  },
  {
   "cell_type": "code",
   "execution_count": 20,
   "metadata": {},
   "outputs": [
    {
     "name": "stdout",
     "output_type": "stream",
     "text": [
      "[[2 3 4 5]\n",
      " [3 5 6 6]\n",
      " [2 4 5 9]]\n"
     ]
    }
   ],
   "source": [
    "# %load solutions/exo01.py\n",
    "# %%writefile solutions/exo01.py\n",
    "A = np.array([[2, 3, 4, 5], [3, 5, 6, 6], [2, 4, 5, 9]])\n",
    "print(A)"
   ]
  },
  {
   "cell_type": "code",
   "execution_count": 21,
   "metadata": {},
   "outputs": [
    {
     "name": "stdout",
     "output_type": "stream",
     "text": [
      "3\n",
      "(3, 4)\n",
      "(3, 4)\n",
      "2\n",
      "int64\n"
     ]
    }
   ],
   "source": [
    "print(len(A))\n",
    "print(np.shape(A))\n",
    "print(A.shape)\n",
    "\n",
    "print(A.ndim)\n",
    "print(A.dtype)\n",
    "\n",
    "# %load solutions/exo01.py"
   ]
  },
  {
   "cell_type": "markdown",
   "metadata": {},
   "source": [
    "Ce qui les distingues, ce sont le nombre de leur dimension `ndim` et leur forme `shape`:"
   ]
  },
  {
   "cell_type": "code",
   "execution_count": 22,
   "metadata": {},
   "outputs": [
    {
     "name": "stdout",
     "output_type": "stream",
     "text": [
      "v est un array de dimension 1 avec une shape=(4,)\n",
      "M est un array de dimension 2 avec une shape=(2, 2)\n",
      "T est un array de dimension 4 avec une shape=(2, 2, 2, 2)\n"
     ]
    }
   ],
   "source": [
    "print(\"v est un array de dimension {} avec une shape={}\"\n",
    "      .format(v.ndim, v.shape))\n",
    "print(\"M est un array de dimension {} avec une shape={}\"\n",
    "      .format(M.ndim, M.shape))\n",
    "print(\"T est un array de dimension {} avec une shape={}\"\n",
    "      .format(T.ndim, T.shape))"
   ]
  },
  {
   "cell_type": "markdown",
   "metadata": {},
   "source": [
    "La `shape` d'un tableau peut être manipuler à grace à la fonction `reshape`."
   ]
  },
  {
   "cell_type": "code",
   "execution_count": 23,
   "metadata": {},
   "outputs": [
    {
     "name": "stdout",
     "output_type": "stream",
     "text": [
      "v is shape: (12,)\n"
     ]
    }
   ],
   "source": [
    "v = np.array([ 0,  1,  2,  3,  4,  5,  6,  7,  8,  9, 10, 11])\n",
    "print(\"v is shape:\", v.shape)"
   ]
  },
  {
   "cell_type": "code",
   "execution_count": 24,
   "metadata": {},
   "outputs": [
    {
     "name": "stdout",
     "output_type": "stream",
     "text": [
      "M is shape (3, 4) while v is still shape (12,)\n"
     ]
    }
   ],
   "source": [
    "M = v.reshape(3, 4)\n",
    "print(\"M is shape {} while v is still shape {}\"\n",
    "      .format(M.shape, v.shape))"
   ]
  },
  {
   "cell_type": "code",
   "execution_count": 25,
   "metadata": {},
   "outputs": [
    {
     "name": "stdout",
     "output_type": "stream",
     "text": [
      "M is shape: (3, 4)\n"
     ]
    }
   ],
   "source": [
    "M = v.reshape(3, -1)\n",
    "print(\"M is shape:\", M.shape)"
   ]
  },
  {
   "cell_type": "code",
   "execution_count": 26,
   "metadata": {},
   "outputs": [
    {
     "name": "stdout",
     "output_type": "stream",
     "text": [
      "T is shape: (1, 2, 3, 2, 1)\n"
     ]
    }
   ],
   "source": [
    "T = v.reshape(1, 2, 3, 2, 1)\n",
    "print(\"T is shape:\", T.shape)"
   ]
  },
  {
   "cell_type": "code",
   "execution_count": 27,
   "metadata": {},
   "outputs": [
    {
     "ename": "ValueError",
     "evalue": "cannot reshape array of size 12 into shape (3,3)",
     "output_type": "error",
     "traceback": [
      "\u001b[0;31m---------------------------------------------------------------------------\u001b[0m",
      "\u001b[0;31mValueError\u001b[0m                                Traceback (most recent call last)",
      "\u001b[0;32m<ipython-input-27-edf49090400a>\u001b[0m in \u001b[0;36m<module>\u001b[0;34m\u001b[0m\n\u001b[1;32m      1\u001b[0m \u001b[0;31m# This will trow an error as we do keep all values in v\u001b[0m\u001b[0;34m\u001b[0m\u001b[0;34m\u001b[0m\u001b[0m\n\u001b[1;32m      2\u001b[0m \u001b[0;31m# when we reshape it.\u001b[0m\u001b[0;34m\u001b[0m\u001b[0;34m\u001b[0m\u001b[0m\n\u001b[0;32m----> 3\u001b[0;31m \u001b[0mv\u001b[0m\u001b[0;34m.\u001b[0m\u001b[0mreshape\u001b[0m\u001b[0;34m(\u001b[0m\u001b[0;36m3\u001b[0m\u001b[0;34m,\u001b[0m \u001b[0;36m3\u001b[0m\u001b[0;34m)\u001b[0m\u001b[0;34m\u001b[0m\u001b[0m\n\u001b[0m",
      "\u001b[0;31mValueError\u001b[0m: cannot reshape array of size 12 into shape (3,3)"
     ]
    }
   ],
   "source": [
    "# This will trow an error as we do keep all values in v\n",
    "# when we reshape it.\n",
    "v.reshape(3, 3)"
   ]
  },
  {
   "cell_type": "markdown",
   "metadata": {},
   "source": [
    "#### Indexation des données\n",
    "\n",
    "Comme pour les listes, on utilise les crochets pour accéder à un élément du tableau. L'indexation commence à `0` aussi. On peut aussi assigner des éléments directements:"
   ]
  },
  {
   "cell_type": "code",
   "execution_count": 28,
   "metadata": {},
   "outputs": [
    {
     "name": "stdout",
     "output_type": "stream",
     "text": [
      "[ 0  1  2  3  4  5  6  7  8  9 10 11]\n",
      "0 1\n"
     ]
    }
   ],
   "source": [
    "print(v)\n",
    "print(v[0], v[1])"
   ]
  },
  {
   "cell_type": "code",
   "execution_count": 29,
   "metadata": {
    "scrolled": false
   },
   "outputs": [
    {
     "name": "stdout",
     "output_type": "stream",
     "text": [
      "[ 0  1 42  3  4  5  6  7  8  9 10 11]\n"
     ]
    }
   ],
   "source": [
    "v[2] = 42\n",
    "print(v)"
   ]
  },
  {
   "cell_type": "markdown",
   "metadata": {},
   "source": [
    "Pour les tableaux multi-dimensionnels, l'indexation renvoie aussi un `array` qui peut lui même être indexé. Une notation rapide avec des virgules est aussi possible:"
   ]
  },
  {
   "cell_type": "code",
   "execution_count": 30,
   "metadata": {},
   "outputs": [
    {
     "name": "stdout",
     "output_type": "stream",
     "text": [
      "[ 0  1 42  3]\n"
     ]
    }
   ],
   "source": [
    "print(M[0])"
   ]
  },
  {
   "cell_type": "code",
   "execution_count": 31,
   "metadata": {},
   "outputs": [
    {
     "name": "stdout",
     "output_type": "stream",
     "text": [
      "type(M[0]) = <class 'numpy.ndarray'>\n"
     ]
    }
   ],
   "source": [
    "print(\"type(M[0]) = {}\".format(type(M[0])))"
   ]
  },
  {
   "cell_type": "code",
   "execution_count": 32,
   "metadata": {},
   "outputs": [
    {
     "name": "stdout",
     "output_type": "stream",
     "text": [
      "M[0][1] = 1\n"
     ]
    }
   ],
   "source": [
    "print(\"M[0][1] = {}\".format(M[0][1]))"
   ]
  },
  {
   "cell_type": "code",
   "execution_count": 33,
   "metadata": {},
   "outputs": [
    {
     "name": "stdout",
     "output_type": "stream",
     "text": [
      "[4 5 6 7]\n",
      "M[1, 0] = 4\n"
     ]
    }
   ],
   "source": [
    "print(M[1])\n",
    "print(\"M[1, 0] = {}\".format(M[1, 0]))"
   ]
  },
  {
   "cell_type": "markdown",
   "metadata": {},
   "source": [
    "**Exercice 2 :** (*Indexation des donnés*)  \n",
    "* Modifier le tableau `v` pour que son 3e élément soit égale à 0.\n",
    "* Modifier le tableau `v` pour que son dernier élément soit égale à 10."
   ]
  },
  {
   "cell_type": "code",
   "execution_count": 36,
   "metadata": {},
   "outputs": [
    {
     "name": "stdout",
     "output_type": "stream",
     "text": [
      "(20,)\n"
     ]
    }
   ],
   "source": [
    "# %load solutions/exo02.py\n",
    "# %%writefile solutions/exo02.py\n",
    "v = np.array([1, 1, 1, 1, 1, 1, 1, 1, 1, 1, 1, 1, 1, 1, 1, 1, 1, 1, 1, 1])\n",
    "print(v.shape)"
   ]
  },
  {
   "cell_type": "code",
   "execution_count": 37,
   "metadata": {},
   "outputs": [
    {
     "name": "stdout",
     "output_type": "stream",
     "text": [
      "[ 1  1  0  1  1  1  1  1  1  1  1  1  1  1  1  1  1  1  1 10]\n"
     ]
    }
   ],
   "source": [
    "v[2] = 0\n",
    "v[len(v) -1] = 10\n",
    "v[-1] = 10\n",
    "print(v)\n",
    "\n",
    "# %load solutions/exo02.py"
   ]
  },
  {
   "cell_type": "markdown",
   "metadata": {},
   "source": [
    "#### Type de donnée"
   ]
  },
  {
   "cell_type": "code",
   "execution_count": 38,
   "metadata": {},
   "outputs": [
    {
     "name": "stdout",
     "output_type": "stream",
     "text": [
      "[1.  3.1 2.5 4.  0.  8. ]\n",
      "Type de donnée du vecteur v_float: float64\n",
      "Taille en bytes vecteur v_float: 6 x 8 = 48\n",
      "\n"
     ]
    }
   ],
   "source": [
    "# Par default, le type des données est float64\n",
    "v_float = np.array([1., 3.1, 2.5, 4., 0., 8.])\n",
    "print(v_float)\n",
    "print(\"Type de donnée du vecteur v_float: {}\"\n",
    "      .format(v_float.dtype))\n",
    "print(\"Taille en bytes vecteur v_float: 6 x 8 = {}\\n\"\n",
    "      .format(v_float.nbytes))"
   ]
  },
  {
   "cell_type": "markdown",
   "metadata": {},
   "source": [
    "À la création de l'`array`, on peut préciser de quelle type de donnée il s'agit avec l'argument `dtype`:\n",
    " * Types possibles avec `dtype` : `int`, `float`, `complex`, `bool`, `object`, etc."
   ]
  },
  {
   "cell_type": "markdown",
   "metadata": {},
   "source": [
    "On peut aussi créé des tableaux avec des types de données différents:"
   ]
  },
  {
   "cell_type": "code",
   "execution_count": 39,
   "metadata": {},
   "outputs": [
    {
     "name": "stdout",
     "output_type": "stream",
     "text": [
      "[1 3 2 4 0 8]\n",
      "Type de donnée du vecteur v_int: int64\n",
      "Taille en bytes vecteur v_int: 6 x 8 = 48\n",
      "\n"
     ]
    }
   ],
   "source": [
    "# On peut les convertir en entier -> perte de la partie décimale\n",
    "v_int = np.array([1., 3.1, 2.5, 4., 0., 8.], dtype=int)\n",
    "print(v_int)\n",
    "print(\"Type de donnée du vecteur v_int: {}\"\n",
    "      .format(v_int.dtype))\n",
    "print(\"Taille en bytes vecteur v_int: 6 x 8 = {}\\n\"\n",
    "      .format(v_int.nbytes))"
   ]
  },
  {
   "cell_type": "markdown",
   "metadata": {},
   "source": [
    " * On peut aussi spécifier la précision en bits: `int64`, `int16`, `float128`, `complex128`."
   ]
  },
  {
   "cell_type": "code",
   "execution_count": 40,
   "metadata": {},
   "outputs": [
    {
     "name": "stdout",
     "output_type": "stream",
     "text": [
      "[1.  3.1 2.5 4.  0.  8. ]\n",
      "Type de donnée du vecteur v_int: float32\n",
      "Taille en bytes vecteur v_int: 6 x 4 = 24\n",
      "\n"
     ]
    }
   ],
   "source": [
    "# On peut les convertirs en float32 -> moins précis mais moins gros en mémoire\n",
    "v_int32 = np.array([1., 3.1, 2.5, 4., 0., 8.], dtype=np.float32)\n",
    "print(v_int32)\n",
    "print(\"Type de donnée du vecteur v_int: {}\"\n",
    "      .format(v_int32.dtype))\n",
    "print(\"Taille en bytes vecteur v_int: 6 x 4 = {}\\n\"\n",
    "      .format(v_int32.nbytes))"
   ]
  },
  {
   "cell_type": "markdown",
   "metadata": {},
   "source": [
    "**Attention !** Une fois le type fixé, les données qui sont stockées dans le vecteur sont toutes du même type."
   ]
  },
  {
   "cell_type": "code",
   "execution_count": 41,
   "metadata": {},
   "outputs": [
    {
     "name": "stdout",
     "output_type": "stream",
     "text": [
      "[3 2 3 4]\n",
      "dtype de v: int64\n"
     ]
    }
   ],
   "source": [
    "v = np.array([1, 2, 3, 4])\n",
    "v[0] = 3.2\n",
    "print(v)\n",
    "print(\"dtype de v:\", v.dtype)"
   ]
  },
  {
   "cell_type": "markdown",
   "metadata": {},
   "source": [
    "Le type des éléments doit rester le même lors de l'assignement. On ne peut donc pas assigner un élément qui ne peut pas être converti dans le `dtype` du tableau."
   ]
  },
  {
   "cell_type": "code",
   "execution_count": 42,
   "metadata": {},
   "outputs": [
    {
     "ename": "ValueError",
     "evalue": "invalid literal for int() with base 10: 'heloo'",
     "output_type": "error",
     "traceback": [
      "\u001b[0;31m---------------------------------------------------------------------------\u001b[0m",
      "\u001b[0;31mValueError\u001b[0m                                Traceback (most recent call last)",
      "\u001b[0;32m<ipython-input-42-83c2b34e6159>\u001b[0m in \u001b[0;36m<module>\u001b[0;34m\u001b[0m\n\u001b[0;32m----> 1\u001b[0;31m \u001b[0mv\u001b[0m\u001b[0;34m[\u001b[0m\u001b[0;36m0\u001b[0m\u001b[0;34m]\u001b[0m \u001b[0;34m=\u001b[0m \u001b[0;34m\"heloo\"\u001b[0m\u001b[0;34m\u001b[0m\u001b[0m\n\u001b[0m",
      "\u001b[0;31mValueError\u001b[0m: invalid literal for int() with base 10: 'heloo'"
     ]
    }
   ],
   "source": [
    "v[0] = \"heloo\""
   ]
  },
  {
   "cell_type": "markdown",
   "metadata": {},
   "source": [
    "On peut cependant obtenir une copie l'`array` avec le bon type grace à la méthode `astype`:"
   ]
  },
  {
   "cell_type": "code",
   "execution_count": 44,
   "metadata": {},
   "outputs": [
    {
     "name": "stdout",
     "output_type": "stream",
     "text": [
      "[3.2 2.  3.  4. ] dtype = float64\n"
     ]
    }
   ],
   "source": [
    "v_float = v.astype(float)\n",
    "v_float[0] = 3.2\n",
    "print(v_float, \"dtype =\", v_float.dtype)"
   ]
  },
  {
   "cell_type": "markdown",
   "metadata": {},
   "source": [
    "### 1.1.2 - A partir de fonctions spéciales\n",
    "\n",
    "\n",
    "#### Tableaux constants\n",
    "On peut créer des `array` à partir de fonctions spéciales:  \n",
    "`np.zeros`, `np.ones`, `np.empty`, `np.eye`, ...\n",
    "\n",
    "Toutes ces fonctions prennent comme premier argument `shape`.  \n",
    "\n",
    "**Exercice 3 :** (*Générer des tableaux de constantes*)  \n",
    "Utiliser les fonctions `np.zeros`, `np.ones` et `np.eye` pour répondre au question suivante:"
   ]
  },
  {
   "cell_type": "code",
   "execution_count": 47,
   "metadata": {},
   "outputs": [
    {
     "name": "stdout",
     "output_type": "stream",
     "text": [
      "0 vector of size: (3,)\n",
      " [0. 0. 0.]\n",
      "0 matrix of size: (2, 3)\n",
      " [[0. 0. 0.]\n",
      " [0. 0. 0.]]\n"
     ]
    }
   ],
   "source": [
    "# %load solutions/exo03.py\n",
    "# %%writefile solutions/exo03.py\n",
    "# Généré un tableau de 0 de taille 3, puis de taille (2, 3)\n",
    "v0 = np.zeros((3,))\n",
    "M0 = np.zeros((2, 3))\n",
    "print(\"0 vector of size: {}\\n\".format(v0.shape), v0)\n",
    "print(\"0 matrix of size: {}\\n\".format(M0.shape), M0)\n",
    "assert v0.shape == (3,)\n",
    "assert M0.shap`be == (2, 3)\n",
    "assert np.all(M0 == 0)"
   ]
  },
  {
   "cell_type": "code",
   "execution_count": 48,
   "metadata": {},
   "outputs": [],
   "source": [
    "np.zeros?"
   ]
  },
  {
   "cell_type": "code",
   "execution_count": 49,
   "metadata": {},
   "outputs": [
    {
     "name": "stdout",
     "output_type": "stream",
     "text": [
      "1 vector of size: (10,)\n",
      " [1. 1. 1. 1. 1. 1. 1. 1. 1. 1.]\n",
      "1 tensor of size: (2, 3, 2)\n",
      " [[[1. 1.]\n",
      "  [1. 1.]\n",
      "  [1. 1.]]\n",
      "\n",
      " [[1. 1.]\n",
      "  [1. 1.]\n",
      "  [1. 1.]]]\n"
     ]
    }
   ],
   "source": [
    "# Généré un tableau de 1 de taille 10, puis de taille 2x3x2\n",
    "v1 = np.ones(10)\n",
    "M1 = np.ones((2, 3, 2))\n",
    "print(\"1 vector of size: {}\\n\".format(v1.shape), v1)\n",
    "print(\"1 tensor of size: {}\\n\".format(M1.shape), M1)\n",
    "assert v1.shape == (10,)\n",
    "assert M1.shape == (2, 3, 2)\n",
    "assert np.all(M1 == 1)"
   ]
  },
  {
   "cell_type": "code",
   "execution_count": 51,
   "metadata": {},
   "outputs": [
    {
     "name": "stdout",
     "output_type": "stream",
     "text": [
      "Id matrix of size: (4, 4)\n",
      " [[1. 0. 0. 0.]\n",
      " [0. 1. 0. 0.]\n",
      " [0. 0. 1. 0.]\n",
      " [0. 0. 0. 1.]]\n"
     ]
    }
   ],
   "source": [
    "# Généré la matrice identité de taille 4x4\n",
    "I = np.eye(4)\n",
    "print(\"Id matrix of size: {}\\n\".format(I.shape), I)"
   ]
  },
  {
   "cell_type": "markdown",
   "metadata": {},
   "source": [
    "#### Générer des intervales\n",
    "\n",
    "Les fonctions `arange` et `linspace` peuvent être utilisée pour générer des données séquentielles:"
   ]
  },
  {
   "cell_type": "code",
   "execution_count": 52,
   "metadata": {},
   "outputs": [
    {
     "name": "stdout",
     "output_type": "stream",
     "text": [
      "Valeurs paires de 0 à 20: [ 0  2  4  6  8 10 12 14 16 18 20]\n"
     ]
    }
   ],
   "source": [
    "# create a range\n",
    "x1 = np.arange(0, 21, 2) # arguments: start, stop, step\n",
    "print(\"Valeurs paires de 0 à 20:\", x1)"
   ]
  },
  {
   "cell_type": "code",
   "execution_count": 53,
   "metadata": {},
   "outputs": [
    {
     "name": "stdout",
     "output_type": "stream",
     "text": [
      "Valeurs entre -1 et 1, tous les .1: [-1.00000000e+00 -9.00000000e-01 -8.00000000e-01 -7.00000000e-01\n",
      " -6.00000000e-01 -5.00000000e-01 -4.00000000e-01 -3.00000000e-01\n",
      " -2.00000000e-01 -1.00000000e-01 -2.22044605e-16  1.00000000e-01\n",
      "  2.00000000e-01  3.00000000e-01  4.00000000e-01  5.00000000e-01\n",
      "  6.00000000e-01  7.00000000e-01  8.00000000e-01  9.00000000e-01]\n"
     ]
    }
   ],
   "source": [
    "# un tableau avec un pas non entier:\n",
    "x2 = np.arange(-1, 1, 0.1)\n",
    "print(\"Valeurs entre -1 et 1, tous les .1:\", x2)"
   ]
  },
  {
   "cell_type": "code",
   "execution_count": 54,
   "metadata": {},
   "outputs": [
    {
     "name": "stdout",
     "output_type": "stream",
     "text": [
      "Valeurs de 100 à 0 [100  99  98  97  96  95  94  93  92  91  90  89  88  87  86  85  84  83\n",
      "  82  81  80  79  78  77  76  75  74  73  72  71  70  69  68  67  66  65\n",
      "  64  63  62  61  60  59  58  57  56  55  54  53  52  51  50  49  48  47\n",
      "  46  45  44  43  42  41  40  39  38  37  36  35  34  33  32  31  30  29\n",
      "  28  27  26  25  24  23  22  21  20  19  18  17  16  15  14  13  12  11\n",
      "  10   9   8   7   6   5   4   3   2   1   0]\n"
     ]
    }
   ],
   "source": [
    "# un tableau avec un pas négatif:\n",
    "x3 = np.arange(100, -1, -1)\n",
    "print(\"Valeurs de 100 à 0\", x3)"
   ]
  },
  {
   "cell_type": "markdown",
   "metadata": {},
   "source": [
    "**Exercice 4 :** (Générer de interval*)  \n",
    "Recréer les mêmes tableaux avec la fonction `np.linspace`"
   ]
  },
  {
   "cell_type": "code",
   "execution_count": 59,
   "metadata": {},
   "outputs": [
    {
     "name": "stdout",
     "output_type": "stream",
     "text": [
      "[ 0.  2.  4.  6.  8. 10. 12. 14. 16. 18. 20.]\n"
     ]
    }
   ],
   "source": [
    "# %load solutions/exo04.py\n",
    "# %%writefile solutions/exo04.py\n",
    "# avec linspace, le début et la fin SONT inclus\n",
    "# np.linspace?\n",
    "\n",
    "# Créer un tableau avec les valeurs paires de 0 à 20:\n",
    "l1 = np.linspace(0, 20, 11)\n",
    "assert np.allclose(l1, x1)\n",
    "print(l1)"
   ]
  },
  {
   "cell_type": "code",
   "execution_count": 61,
   "metadata": {},
   "outputs": [
    {
     "name": "stdout",
     "output_type": "stream",
     "text": [
      "[-1.00000000e+00 -9.00000000e-01 -8.00000000e-01 -7.00000000e-01\n",
      " -6.00000000e-01 -5.00000000e-01 -4.00000000e-01 -3.00000000e-01\n",
      " -2.00000000e-01 -1.00000000e-01 -1.11022302e-16  1.00000000e-01\n",
      "  2.00000000e-01  3.00000000e-01  4.00000000e-01  5.00000000e-01\n",
      "  6.00000000e-01  7.00000000e-01  8.00000000e-01  9.00000000e-01]\n"
     ]
    }
   ],
   "source": [
    "# Créer un tableau avec les valeurs entre -1 et 1, tous les .1:\n",
    "l2 = np.linspace(-1, .9, 20)\n",
    "assert np.allclose(l2, x2)\n",
    "print(l2)"
   ]
  },
  {
   "cell_type": "code",
   "execution_count": 62,
   "metadata": {},
   "outputs": [
    {
     "name": "stdout",
     "output_type": "stream",
     "text": [
      "[100.  99.  98.  97.  96.  95.  94.  93.  92.  91.  90.  89.  88.  87.\n",
      "  86.  85.  84.  83.  82.  81.  80.  79.  78.  77.  76.  75.  74.  73.\n",
      "  72.  71.  70.  69.  68.  67.  66.  65.  64.  63.  62.  61.  60.  59.\n",
      "  58.  57.  56.  55.  54.  53.  52.  51.  50.  49.  48.  47.  46.  45.\n",
      "  44.  43.  42.  41.  40.  39.  38.  37.  36.  35.  34.  33.  32.  31.\n",
      "  30.  29.  28.  27.  26.  25.  24.  23.  22.  21.  20.  19.  18.  17.\n",
      "  16.  15.  14.  13.  12.  11.  10.   9.   8.   7.   6.   5.   4.   3.\n",
      "   2.   1.   0.]\n"
     ]
    }
   ],
   "source": [
    "# Créer un tableau avec les valeurs de 100 à 0:\n",
    "l3 = np.linspace(100, 0, 101)\n",
    "assert np.allclose(l3, x3)\n",
    "print(l3)"
   ]
  },
  {
   "cell_type": "markdown",
   "metadata": {},
   "source": [
    "#### Générer des tableaux aléatoires\n",
    "\n",
    "Pour généré des tableaux plus complex, on peut utiliser le module `np.random` de `numpy`.  \n",
    "Ce module implémente principalement 2 générateurs de nombre aléatoire:\n",
    "\n",
    "* **Uniforme:** `np.random.rand` génère des nombres tirés uniformément dans $[0, 1]$.\n",
    "* **Normale:** `np.random.randn` génère des nombres tirés selon une loi normale $\\mathcal N(0, 1)$.\n",
    "\n",
    "Il expose aussi des fonctions de plus haut niveau pour différentes lois de probabilité."
   ]
  },
  {
   "cell_type": "code",
   "execution_count": 63,
   "metadata": {},
   "outputs": [
    {
     "data": {
      "text/plain": [
       "array([[0.13701695, 0.50050068, 0.72372287, 0.38720657, 0.99288529],\n",
       "       [0.76671577, 0.17277935, 0.60222122, 0.57812021, 0.61946575],\n",
       "       [0.54201014, 0.70271561, 0.0920047 , 0.93072466, 0.92752082],\n",
       "       [0.74611367, 0.26469678, 0.37643759, 0.69450657, 0.10900058],\n",
       "       [0.49187455, 0.27212687, 0.67720455, 0.5602595 , 0.79269807]])"
      ]
     },
     "execution_count": 63,
     "metadata": {},
     "output_type": "execute_result"
    }
   ],
   "source": [
    "np.random.rand(5, 5)"
   ]
  },
  {
   "cell_type": "code",
   "execution_count": 64,
   "metadata": {},
   "outputs": [
    {
     "data": {
      "text/plain": [
       "array([[-1.0350346 , -0.71722036, -2.24467818,  2.19458162, -0.6444436 ],\n",
       "       [-1.01211518, -0.63523486,  1.35571377, -0.25644713,  1.65398508],\n",
       "       [-2.44127447,  1.00717743,  0.76478865,  1.31799452,  1.95938996],\n",
       "       [ 0.78880277, -1.39661771,  1.06876903, -0.3664024 , -0.67287755],\n",
       "       [-2.36746591, -1.01500642,  0.32410319, -0.56470447, -0.1907011 ]])"
      ]
     },
     "execution_count": 64,
     "metadata": {},
     "output_type": "execute_result"
    }
   ],
   "source": [
    "np.random.randn(5, 5)"
   ]
  },
  {
   "cell_type": "code",
   "execution_count": 69,
   "metadata": {},
   "outputs": [
    {
     "data": {
      "image/png": "[encoded data removed]",
      "text/plain": [
       "<Figure size 432x288 with 1 Axes>"
      ]
     },
     "metadata": {
      "needs_background": "light"
     },
     "output_type": "display_data"
    }
   ],
   "source": [
    "a = np.random.randn(100000)\n",
    "hh = plt.hist(a, bins=100)"
   ]
  },
  {
   "cell_type": "markdown",
   "metadata": {},
   "source": [
    "### 1.1.3 - A partir d'un fichier: I/O pour les `array`\n",
    "\n",
    "#### Fichiers séparés par des virgules (CSV)\n",
    "\n",
    "Un format fichier classique est le format CSV (comma-separated values), ou bien TSV (tab-separated values). Pour lire de tels fichiers, on peut utiliser `numpy.genfromtxt`. Par exemple:"
   ]
  },
  {
   "cell_type": "code",
   "execution_count": 70,
   "metadata": {},
   "outputs": [
    {
     "name": "stdout",
     "output_type": "stream",
     "text": [
      "1, 2, 3, 4\r\n",
      "5, 6, 7, 8\r\n",
      "9, 10, 11, 12\r\n"
     ]
    }
   ],
   "source": [
    "!cat 2_numpy_data.csv"
   ]
  },
  {
   "cell_type": "code",
   "execution_count": 71,
   "metadata": {},
   "outputs": [
    {
     "data": {
      "text/plain": [
       "array([[ 1.,  2.,  3.,  4.],\n",
       "       [ 5.,  6.,  7.,  8.],\n",
       "       [ 9., 10., 11., 12.]])"
      ]
     },
     "execution_count": 71,
     "metadata": {},
     "output_type": "execute_result"
    }
   ],
   "source": [
    "data = np.genfromtxt('2_numpy_data.csv', delimiter=',')\n",
    "data"
   ]
  },
  {
   "cell_type": "markdown",
   "metadata": {},
   "source": [
    "A l'aide de `numpy.savetxt` on peut enregistrer un *array* `numpy` dans un fichier txt:"
   ]
  },
  {
   "cell_type": "code",
   "execution_count": 72,
   "metadata": {},
   "outputs": [
    {
     "name": "stdout",
     "output_type": "stream",
     "text": [
      "[[0.04365938 0.0669154  0.630113  ]\n",
      " [0.51922962 0.93672732 0.59567832]\n",
      " [0.17486574 0.65084498 0.36458051]]\n"
     ]
    }
   ],
   "source": [
    "M = np.random.rand(3,3)\n",
    "print(M)"
   ]
  },
  {
   "cell_type": "code",
   "execution_count": 74,
   "metadata": {},
   "outputs": [
    {
     "name": "stdout",
     "output_type": "stream",
     "text": [
      "4.365937988560653071e-02;6.691539528873335918e-02;6.301130025822803127e-01\r\n",
      "5.192296176620916359e-01;9.367273232421957641e-01;5.956783249657002788e-01\r\n",
      "1.748657432852392946e-01;6.508449845583604843e-01;3.645805147306898641e-01\r\n"
     ]
    }
   ],
   "source": [
    "np.savetxt(\"random-matrix.txt\", M, delimiter=';')\n",
    "!cat random-matrix.txt"
   ]
  },
  {
   "cell_type": "code",
   "execution_count": 75,
   "metadata": {},
   "outputs": [
    {
     "name": "stdout",
     "output_type": "stream",
     "text": [
      "0.04366;0.06692;0.63011\r\n",
      "0.51923;0.93673;0.59568\r\n",
      "0.17487;0.65084;0.36458\r\n"
     ]
    }
   ],
   "source": [
    "np.savetxt(\"random-matrix.csv\", M, fmt='%.5f', delimiter=';') # fmt spécifie le format\n",
    "\n",
    "!cat random-matrix.csv"
   ]
  },
  {
   "cell_type": "markdown",
   "metadata": {},
   "source": [
    "### 1.1.4 - Indexing des tableaux\n",
    "\n",
    "Comme les listes, les tableaux élément des tableaux peuvent être séléctioné avec du slicing.\n",
    "*Slicing* fait référence à la syntaxe `M[start:stop:step]` pour extraire une partie d'un *array*:"
   ]
  },
  {
   "cell_type": "code",
   "execution_count": 76,
   "metadata": {},
   "outputs": [
    {
     "name": "stdout",
     "output_type": "stream",
     "text": [
      "[0 1 2 3 4]\n"
     ]
    }
   ],
   "source": [
    "v = np.arange(5)\n",
    "v = np.arange(0, 5, 1)\n",
    "print(v)"
   ]
  },
  {
   "cell_type": "code",
   "execution_count": 78,
   "metadata": {},
   "outputs": [
    {
     "name": "stdout",
     "output_type": "stream",
     "text": [
      "Indices de début, fin, et pas avec leurs valeurs par défaut:\n",
      " [0 1 2 3 4]\n"
     ]
    }
   ],
   "source": [
    "print(\"Indices de début, fin, et pas avec leurs valeurs\"\n",
    "      \" par défaut:\\n\", v[::])"
   ]
  },
  {
   "cell_type": "code",
   "execution_count": 79,
   "metadata": {},
   "outputs": [
    {
     "name": "stdout",
     "output_type": "stream",
     "text": [
      "Pas de 2: [0 2 4]\n"
     ]
    }
   ],
   "source": [
    "print(\"Pas de 2:\", v[::2])"
   ]
  },
  {
   "cell_type": "code",
   "execution_count": 80,
   "metadata": {},
   "outputs": [
    {
     "name": "stdout",
     "output_type": "stream",
     "text": [
      "Les 3 premiers éléments: [0 1 2]\n",
      "A partir de l'indice 2: [2 3 4]\n"
     ]
    }
   ],
   "source": [
    "print(\"Les 3 premiers éléments:\", v[:3])\n",
    "print(\"A partir de l'indice 2:\", v[2:])"
   ]
  },
  {
   "cell_type": "markdown",
   "metadata": {},
   "source": [
    "De la même manière, chaque dimension du tableau peut être *slicée*:"
   ]
  },
  {
   "cell_type": "code",
   "execution_count": 81,
   "metadata": {},
   "outputs": [
    {
     "name": "stdout",
     "output_type": "stream",
     "text": [
      "[[ 0  1  2]\n",
      " [ 3  4  5]\n",
      " [ 6  7  8]\n",
      " [ 9 10 11]]\n"
     ]
    }
   ],
   "source": [
    "M = np.arange(12).reshape(4, 3)\n",
    "print(M)"
   ]
  },
  {
   "cell_type": "code",
   "execution_count": 82,
   "metadata": {},
   "outputs": [
    {
     "name": "stdout",
     "output_type": "stream",
     "text": [
      "On selectionne une ligne sur 2 et pas la 1ere colone:\n",
      " [[1 2]\n",
      " [7 8]]\n"
     ]
    }
   ],
   "source": [
    "print(\"On selectionne une ligne sur 2 et pas la\"\n",
    "      \" 1ere colone:\\n\", M[::2, 1:])"
   ]
  },
  {
   "cell_type": "code",
   "execution_count": 83,
   "metadata": {},
   "outputs": [
    {
     "name": "stdout",
     "output_type": "stream",
     "text": [
      "On selectionne les lignes 1 et 2 et uniquement la dernière colone:\n",
      " [[3]\n",
      " [6]]\n"
     ]
    }
   ],
   "source": [
    "print(\"On selectionne les lignes 1 et 2 et uniquement la dernière colone:\\n\",\n",
    "      M[1:3, :1])"
   ]
  },
  {
   "cell_type": "markdown",
   "metadata": {},
   "source": [
    "Les slices (ou tranches) sont modifiables :"
   ]
  },
  {
   "cell_type": "code",
   "execution_count": 84,
   "metadata": {},
   "outputs": [
    {
     "name": "stdout",
     "output_type": "stream",
     "text": [
      "[[   0    1    2]\n",
      " [   3    4 1000]\n",
      " [   6    7    8]\n",
      " [   9   10 1000]]\n"
     ]
    }
   ],
   "source": [
    "M[1::2, -1:1:-1] = 1000\n",
    "print(M)"
   ]
  },
  {
   "cell_type": "markdown",
   "metadata": {},
   "source": [
    "**Exercice 5 :** (*le plateau d'échec*)\n",
    "\n",
    "Créez un tableau de zéros et le remplir pour obtenir un motif de plateau d'échec de dimension 8x8.\n",
    "<img src=\"checkerboard.svg\" width=300, height=300>"
   ]
  },
  {
   "cell_type": "code",
   "execution_count": null,
   "metadata": {},
   "outputs": [],
   "source": [
    "# %load solutions/exo05.py\n",
    "# %%writefile solutions/exo05.py\n",
    "E = np.zeros((8, 8))\n",
    "E[0::2, 0::2] = 1\n",
    "E[1::2, 1::2] = 1\n",
    "plt.matshow(E, cmap='gray')"
   ]
  },
  {
   "cell_type": "code",
   "execution_count": 91,
   "metadata": {},
   "outputs": [
    {
     "data": {
      "image/png": "[encoded data removed]",
      "text/plain": [
       "<Figure size 288x288 with 1 Axes>"
      ]
     },
     "metadata": {
      "needs_background": "light"
     },
     "output_type": "display_data"
    }
   ],
   "source": [
    "E = np.tile([[1, 0], [0, 1]], (4, 4))\n",
    "E\n",
    "\n",
    "np.tile?\n",
    "\n",
    "# %load solutions/exo05.py"
   ]
  },
  {
   "cell_type": "markdown",
   "metadata": {},
   "source": [
    "#### Indexation avancée (*fancy indexing*)\n",
    "\n",
    "Lorsque qu'on utilise des listes ou des *array* pour définir des tranches : "
   ]
  },
  {
   "cell_type": "code",
   "execution_count": 92,
   "metadata": {},
   "outputs": [
    {
     "name": "stdout",
     "output_type": "stream",
     "text": [
      "[[ 0  1  2  3  4]\n",
      " [10 11 12 13 14]\n",
      " [20 21 22 23 24]\n",
      " [30 31 32 33 34]\n",
      " [40 41 42 43 44]]\n"
     ]
    }
   ],
   "source": [
    "A = np.array([[n + m * 10 for n in range(5)]\n",
    "               for m in range(5)])\n",
    "print(A)"
   ]
  },
  {
   "cell_type": "code",
   "execution_count": 93,
   "metadata": {},
   "outputs": [
    {
     "name": "stdout",
     "output_type": "stream",
     "text": [
      "[[10 11 12 13 14]\n",
      " [20 21 22 23 24]\n",
      " [30 31 32 33 34]]\n"
     ]
    }
   ],
   "source": [
    "row_indices = [1, 2, 3]\n",
    "print(A[row_indices])"
   ]
  },
  {
   "cell_type": "code",
   "execution_count": 99,
   "metadata": {},
   "outputs": [
    {
     "name": "stdout",
     "output_type": "stream",
     "text": [
      "[[13 10]\n",
      " [23 20]]\n"
     ]
    }
   ],
   "source": [
    "print(A[[1, 2]][:, [3, 0]])"
   ]
  },
  {
   "cell_type": "code",
   "execution_count": 100,
   "metadata": {},
   "outputs": [
    {
     "name": "stdout",
     "output_type": "stream",
     "text": [
      "[[ 0  1  2  3  4]\n",
      " [10 11 12 13 14]\n",
      " [20 21 22 23 24]\n",
      " [30 31 32 33 34]\n",
      " [40 41 42 43 44]]\n"
     ]
    }
   ],
   "source": [
    "A[[1, 2]][:, [3, 4]] = 0  # ATTENTION !\n",
    "print(A)"
   ]
  },
  {
   "cell_type": "code",
   "execution_count": 101,
   "metadata": {},
   "outputs": [
    {
     "name": "stdout",
     "output_type": "stream",
     "text": [
      "[[ 0  1  2  3  4]\n",
      " [10 11 12  0  0]\n",
      " [20 21 22  0  0]\n",
      " [30 31 32 33 34]\n",
      " [40 41 42 43 44]]\n"
     ]
    }
   ],
   "source": [
    "A[np.ix_([1, 2], [3, 4])] = 0\n",
    "print(A)"
   ]
  },
  {
   "cell_type": "markdown",
   "metadata": {},
   "source": [
    "On peut aussi utiliser des masques binaires :\n"
   ]
  },
  {
   "cell_type": "code",
   "execution_count": 106,
   "metadata": {},
   "outputs": [
    {
     "data": {
      "text/plain": [
       "array([3.70997966e-01, 4.47595312e-02, 2.05973723e-01, 6.76527149e-02,\n",
       "       8.74986929e-01, 9.15313852e-01, 3.23872814e-01, 2.35037297e-01,\n",
       "       6.94226839e-01, 4.21408811e-01, 9.30523273e-01, 7.14691348e-01,\n",
       "       8.23792937e-01, 7.16463478e-01, 4.06203817e-01, 4.00887507e-02,\n",
       "       6.05557111e-01, 5.76398523e-01, 7.89843427e-02, 7.98335399e-03,\n",
       "       8.43822014e-02, 8.13138978e-01, 4.91608879e-01, 8.45618156e-01,\n",
       "       8.63522311e-01, 9.40732900e-01, 4.12026203e-01, 4.88020988e-01,\n",
       "       2.29348474e-01, 7.07640720e-01, 3.81802517e-01, 9.28202877e-01,\n",
       "       7.29118982e-01, 6.36900370e-01, 4.27057257e-01, 3.29367976e-01,\n",
       "       1.05780875e-01, 5.75694814e-01, 9.13497327e-01, 1.38574066e-01,\n",
       "       3.26334863e-01, 7.37973906e-01, 1.31081632e-01, 2.99200196e-01,\n",
       "       4.86990188e-01, 5.76970086e-01, 8.27099425e-01, 7.05371347e-01,\n",
       "       5.16676058e-01, 7.11919637e-01, 1.93623077e-01, 6.89056796e-01,\n",
       "       1.03077450e-01, 1.61344087e-01, 1.82523234e-01, 6.88806596e-01,\n",
       "       4.07235946e-01, 9.00224775e-01, 9.08437849e-01, 7.81890487e-01,\n",
       "       4.25685614e-01, 2.72752917e-01, 4.76876978e-01, 6.85462441e-01,\n",
       "       4.88893732e-02, 1.40547477e-01, 7.16692138e-01, 7.87501981e-01,\n",
       "       1.15953099e-01, 4.14270522e-02, 6.24431837e-01, 7.75155844e-01,\n",
       "       9.07888291e-01, 4.24208046e-01, 1.21298976e-01, 8.36743098e-01,\n",
       "       9.50208411e-01, 9.89379921e-02, 2.52022926e-01, 8.05859433e-01,\n",
       "       9.41628373e-01, 3.51717848e-01, 5.86122688e-01, 6.33086063e-01,\n",
       "       2.58611286e-01, 9.57444931e-01, 2.31781491e-01, 4.04571526e-01,\n",
       "       1.06240970e-01, 6.35983509e-01, 5.58882949e-01, 8.30961358e-01,\n",
       "       4.13155498e-01, 7.66679451e-01, 6.39115130e-04, 6.18499142e-01,\n",
       "       2.12311006e-01, 3.32510526e-01, 5.92998280e-01, 1.16895454e-01])"
      ]
     },
     "execution_count": 106,
     "metadata": {},
     "output_type": "execute_result"
    }
   ],
   "source": [
    "B = np.random.rand(100)\n",
    "B"
   ]
  },
  {
   "cell_type": "code",
   "execution_count": 108,
   "metadata": {},
   "outputs": [
    {
     "data": {
      "text/plain": [
       "array([False, False, False, False, False,  True, False, False, False,\n",
       "       False,  True, False, False, False, False, False, False, False,\n",
       "       False, False, False, False, False, False, False,  True, False,\n",
       "       False, False, False, False,  True, False, False, False, False,\n",
       "       False, False,  True, False, False, False, False, False, False,\n",
       "       False, False, False, False, False, False, False, False, False,\n",
       "       False, False, False,  True,  True, False, False, False, False,\n",
       "       False, False, False, False, False, False, False, False, False,\n",
       "        True, False, False, False,  True, False, False, False,  True,\n",
       "       False, False, False, False,  True, False, False, False, False,\n",
       "       False, False, False, False, False, False, False, False, False,\n",
       "       False])"
      ]
     },
     "execution_count": 108,
     "metadata": {},
     "output_type": "execute_result"
    }
   ],
   "source": [
    "B > .9"
   ]
  },
  {
   "cell_type": "code",
   "execution_count": 111,
   "metadata": {},
   "outputs": [
    {
     "name": "stdout",
     "output_type": "stream",
     "text": [
      "[0.04475953 0.06765271 0.04008875 0.07898434 0.00798335 0.0843822\n",
      " 0.04888937 0.04142705 0.09893799 0.00063912]\n"
     ]
    }
   ],
   "source": [
    "print(B[B < .1])"
   ]
  },
  {
   "cell_type": "code",
   "execution_count": 112,
   "metadata": {},
   "outputs": [
    {
     "name": "stdout",
     "output_type": "stream",
     "text": [
      "[ True  True False False False]\n",
      "[0 1]\n"
     ]
    }
   ],
   "source": [
    "# ou encore\n",
    "B = np.arange(5)\n",
    "a = np.array([1, 2, 3, 4, 5])\n",
    "print(a < 3)\n",
    "print(B[a < 3])"
   ]
  },
  {
   "cell_type": "markdown",
   "metadata": {},
   "source": [
    "**Exercice 6 :** (*Fancy indexing*)  \n",
    "* Généré un tableau contenant  contenant 100 éléments tirés au hasard selon $\\mathcal U([0, 1])$ (~ `np.random.rand`).\n",
    "* En utilisant l'indexation avancée, sélectionnez au hasard avec répétition 10 éléments de ce tableau.\n",
    "\n",
    "(*Astuce: `np.random.randint(max_int, size=n)` génère n nombres au hasard de 0 à `max_int`*)"
   ]
  },
  {
   "cell_type": "code",
   "execution_count": 115,
   "metadata": {},
   "outputs": [
    {
     "data": {
      "text/plain": [
       "array([0.0798363 , 0.52455502, 0.21922249, 0.1341591 , 0.0708364 ,\n",
       "       0.84893481, 0.55448275, 0.47302285, 0.51781387, 0.14433243,\n",
       "       0.1515431 , 0.21736878, 0.96297208, 0.34671426, 0.52672145,\n",
       "       0.82328046, 0.95846791, 0.43374519, 0.23083201, 0.33388264,\n",
       "       0.22595876, 0.98308155, 0.13395051, 0.99195712, 0.59211926,\n",
       "       0.56587034, 0.708684  , 0.22615544, 0.31828448, 0.70632156,\n",
       "       0.09060548, 0.48973948, 0.62559019, 0.89558921, 0.73706711,\n",
       "       0.674786  , 0.65456345, 0.79359108, 0.35302571, 0.29948921,\n",
       "       0.65033085, 0.97393869, 0.16466555, 0.59395914, 0.37002315,\n",
       "       0.22685285, 0.0247765 , 0.16176339, 0.74470735, 0.37766872,\n",
       "       0.91150496, 0.54232997, 0.77266471, 0.09828672, 0.28102543,\n",
       "       0.1470411 , 0.58786357, 0.97534115, 0.90054626, 0.38541122,\n",
       "       0.05030253, 0.77112584, 0.43141354, 0.11212776, 0.95974073,\n",
       "       0.68366898, 0.00655925, 0.79118113, 0.20455882, 0.13629966,\n",
       "       0.43091677, 0.3339092 , 0.8878336 , 0.49514478, 0.42399637,\n",
       "       0.63078818, 0.1760341 , 0.63633377, 0.73579171, 0.22148098,\n",
       "       0.01288292, 0.53574012, 0.48953068, 0.07136632, 0.51832656,\n",
       "       0.97968681, 0.02638408, 0.81431221, 0.59510084, 0.90399556,\n",
       "       0.93123282, 0.86559741, 0.49422096, 0.51523155, 0.47658848,\n",
       "       0.12117043, 0.40154391, 0.05365296, 0.01099156, 0.60118388])"
      ]
     },
     "execution_count": 115,
     "metadata": {},
     "output_type": "execute_result"
    }
   ],
   "source": [
    "# %load solutions/exo06.py\n",
    "# %%writefile solutions/exo06.py\n",
    "X = np.random.rand(100)\n",
    "X"
   ]
  },
  {
   "cell_type": "code",
   "execution_count": 116,
   "metadata": {},
   "outputs": [
    {
     "name": "stdout",
     "output_type": "stream",
     "text": [
      "[85 66  2  2 47 21 50 75 27  4]\n"
     ]
    }
   ],
   "source": [
    "idx = np.random.randint(100, size=10)\n",
    "print(idx)"
   ]
  },
  {
   "cell_type": "code",
   "execution_count": 119,
   "metadata": {},
   "outputs": [
    {
     "name": "stdout",
     "output_type": "stream",
     "text": [
      "[0.97968681 0.00655925 0.21922249 0.21922249 0.16176339 0.98308155\n",
      " 0.91150496 0.63078818 0.22615544 0.0708364 ]\n"
     ]
    },
    {
     "data": {
      "text/plain": [
       "0.9796868143534339"
      ]
     },
     "execution_count": 119,
     "metadata": {},
     "output_type": "execute_result"
    }
   ],
   "source": [
    "\n",
    "print(X[idx])\n",
    "X[85]\n",
    "\n",
    "# %load solutions/exo06.py"
   ]
  },
  {
   "cell_type": "code",
   "execution_count": 121,
   "metadata": {},
   "outputs": [
    {
     "data": {
      "text/plain": [
       "array([0.62559019, 0.33388264, 0.49422096, 0.23083201, 0.82328046,\n",
       "       0.81431221, 0.05030253, 0.43374519, 0.59395914, 0.38541122])"
      ]
     },
     "execution_count": 121,
     "metadata": {},
     "output_type": "execute_result"
    }
   ],
   "source": [
    "np.random.choice(X, size=10, replace=False)"
   ]
  },
  {
   "cell_type": "markdown",
   "metadata": {},
   "source": [
    "#### where\n",
    "\n",
    "Un masque binaire peut être converti en indices de positions avec `where`"
   ]
  },
  {
   "cell_type": "code",
   "execution_count": null,
   "metadata": {},
   "outputs": [],
   "source": [
    "x = np.arange(0, 10, 0.5)\n",
    "print(x)\n",
    "mask = (x > 5) * (x < 7.5)\n",
    "print(mask)\n",
    "indices = np.where(mask)\n",
    "indices"
   ]
  },
  {
   "cell_type": "code",
   "execution_count": null,
   "metadata": {},
   "outputs": [],
   "source": [
    "x[indices] # équivalent à x[mask]"
   ]
  },
  {
   "cell_type": "markdown",
   "metadata": {},
   "source": [
    "## 1.2 - Opérations sur les tableaux\n",
    "\n",
    "Maintenant que l'on a vu comment créér des tableaux et accéder à leur élément, on va voir les opérations mathématique que l'on peut faire dessus:\n",
    "\n",
    "### 1.2.1 - Opérations scalaires et terme-à-terme\n",
    "\n",
    "On peut effectuer les opérations arithmétiques habituelles pour multiplier, additionner, soustraire et diviser des arrays avec/par des scalaires :"
   ]
  },
  {
   "cell_type": "code",
   "execution_count": 124,
   "metadata": {},
   "outputs": [
    {
     "name": "stdout",
     "output_type": "stream",
     "text": [
      "[1. 1. 1. 1. 1. 1. 1. 1. 1. 1.]\n",
      "[2. 2. 2. 2. 2. 2. 2. 2. 2. 2.]\n",
      "[11. 11. 11. 11. 11. 11. 11. 11. 11. 11.]\n"
     ]
    }
   ],
   "source": [
    "v1 = np.ones(10)\n",
    "print(v1)\n",
    "print(v1 * 2)\n",
    "print(v1 + 10)"
   ]
  },
  {
   "cell_type": "markdown",
   "metadata": {},
   "source": [
    "On peut aussi appliqué des fonctions mathématiques terme-à-terme comme `np.exp`, `np.log`, `np.sqrt`, `np.abs`, `np.sin`, `np.cos`, `np.arctan`, ..."
   ]
  },
  {
   "cell_type": "code",
   "execution_count": 125,
   "metadata": {},
   "outputs": [
    {
     "data": {
      "image/png": "[encoded data removed]",
      "text/plain": [
       "<Figure size 1080x576 with 4 Axes>"
      ]
     },
     "metadata": {
      "needs_background": "light"
     },
     "output_type": "display_data"
    }
   ],
   "source": [
    "x = np.linspace(-2, 2, 101)\n",
    "\n",
    "plt.figure(figsize=(15, 8))\n",
    "\n",
    "plt.subplot(2, 2, 1)\n",
    "plt.plot(x, x + 2,'g--', label='$y = x + 2$')\n",
    "plt.legend(loc=0)\n",
    "\n",
    "plt.subplot(2, 2, 2)\n",
    "plt.plot(x, 2 * x, 'r*-', label='$y = 2x$', markevery=10)\n",
    "plt.legend(loc=2)\n",
    "\n",
    "plt.subplot(2, 2, 3)\n",
    "plt.plot(x, x ** 2, 'bs-', label='$y = x^2$', markevery=10)\n",
    "plt.legend(loc=2)\n",
    "\n",
    "plt.subplot(2, 2, 4)\n",
    "plt.plot(x, np.exp(x), 'ko-', label='$y = \\sqrt{x}$', markevery=10)\n",
    "plt.legend(loc=2)\n",
    "plt.show()"
   ]
  },
  {
   "cell_type": "markdown",
   "metadata": {},
   "source": [
    "**Exercice 7 :** (*Courbe paramétrique*)  \n",
    "Tracer la courbe $x = cos(t)$ et $y=sin(t)$ pour $t \\in [0, 2\\pi]$.  \n",
    "On pourra utiliser la constante $\\pi =$`np.pi`."
   ]
  },
  {
   "cell_type": "code",
   "execution_count": 127,
   "metadata": {},
   "outputs": [
    {
     "data": {
      "text/plain": [
       "<matplotlib.collections.LineCollection at 0x7f5e82a3eba8>"
      ]
     },
     "execution_count": 127,
     "metadata": {},
     "output_type": "execute_result"
    },
    {
     "data": {
      "image/png": "[encoded data removed]",
      "text/plain": [
       "<Figure size 432x288 with 1 Axes>"
      ]
     },
     "metadata": {
      "needs_background": "light"
     },
     "output_type": "display_data"
    }
   ],
   "source": [
    "# %load solutions/exo07.py\n",
    "# %%writefile solutions/exo07.py\n",
    "t = np.linspace(0, 2 * np.pi, 1000)\n",
    "\n",
    "x = np.cos(t)\n",
    "y = np.sin(t)\n",
    "\n",
    "ax = plt.subplot(aspect='equal')\n",
    "ax.plot(x, y)\n",
    "ax.vlines(0, -1, 1)\n",
    "ax.hlines(0, -1, 1)\n",
    "\n",
    "# %load solutions/exo07.py\n"
   ]
  },
  {
   "cell_type": "markdown",
   "metadata": {},
   "source": [
    "Les opérations par défaut entre 2 `array` sont aussi terme-à-terme."
   ]
  },
  {
   "cell_type": "code",
   "execution_count": 128,
   "metadata": {},
   "outputs": [
    {
     "name": "stdout",
     "output_type": "stream",
     "text": [
      "[[ 0  1  2  3  4]\n",
      " [ 5  6  7  8  9]\n",
      " [10 11 12 13 14]\n",
      " [15 16 17 18 19]\n",
      " [20 21 22 23 24]]\n"
     ]
    }
   ],
   "source": [
    "A = np.arange(25).reshape(5, 5)\n",
    "print(A)"
   ]
  },
  {
   "cell_type": "code",
   "execution_count": 129,
   "metadata": {},
   "outputs": [
    {
     "name": "stdout",
     "output_type": "stream",
     "text": [
      "[[  0   1   4   9  16]\n",
      " [ 25  36  49  64  81]\n",
      " [100 121 144 169 196]\n",
      " [225 256 289 324 361]\n",
      " [400 441 484 529 576]]\n"
     ]
    }
   ],
   "source": [
    "print(A * A)"
   ]
  },
  {
   "cell_type": "code",
   "execution_count": 130,
   "metadata": {},
   "outputs": [
    {
     "name": "stdout",
     "output_type": "stream",
     "text": [
      "[[ 0.  3.  6.  9. 12.]\n",
      " [ 3.  6.  9. 12. 15.]\n",
      " [ 6.  9. 12. 15. 18.]\n",
      " [ 9. 12. 15. 18. 21.]\n",
      " [12. 15. 18. 21. 24.]]\n"
     ]
    }
   ],
   "source": [
    "print((A + A.T)/ 2)"
   ]
  },
  {
   "cell_type": "code",
   "execution_count": 133,
   "metadata": {},
   "outputs": [
    {
     "name": "stdout",
     "output_type": "stream",
     "text": [
      "[[0. 0. 0.]\n",
      " [0. 0. 0.]] [[0. 0. 0.]\n",
      " [0. 0. 0.]\n",
      " [0. 0. 0.]\n",
      " [0. 0. 0.]]\n"
     ]
    },
    {
     "ename": "ValueError",
     "evalue": "operands could not be broadcast together with shapes (2,3) (4,3) ",
     "output_type": "error",
     "traceback": [
      "\u001b[0;31m---------------------------------------------------------------------------\u001b[0m",
      "\u001b[0;31mValueError\u001b[0m                                Traceback (most recent call last)",
      "\u001b[0;32m<ipython-input-133-ade4c96e1060>\u001b[0m in \u001b[0;36m<module>\u001b[0;34m\u001b[0m\n\u001b[1;32m      2\u001b[0m \u001b[0mB\u001b[0m \u001b[0;34m=\u001b[0m \u001b[0mnp\u001b[0m\u001b[0;34m.\u001b[0m\u001b[0mzeros\u001b[0m\u001b[0;34m(\u001b[0m\u001b[0;34m(\u001b[0m\u001b[0;36m4\u001b[0m\u001b[0;34m,\u001b[0m \u001b[0;36m3\u001b[0m\u001b[0;34m)\u001b[0m\u001b[0;34m)\u001b[0m\u001b[0;34m\u001b[0m\u001b[0m\n\u001b[1;32m      3\u001b[0m \u001b[0mprint\u001b[0m\u001b[0;34m(\u001b[0m\u001b[0mA\u001b[0m\u001b[0;34m,\u001b[0m \u001b[0mB\u001b[0m\u001b[0;34m)\u001b[0m\u001b[0;34m\u001b[0m\u001b[0m\n\u001b[0;32m----> 4\u001b[0;31m \u001b[0mA\u001b[0m\u001b[0;34m+\u001b[0m\u001b[0mB\u001b[0m\u001b[0;34m\u001b[0m\u001b[0m\n\u001b[0m",
      "\u001b[0;31mValueError\u001b[0m: operands could not be broadcast together with shapes (2,3) (4,3) "
     ]
    }
   ],
   "source": [
    "A = np.zeros((2, 3))\n",
    "B = np.zeros((4, 3))\n",
    "print(A, B)\n",
    "A+B"
   ]
  },
  {
   "cell_type": "markdown",
   "metadata": {},
   "source": [
    "En multipliant des *arrays* de tailles compatibles, on obtient des multiplications terme-à-terme par ligne :"
   ]
  },
  {
   "cell_type": "code",
   "execution_count": 134,
   "metadata": {},
   "outputs": [
    {
     "name": "stdout",
     "output_type": "stream",
     "text": [
      "(5, 6) (6,)\n",
      "[[1. 1. 1. 1. 1. 1.]\n",
      " [1. 1. 1. 1. 1. 1.]\n",
      " [1. 1. 1. 1. 1. 1.]\n",
      " [1. 1. 1. 1. 1. 1.]\n",
      " [1. 1. 1. 1. 1. 1.]]\n",
      "[0 1 2 3 4 5]\n",
      "[[0. 1. 2. 3. 4. 5.]\n",
      " [0. 1. 2. 3. 4. 5.]\n",
      " [0. 1. 2. 3. 4. 5.]\n",
      " [0. 1. 2. 3. 4. 5.]\n",
      " [0. 1. 2. 3. 4. 5.]]\n"
     ]
    }
   ],
   "source": [
    "v1 = np.arange(6)\n",
    "A = np.ones((5, 6))\n",
    "print(A.shape, v1.shape)\n",
    "print(A)\n",
    "print(v1)\n",
    "print(A * v1)"
   ]
  },
  {
   "cell_type": "markdown",
   "metadata": {},
   "source": [
    "De façon plus générale, on peut faire des opérations sur des tableaux de différentes tailles. Dans certains cas, NumPy peut transformer les tableaux pour qu'ils aient la même taille, cette conversion s'appelle le **\"Broadcasting\"**.\n",
    "<img src=\"numpy_broadcasting.png\" width=600>"
   ]
  },
  {
   "cell_type": "code",
   "execution_count": 135,
   "metadata": {},
   "outputs": [
    {
     "name": "stdout",
     "output_type": "stream",
     "text": [
      "[0 1 2 3] (4,)\n",
      "[0 1 2 3 4] (5,)\n"
     ]
    },
    {
     "ename": "ValueError",
     "evalue": "operands could not be broadcast together with shapes (4,) (5,) ",
     "output_type": "error",
     "traceback": [
      "\u001b[0;31m---------------------------------------------------------------------------\u001b[0m",
      "\u001b[0;31mValueError\u001b[0m                                Traceback (most recent call last)",
      "\u001b[0;32m<ipython-input-135-3d15733668bd>\u001b[0m in \u001b[0;36m<module>\u001b[0;34m\u001b[0m\n\u001b[1;32m      3\u001b[0m \u001b[0mprint\u001b[0m\u001b[0;34m(\u001b[0m\u001b[0ma\u001b[0m\u001b[0;34m,\u001b[0m \u001b[0ma\u001b[0m\u001b[0;34m.\u001b[0m\u001b[0mshape\u001b[0m\u001b[0;34m)\u001b[0m\u001b[0;34m\u001b[0m\u001b[0m\n\u001b[1;32m      4\u001b[0m \u001b[0mprint\u001b[0m\u001b[0;34m(\u001b[0m\u001b[0mb\u001b[0m\u001b[0;34m,\u001b[0m \u001b[0mb\u001b[0m\u001b[0;34m.\u001b[0m\u001b[0mshape\u001b[0m\u001b[0;34m)\u001b[0m\u001b[0;34m\u001b[0m\u001b[0m\n\u001b[0;32m----> 5\u001b[0;31m \u001b[0ma\u001b[0m \u001b[0;34m*\u001b[0m \u001b[0mb\u001b[0m\u001b[0;34m\u001b[0m\u001b[0m\n\u001b[0m",
      "\u001b[0;31mValueError\u001b[0m: operands could not be broadcast together with shapes (4,) (5,) "
     ]
    }
   ],
   "source": [
    "a = np.arange(4)\n",
    "b = np.arange(5)\n",
    "print(a, a.shape)\n",
    "print(b, b.shape)\n",
    "a * b"
   ]
  },
  {
   "cell_type": "code",
   "execution_count": 137,
   "metadata": {},
   "outputs": [
    {
     "name": "stdout",
     "output_type": "stream",
     "text": [
      "[[ 0  0  0  0  0]\n",
      " [ 0  1  2  3  4]\n",
      " [ 0  2  4  6  8]\n",
      " [ 0  3  6  9 12]]\n",
      "(4, 1) (1, 5) (4, 5)\n"
     ]
    }
   ],
   "source": [
    "B = b[np.newaxis, :]\n",
    "A = a[:, None]\n",
    "c = A * B\n",
    "print(c)\n",
    "print(A.shape, B.shape, c.shape)"
   ]
  },
  {
   "cell_type": "markdown",
   "metadata": {},
   "source": [
    "Il existe une règle pour savoir dans quel cas on peut faire du \"broadcasting\":\n",
    "**Dans une opération, la taille des axex des deux tableaux doit être soit la même, soit une des deux doit être 1**.\n",
    "Dans la figure ci-dessus, cette règle est respectée:\n",
    "```\n",
    "a:      4 x 3   \n",
    "b:      4 x 3\n",
    "result: 4 x 3\n",
    "\n",
    "a:      4 x 3\n",
    "b:          3\n",
    "result: 4 x 3\n",
    "\n",
    "a:      4 x 1\n",
    "b:          3\n",
    "result: 4 x 3\n",
    "```\n",
    "\n",
    "Que donnerait les deux cas suivant?\n",
    "\n",
    "```\n",
    "Image  (3d array): 256 x 256 x 3\n",
    "Scale  (1d array):             3\n",
    "Result (3d array): \n",
    "\n",
    "A      (4d array):  8 x 1 x 6 x 1\n",
    "B      (3d array):      7 x 1 x 5\n",
    "Result (4d array):  \n",
    "```"
   ]
  },
  {
   "cell_type": "code",
   "execution_count": null,
   "metadata": {},
   "outputs": [],
   "source": []
  },
  {
   "cell_type": "markdown",
   "metadata": {},
   "source": [
    "**Exercice 8 :** (*Opération terme-à-terme*)\n",
    "\n",
    "Sans utiliser de boucles (`for/while`) :\n",
    "\n",
    " * Créer une matrice (5x6) aléatoire\n",
    " * Remplacer une colonne sur deux par sa valeur moins le double de la colonne suivante\n",
    " * Remplacer les valeurs négatives par 0 en utilisant un masque binaire\n"
   ]
  },
  {
   "cell_type": "code",
   "execution_count": null,
   "metadata": {},
   "outputs": [],
   "source": [
    "%load solutions/exo08.py"
   ]
  },
  {
   "cell_type": "markdown",
   "metadata": {},
   "source": [
    "### 1.2.2 - Algèbre matricielle\n",
    "\n",
    "Comment faire des multiplications de matrices ? Deux façons :\n",
    " \n",
    " * en utilisant les fonctions `dot`; (recommandé)\n",
    " * en utiliser l'opérateur `@`."
   ]
  },
  {
   "cell_type": "code",
   "execution_count": null,
   "metadata": {},
   "outputs": [],
   "source": [
    "A = np.array([[n + m * 10 for n in range(5)] for m in range(5)])\n",
    "v1 = np.arange(5)\n",
    "print(A.shape, v1.shape)\n",
    "print(A)\n",
    "print(v1)\n",
    "print(type(A), type(v1))"
   ]
  },
  {
   "cell_type": "code",
   "execution_count": null,
   "metadata": {},
   "outputs": [],
   "source": [
    "print(v1 * v1)  # multiplication élément par élément\n",
    "print(np.dot(v1, v1))  # multiplication matrice\n",
    "print(v1 @ v1)  # multiplication matrice"
   ]
  },
  {
   "cell_type": "code",
   "execution_count": null,
   "metadata": {},
   "outputs": [],
   "source": [
    "A.dot(v1)"
   ]
  },
  {
   "cell_type": "code",
   "execution_count": null,
   "metadata": {},
   "outputs": [],
   "source": [
    "print(A * A)  # multiplication élément par élément\n",
    "print(A @ A)  # multiplication matrice"
   ]
  },
  {
   "cell_type": "markdown",
   "metadata": {},
   "source": [
    "Voir également les fonctions : `inner`, `outer`, `cross`, `kron`, `tensordot`. Utiliser par exemple `help(kron)` ou `kron?`.\n",
    "\n",
    "### 1.2.3 - Algébre de plus haut niveau\n",
    "\n",
    "`numpy` expose aussi des fonctionalités de plus haut niveau telles que les décompositions classique en valeurs propres/singulières, factorisation de Cholesky/QP, ...  \n",
    "Ces fonctionalités sont regroupées dans le module `np.linalg`.  \n",
    "Beaucoup d'outils du calcul scientifique en python, compatible avec `numpy` sont aussi accessibles dans la librairie [`scipy`](https://docs.scipy.org/doc/). Pour plus, d'information, voir [tutorial scipy](http://scipy-lectures.org/).\n",
    "\n",
    "**Exercice 9 :** (*Résolution d'un système linéaire*)  \n",
    "Résoudre le systeme d'équation: $\\begin{cases}3x -2y +z &= 10\\\\x +5y + 10z &= 21\\\\y - z &= -5\\\\\\end{cases}$.  \n",
    "(*Astuce:* utiliser la fonction `np.linalg.inv`)."
   ]
  },
  {
   "cell_type": "code",
   "execution_count": 16,
   "metadata": {},
   "outputs": [
    {
     "name": "stdout",
     "output_type": "stream",
     "text": [
      "Overwriting solutions/exo09.py\n"
     ]
    }
   ],
   "source": [
    "%load solutions/exo09.py"
   ]
  },
  {
   "cell_type": "markdown",
   "metadata": {},
   "source": [
    "### 1.2.4 - Opérations de réduction\n",
    "\n",
    "Enfin, `numpy` propose de opération de réduction sur les tableaux.  \n",
    "Ces opérations calculent une quantité selon un axe en aggrégeant l'information comme par exemple: `np.max`, `np.min`, `np.sum`, `np.mean`, `np.std`, `np.argmax`, ..."
   ]
  },
  {
   "cell_type": "code",
   "execution_count": 24,
   "metadata": {},
   "outputs": [
    {
     "name": "stdout",
     "output_type": "stream",
     "text": [
      "190\n",
      "Moyenne: 9.5 Std: 5.766281297335398 Var: 33.25\n"
     ]
    }
   ],
   "source": [
    "data = np.arange(20)\n",
    "print(data.sum())\n",
    "print(\"Moyenne:\", np.mean(data), \"Std:\", data.std(), \"Var:\", data.var())"
   ]
  },
  {
   "cell_type": "markdown",
   "metadata": {},
   "source": [
    "Par défault, la quantité est évaluer pour le tableau en entier.  \n",
    "Mais pour les tableau multi-dimensionels, il est aussi possible de spécifier la direction de l'opération:"
   ]
  },
  {
   "cell_type": "code",
   "execution_count": 27,
   "metadata": {},
   "outputs": [
    {
     "name": "stdout",
     "output_type": "stream",
     "text": [
      "[[ 0  1  2  3]\n",
      " [ 4  5  6  7]\n",
      " [ 8  9 10 11]\n",
      " [ 9  9  9  9]\n",
      " [16 17 18 19]]\n",
      "Moyenne globale: 8.6\n",
      "Moyennes par colone: [ 1.5  5.5  9.5  9.  17.5]\n",
      "Moyennes par ligne: [7.4 8.2 9.  9.8]\n",
      "Moyenne de la 3e ligne 9.0 9.8\n"
     ]
    }
   ],
   "source": [
    "data = np.arange(20).reshape((5, 4))\n",
    "data[3, :] = 9\n",
    "print(data)\n",
    "\n",
    "# Moyenne globale:\n",
    "print(\"Moyenne globale:\", data.mean())\n",
    "print(\"Moyennes par colone:\", data.mean(axis=1))\n",
    "print(\"Moyennes par ligne:\", data.mean(axis=0))\n",
    "\n",
    "# la moyenne de la troisième colonne\n",
    "print(\"Moyenne de la 3e ligne\", np.mean(data[3, :]), data.mean(axis=0)[3])"
   ]
  },
  {
   "cell_type": "markdown",
   "metadata": {},
   "source": [
    "**Exercice 10 :** (*Blanchiment de donnée*)  \n",
    "Créer un tableau X de taille `100x5` selon une loi normale.  \n",
    "Soustrayer à chaque colone sa moyenne et ladiviser par son écart type."
   ]
  },
  {
   "cell_type": "code",
   "execution_count": 30,
   "metadata": {},
   "outputs": [
    {
     "name": "stdout",
     "output_type": "stream",
     "text": [
      "Overwriting solutions/exo10.py\n"
     ]
    }
   ],
   "source": [
    "%load solutions/exo10.py"
   ]
  },
  {
   "cell_type": "markdown",
   "metadata": {},
   "source": [
    "### 1.2.5 - Concaténer, répéter des `arrays`\n",
    "\n",
    "En utilisant les fonctions `repeat`, `tile`, `vstack`, `hstack`, et `concatenate`, on peut créer des vecteurs/matrices plus grandes à partir de vecteurs/matrices plus petites :"
   ]
  },
  {
   "cell_type": "code",
   "execution_count": 34,
   "metadata": {},
   "outputs": [
    {
     "name": "stdout",
     "output_type": "stream",
     "text": [
      "[[1 2]\n",
      " [3 4]]\n",
      "[1 1 1 2 2 2 3 3 3 4 4 4]\n",
      "[[1 1 1 2 2 2]\n",
      " [3 3 3 4 4 4]]\n",
      "[[1 2 1 2 1 2]\n",
      " [3 4 3 4 3 4]]\n"
     ]
    }
   ],
   "source": [
    "# Repeat et tile:\n",
    "a = np.array([[1, 2], [3, 4]])\n",
    "print(a)\n",
    "# répéter chaque élément 3 fois\n",
    "print(np.repeat(a, 3)) # résultat 1-d\n",
    "\n",
    "# on peut spécifier l'argument axis\n",
    "print(np.repeat(a, 3, axis=1))\n",
    "\n",
    "# répéter la matrice 3 fois\n",
    "print(np.tile(a, 3))"
   ]
  },
  {
   "cell_type": "code",
   "execution_count": 43,
   "metadata": {},
   "outputs": [
    {
     "name": "stdout",
     "output_type": "stream",
     "text": [
      "Add a line\n",
      " [[1 2]\n",
      " [3 4]\n",
      " [5 6]]\n",
      "Vertical\n",
      " [[1 2]\n",
      " [3 4]\n",
      " [5 6]]\n",
      "Add a column\n",
      " [[1 2 5]\n",
      " [3 4 6]]\n",
      "Horizontal\n",
      " [[1 2 5]\n",
      " [3 4 6]]\n"
     ]
    }
   ],
   "source": [
    "# Concatenate\n",
    "b = np.array([[5, 6]])\n",
    "print(\"Add a line\\n\", np.concatenate((a, b), axis=0))\n",
    "print(\"Vertical\\n\", np.vstack((a, b)))\n",
    "\n",
    "# stacking horizontal ou vertical\n",
    "print(\"Add a column\\n\", np.concatenate((a, b.T), axis=1))\n",
    "print(\"Horizontal\\n\", np.hstack((a, b.T)))"
   ]
  },
  {
   "cell_type": "markdown",
   "metadata": {},
   "source": [
    "### 1.2.6 - Itérer sur les éléments d'un array\n",
    "\n",
    " * Dans la mesure du possible, il faut éviter l'itération sur les éléments d'un *array* : c'est beaucoup plus lent que les opérations vectorisées\n",
    " * Mais il arrive que l'on n'ait pas le choix...\n",
    " \n",
    " * Pour obtenir les indices des éléments sur lesquels on itère (par exemple, pour pouvoir les modifier en même temps) on peut utiliser `enumerate` :"
   ]
  },
  {
   "cell_type": "code",
   "execution_count": 49,
   "metadata": {},
   "outputs": [
    {
     "name": "stdout",
     "output_type": "stream",
     "text": [
      "row [1 2]\n",
      "Element 0 -> 1\n",
      "Element 1 -> 2\n",
      "row [3 4]\n",
      "Element 0 -> 3\n",
      "Element 1 -> 4\n"
     ]
    }
   ],
   "source": [
    "M = np.array([[1, 2], [3, 4]])\n",
    "\n",
    "for row in M:\n",
    "    print(\"row\", row)\n",
    "    \n",
    "    for i, element in enumerate(row):\n",
    "        print(f\"Element {i} ->\", element)"
   ]
  },
  {
   "cell_type": "markdown",
   "metadata": {},
   "source": [
    "### 1.2.7 - Utilisation d'`arrays` dans des conditions\n",
    "\n",
    "Losqu'on s'intéresse à des conditions sur tout on une partie d'un `array`, on peut utiliser `any` ou `all` :"
   ]
  },
  {
   "cell_type": "code",
   "execution_count": 50,
   "metadata": {},
   "outputs": [
    {
     "name": "stdout",
     "output_type": "stream",
     "text": [
      "[[1 2]\n",
      " [3 4]]\n",
      "aucun élément de M n'est plus grand que 5\n",
      "tous les éléments de M sont plus petits que 5\n"
     ]
    }
   ],
   "source": [
    "print(M)\n",
    "\n",
    "if (M > 5).any():\n",
    "    print(\"au moins un élément de M est plus grand que 5\")\n",
    "else:\n",
    "    print(\"aucun élément de M n'est plus grand que 5\")\n",
    "\n",
    "\n",
    "if (M > 5).all():\n",
    "    print(\"tous les éléments de M sont plus grands que 5\")\n",
    "else:\n",
    "    print(\"tous les éléments de M sont plus petits que 5\")"
   ]
  },
  {
   "cell_type": "markdown",
   "metadata": {},
   "source": [
    "# 2 - Plus proche moyenne\n",
    "\n",
    "Nous allons maintenant implémenter l'agorithme des [plus proches centroids](https://en.wikipedia.org/wiki/Nearest_centroid_classifier) en pure `numpy`, depuis la génération de donnée jusqu'a la visualisation du résultat.  \n",
    "L'idée de cette algorithme est simple:\n",
    "* A partir de l'ensemble d'entrainement $(X^i, y^i)$, calculer pour chaque classe la moyenne des points de cette classe, *i.e.* $\\bar X_l = \\frac{1}{|C_l|} \\sum_{i\\in C_l} X^i$ où $C_l$ est les indices des points appartenant à la classe $l$.\n",
    "* Pour un point de test $X$, lui assigner la classe $y = \\arg\\min_l \\|X - \\bar X_l\\|_2$.\n",
    "\n",
    "Les étapes à réaliser sont:\n",
    "\n",
    "1) Générer des nuages de points en 2D selon des lois normales de moyennes différentes pour chaque classe.\n",
    "\n",
    "2) Visualiser ces nuages de points\n",
    "\n",
    "3) Diviser les données entre un ensemble d'entrainement et un ensemble de test.\n",
    "\n",
    "4) Entrainer le modèle: calculer les centroids pour chacune des classes\n",
    "\n",
    "5) Utiliser le modèle: prédire les classes des points dans l'ensemble de test.\n",
    "\n",
    "6) Évaluer le modèle: donner la précision et le rappel du modèle.\n"
   ]
  },
  {
   "cell_type": "markdown",
   "metadata": {},
   "source": [
    "### 2.1 - Génération des données\n",
    "\n",
    "On va maintenant utiliser les fonctions que l'on a vu précédement pour générer des données pour notre algorithme de plus proche centroid.  \n",
    "* On va créer des données avec 2 classes : $\\{0, 1\\}$.\n",
    "* Pour la classe $i$, on générera les X associés dans $\\mathbb R^2$ selon la loi normale $\\mathcal N(\\mu_i, \\pmb I_2)$.\n",
    "\n",
    "\n",
    "Procédez selon les étapes suivantes:\n",
    "* Créer 2 vecteurs avec en dimension 2 correspondant aux moyennes de chacune des classes. On commencera avec de moyenne deterministe $\\mu_0 = 0$ et $\\mu_1 = [rho, rho]$ avec $rho=3$.\n",
    "* Concaténer `mu0` et `mu1` en un vecteur `mu` de taille `n_classes` x `n_dims` (Indice: utiliser `np.concatenate`).\n",
    "* Générer un vecteur de classes `y` de taille `n_points=1000` avec des valeurs uniforme dans $\\{0, 1\\}$.\n",
    "* Générer un jeu de donné $X$ avec `n_points=1000` points en dimension `n_dim=2` selon la loi $\\mathcal N(0, \\pmb I_2)$. (*Rappel:* tiré selon une loi normal de covariance $\\pmb I_2$ revient à tirer chaque coordonnée selon une loi normale indépendante.)\n",
    "* Ajouter à chaque point la moyenne correspondant à sa classe\n",
    "* Faire une fonction qui prend en entrée `n_points` et `mu` et qui retourne un jeu de donnée `X, y`."
   ]
  },
  {
   "cell_type": "code",
   "execution_count": null,
   "metadata": {},
   "outputs": [],
   "source": [
    "n_dim = 2\n",
    "n_points = 1000"
   ]
  },
  {
   "cell_type": "code",
   "execution_count": null,
   "metadata": {},
   "outputs": [],
   "source": [
    "%load solutions/exo21.py"
   ]
  },
  {
   "cell_type": "code",
   "execution_count": null,
   "metadata": {},
   "outputs": [],
   "source": [
    "%load solutions/exo22.py"
   ]
  },
  {
   "cell_type": "code",
   "execution_count": null,
   "metadata": {},
   "outputs": [],
   "source": [
    "%load solutions/exo23.py"
   ]
  },
  {
   "cell_type": "markdown",
   "metadata": {},
   "source": [
    "### 2.2 - Visualisation des données\n",
    "\n",
    "Utiliser la fonction `plot_data` pour visualiser les données.  \n",
    "* Afficher les donnés $(X, y)$, avec l'option `alpha=.1`.\n",
    "* Afficher les moyennes avec les mêmes couleurs et l'option `s=256, alpha=1`.\n",
    "Que fait la fonction scatter?\n",
    "\n",
    "Bonus:\n",
    "\n",
    "* Visualiser la fonction de répartition des données à l'aide de `plt.contourf`."
   ]
  },
  {
   "cell_type": "code",
   "execution_count": null,
   "metadata": {},
   "outputs": [],
   "source": [
    "plt.scatter?"
   ]
  },
  {
   "cell_type": "code",
   "execution_count": null,
   "metadata": {},
   "outputs": [],
   "source": [
    "MARKERS = ['^', 's', 'o', 'h', '>', 'v', '*', '+', 'x', '<']\n",
    "CMAP = plt.get_cmap('tab10', 10)\n",
    "\n",
    "def plot_data(X, y, alpha=1, s=36):\n",
    "    \"\"\"Plot the data with color depending on the classes.\n",
    "    \n",
    "    Parameter\n",
    "    =========\n",
    "    X: ndarray, shape (n_points, n_dim)\n",
    "        Point to display\n",
    "    y : ndarray, shape (n_points,)\n",
    "        Classes for each point\n",
    "    alpha: float\n",
    "        Opacity of the points\n",
    "    s: int\n",
    "        Size of the points in pt^2.\n",
    "    \"\"\"\n",
    "    for i in np.unique(y):\n",
    "        plt.scatter(X[y == i, 0], X[y == i, 1], s=s,\n",
    "                    c=CMAP(i % 10), alpha=alpha,\n",
    "                    marker=MARKERS[i % 10])"
   ]
  },
  {
   "cell_type": "code",
   "execution_count": null,
   "metadata": {},
   "outputs": [],
   "source": [
    "%load solutions/exo24.py"
   ]
  },
  {
   "cell_type": "code",
   "execution_count": null,
   "metadata": {},
   "outputs": [],
   "source": [
    "%load solutions/exo25.py"
   ]
  },
  {
   "cell_type": "markdown",
   "metadata": {},
   "source": [
    "### 2.3 - Séparation en ensemble d'entrainement et de test\n",
    "\n",
    "1) Pour les techniques d'apprentissage supervisé, il est necessaire d'utiliser un ensemble pour apprendre le modèle `X_train, y_train` et un ensemble pour l'évaluer `X_test, y_test`. Créer ces 2 ensembles tirant aléatoirement 60% des donnés pour le train et le reste pour le test. On pourra utiliser soit:\n",
    "* Un mask booleen `mask_train` tiré aléatoirement à partir d'une loi uniforme comparée à `0.5`.\n",
    "* La fonction `np.choice` pour créer un ensemble `id_train`\n",
    "\n",
    "2) Écrire une fonction qui prenne en entrée `(X, y)` et retourne 2 ensemble de données `(X_train, y_train)` et `(X_test, y_test)`. On pourra ajouter un paramètre `ratio` (float in [0, 1]) qui donne le rapport de proportion train/test."
   ]
  },
  {
   "cell_type": "code",
   "execution_count": null,
   "metadata": {},
   "outputs": [],
   "source": [
    "%load solutions/exo26.py"
   ]
  },
  {
   "cell_type": "code",
   "execution_count": null,
   "metadata": {},
   "outputs": [],
   "source": [
    "%load solutions/exo27.py"
   ]
  },
  {
   "cell_type": "markdown",
   "metadata": {},
   "source": [
    "### 2.4 - Entrainement de la plus proche moyenne\n",
    "\n",
    "Calculer les moyennes par classes:\n",
    "* On créera d'abord un tableau vide de taille `n_classes` x `n_dim`.\n",
    "* Calculer les moyennes empirique $\\bar \\mu_i = \\sum_{j \\in C_i} X_j$ de `X_train` pour chaque classe $C_i$ .\n",
    "* Afficher les resultats avec la fonction `plot_data`."
   ]
  },
  {
   "cell_type": "code",
   "execution_count": null,
   "metadata": {},
   "outputs": [],
   "source": [
    "%load solutions/exo28.py"
   ]
  },
  {
   "cell_type": "markdown",
   "metadata": {},
   "source": [
    " ### 2.5 - Prédictions\n",
    "\n",
    "Générer les prédicitons à partir de ce modèle pour l'ensemble `X_test`:\n",
    "* Pour chaque classe, calculer la distance de la moyenne empirique $\\bar \\mu_i$ à tous les points et la stockée dans une matrice `C` de taille `n_points` x `n_classes`.\n",
    "* Pour chaque point, prédite $\\bar y = \\arg\\min_i \\| X - \\bar \\mu_i\\|_2^2$\n",
    "* Afficher les resultats avec la fonction `plot_data`."
   ]
  },
  {
   "cell_type": "code",
   "execution_count": null,
   "metadata": {},
   "outputs": [],
   "source": [
    "%load solutions/exo29.py"
   ]
  },
  {
   "cell_type": "markdown",
   "metadata": {},
   "source": [
    "#### Benchmarking a function"
   ]
  },
  {
   "cell_type": "code",
   "execution_count": null,
   "metadata": {},
   "outputs": [],
   "source": [
    "%timeit C = [((X_test - mu_i[None])**2).sum(axis=1) for mu_i in mu]\n",
    "%timeit C = ((X_test[:, None] - mu[None]) ** 2).sum(axis=-1)\n",
    "from scipy.spatial.distance import cdist\n",
    "%timeit C = cdist(X_test, mu)\n",
    "%timeit C = cdist(X_test, mu, 'sqeuclidean')\n",
    "    "
   ]
  },
  {
   "cell_type": "markdown",
   "metadata": {},
   "source": [
    "### 2.6 - Évaluation du model\n",
    "\n",
    "Maintenant que l'on a fait des prédictions, on va calculer l'accuracy du modèle. Évaluer les prédictions du modèle entrainé précédement avec la formule: $P(\\bar y) = \\frac{1}{N}\\sum_{i} 1\\{\\bar y_i = y_i\\}$."
   ]
  },
  {
   "cell_type": "code",
   "execution_count": null,
   "metadata": {},
   "outputs": [],
   "source": [
    "%load solutions/exo30.py"
   ]
  },
  {
   "cell_type": "markdown",
   "metadata": {},
   "source": [
    "### 2.7 - Fonctions\n",
    "\n",
    "On va maintenant regrouper tout ce qu'on a fait auparavent dans des fonctions.\n",
    "\n",
    "1) Faire une fonction `generate_data` qui prend en entrée `n_points` et `mu` et qui retourne un jeu de donnée `X, y` comme généré dans 2.1. On rappelle que:\n",
    "* `mu` est de taille `n_classes` x `n_dim`.\n",
    "* Pour chaque point, `y` est tiré aléatoirement entre `n_classes`.\n",
    "* `X` est généré selon une loi normale de moyenne `mu[y]` et de variance $\\pmb I$.\n",
    "\n",
    "\n",
    "2) Écrire une fonction `split_train_test` qui prenne en entrée `(X, y)` et retourne 2 ensemble de données `(X_train, y_train)` et `(X_test, y_test)`. On pourra ajouter un paramètre `ratio` (float in [0, 1]) qui donne le rapport de proportion train/test.\n",
    "\n",
    "3) Écrire une fonction `fit` qui prenne en entrée `X_train, y_train` et qui renvoie les centroids de chacune des classes `centroids`.\n",
    "\n",
    "4) Écrire une fonction `predict` qui prenne en entrée `X_test` et `centroids` et qui renvoie en sortie la prédiction `y_pred` du modèle.\n",
    "\n",
    "5) Faire une fonction `score` qui prend en entrée un couple `y` et `y_pred` et qui retourne l'accuracy pour ce couple."
   ]
  },
  {
   "cell_type": "code",
   "execution_count": null,
   "metadata": {},
   "outputs": [],
   "source": [
    "%load solutions/func_generate_data.py"
   ]
  },
  {
   "cell_type": "code",
   "execution_count": null,
   "metadata": {},
   "outputs": [],
   "source": [
    "%load solutions/func_split_train_test.py"
   ]
  },
  {
   "cell_type": "code",
   "execution_count": null,
   "metadata": {},
   "outputs": [],
   "source": [
    "%load solutions/func_fit.py"
   ]
  },
  {
   "cell_type": "code",
   "execution_count": null,
   "metadata": {},
   "outputs": [],
   "source": [
    "%load solutions/func_predict.py"
   ]
  },
  {
   "cell_type": "code",
   "execution_count": null,
   "metadata": {},
   "outputs": [],
   "source": [
    "%load solutions/func_score.py"
   ]
  },
  {
   "cell_type": "markdown",
   "metadata": {},
   "source": [
    "### 2.8 - Evaluation du model\n",
    "\n",
    "* Faire jouer les paramètres `n_classes` et `sig`. Quel sont les situations les plus complexes pour le modèle?\n",
    "\n",
    "* Ajouter une ligne dans le second plot avec la performance de la chance.\n",
    "\n",
    "* Est ce que le modèle apprends toujours mieux que la chance? Même pour `sig` petit?"
   ]
  },
  {
   "cell_type": "code",
   "execution_count": null,
   "metadata": {},
   "outputs": [],
   "source": [
    "# Parameters\n",
    "n_classes = 5\n",
    "n_dims = 2\n",
    "n_points = 1000\n",
    "sig = 3\n",
    "\n",
    "\n",
    "# Generate class mean\n",
    "mu = sig * np.random.randn(n_classes, n_dims)\n",
    "\n",
    "list_ratio = np.logspace(-1, 1, 11)\n",
    "\n",
    "X_test, y_test = generate_data(n_points, mu)\n",
    "assert len(np.unique(y_test)) == n_classes\n",
    "\n",
    "plot_data(X_test, y_test, alpha=.1)\n",
    "plot_data(mu, range(n_classes), s=256)\n",
    "\n",
    "plt.figure()\n",
    "score_train = []\n",
    "score_test = []\n",
    "for ratio in list_ratio:\n",
    "    n_train = int(n_points * ratio)\n",
    "    X_train, y_train = generate_data(n_train, mu)\n",
    "    centroids = fit(X_train, y_train)\n",
    "    assert centroids.shape == (n_classes, n_dims)\n",
    "    y_hat_train = predict(X_train, centroids)\n",
    "    y_hat_test = predict(X_test, centroids)\n",
    "    score_train.append(score(y_hat_train, y_train))\n",
    "    score_test.append(score(y_hat_test, y_test))\n",
    "    \n",
    "plt.plot(list_ratio, score_train, label='Train')\n",
    "plt.plot(list_ratio, score_test, label='Test')\n",
    "plt.hlines(score(predict(X_test, mu), y_test),\n",
    "           0, 10, color='k', linestyle='--')\n",
    "plt.xlabel(\"n_train\")\n",
    "plt.xlabel(\"Accuracy\")\n",
    "plt.legend()"
   ]
  },
  {
   "cell_type": "markdown",
   "metadata": {},
   "source": [
    "# 3 - Bonus\n",
    "\n",
    "* **Rajouter un paramètre `var` à la fonction `generate_data`**: ce paramètre encode une covariance différente de $\\pmb I$. On poura utiliser une matrice aléatoire $A$ et prendre $var = A^\\top A$ pour avoir une matrice psd. Visualiser les lignes de niveaux des fonctions de repartitions de des différentes classes.\n",
    "\n",
    "* **Implémenter l'aglorithme du plus proche centroid**: au lieu de prendre la moyenne sur chaque classe, prendre le point dans l'ensemble de train tel que: $\\bar X = \\min_{x \\in X_{train}} \\sum_i \\|x_i - x\\|_2^2$.\n",
    "\n",
    "* **Implémenter l'algorithme des [k-plus proches voisins](https://fr.wikipedia.org/wiki/M%C3%A9thode_des_k_plus_proches_voisins)**: dans ce cas, l'entrainement `fit` n'existe pas. Pour prédire le label de `x`, trouver les k points `idx_k` les plus proches de `x` dans `X_train` et retourner `y_hat` la classe majoritaire dans `y[idx_k]`. Comment les prédictions varient avec le paramètre `k`."
   ]
  },
  {
   "cell_type": "code",
   "execution_count": null,
   "metadata": {},
   "outputs": [],
   "source": []
  }
 ],
 "metadata": {
  "kernelspec": {
   "display_name": "Python 3",
   "language": "python",
   "name": "python3"
  },
  "language_info": {
   "codemirror_mode": {
    "name": "ipython",
    "version": 3
   },
   "file_extension": ".py",
   "mimetype": "text/x-python",
   "name": "python",
   "nbconvert_exporter": "python",
   "pygments_lexer": "ipython3",
   "version": "3.7.0"
  }
 },
 "nbformat": 4,
 "nbformat_minor": 2
}
