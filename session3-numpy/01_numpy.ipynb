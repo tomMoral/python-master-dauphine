{
 "cells": [
  {
   "cell_type": "markdown",
   "metadata": {},
   "source": [
    "# Session 2 - Data manipulation in numpy\n",
    "\n",
    "Dans cette section, nous allons découvrir deux modules indispensables à la programmation scientifique: `numpy` et `matplotlib`. Ces 2 librairies sont les briques de bases sur lesquels de nombreux projets s'appuient. Elles suffisent normalement pour toute analyse de petits jeux de données.\n",
    "\n",
    "\n",
    "* `numpy` est un module utilisé dans presque tous les projets de calcul numérique sous Python:\n",
    "    * Il fournit des structures de données performantes pour la manipulation de vecteurs, matrices et tenseurs plus généraux. C'est l'objet de base pour manipuler de données tabulaires.\n",
    "    * `numpy` est écrit en C et en Fortran d'où ses performances élevées lorsque les calculs sont vectorisés (formulés comme des opérations sur des vecteurs/matrices).\n",
    "\n",
    "\n",
    "* `matplotlib` est un module performant pour la génération de graphiques en 2D et 3D:\n",
    "   * syntaxe très proche de celle de Matlab,\n",
    "   * supporte texte et étiquettes en $\\LaTeX$,\n",
    "   * sortie de qualité dans divers formats (PNG, PDF, SV, EPS...),\n",
    "   * interface graphique interactive pour explorer les figures.\n",
    "\n",
    "\n",
    "Pour utiliser `numpy` et `matplotlib` il faut commencer par les importer :"
   ]
  },
  {
   "cell_type": "code",
   "execution_count": null,
   "metadata": {},
   "outputs": [],
   "source": [
    "import numpy as np\n",
    "import matplotlib.pyplot as plt"
   ]
  },
  {
   "cell_type": "markdown",
   "metadata": {},
   "source": [
    "### Quelques rappels sur l'utilisation de `jupyter`\n",
    "\n",
    "Quelques commandes de bases pour s'aider à trouver les informations:\n",
    "\n",
    "- Dans le mode selection de cellule (*cellule bleue*): `h` montre les racourcis claviers.\n",
    "- Dans le mode édition de cellule (*cellule verte*):\n",
    "    - `np?` affiche l'aide du module `numpy`.\n",
    "    - `np.` puis `tab` affiche les fonctions et les variable disponible dans le module `numpy`.\n",
    "    - `np.array?` affiche la documentation de la fonction `array` du module `numpy`.\n",
    "    - `%timeit` permet de mesurer la durée du temps pour executer la suite  de la ligne.\n"
   ]
  },
  {
   "cell_type": "code",
   "execution_count": null,
   "metadata": {},
   "outputs": [],
   "source": [
    "np.array?"
   ]
  },
  {
   "cell_type": "markdown",
   "metadata": {},
   "source": [
    "# Les tableaux `numpy`\n",
    "\n",
    "Dans la terminologie `numpy`, vecteurs, matrices et autres tenseurs sont appelés `arrays`.\n",
    "Pour créer un `array`, il existe plusieurs possibilités:\n",
    "\n",
    " * à partir de listes ou tuples.\n",
    " * en utilisant des fonctions dédiées, telles que `arange`, `linspace`, etc.\n",
    " * par chargement à partir de fichiers.\n",
    "\n",
    "## 1 - Création et manipulation de tableaux\n",
    "\n",
    "\n",
    "### 1.1 - A partir de listes\n",
    "\n",
    "On peut créer un `array` en une dimension à partir d'une liste python classique, au moyen de la fonction `numpy.array` :"
   ]
  },
  {
   "cell_type": "code",
   "execution_count": null,
   "metadata": {
    "scrolled": true
   },
   "outputs": [],
   "source": [
    "# un vecteur: l'argument de la fonction est une liste Python\n",
    "v = np.array([1, 3, 2, 4])\n",
    "print(v)\n",
    "print(type(v))\n",
    "v"
   ]
  },
  {
   "cell_type": "markdown",
   "metadata": {},
   "source": [
    "On peut utiliser la librairie `matplotlib` pour visualiser des tableaux 1D sous la forme de courbe:"
   ]
  },
  {
   "cell_type": "code",
   "execution_count": null,
   "metadata": {},
   "outputs": [],
   "source": [
    "v = np.array([1, 3, 2, 4])\n",
    "x = np.array([0, 1, 2, 3])\n",
    "\n",
    "# Crée une nouvelle figure\n",
    "plt.figure()\n",
    "\n",
    "# Dessine la courbe v en fonction de x\n",
    "# 'rv--' <=> color='red', marker='v', linestyle='dashed', \n",
    "# label -> utilisé pour la légende\n",
    "plt.plot(x, v, color='red', marker='+',\n",
    "         linestyle='dashed', label='v(x)')\n",
    "plt.plot(v, x, color='blue', marker='o',\n",
    "         linestyle='solid', label='x(v)')\n",
    "\n",
    "# Rajoute une legende dans le coin en bas à droite\n",
    "plt.legend(loc='lower right')\n",
    "\n",
    "# Met une legende pour les axes\n",
    "plt.xlabel('x')\n",
    "plt.ylabel('v')\n",
    "\n",
    "# Rajoute un titre\n",
    "plt.title('Mon titre')\n",
    "\n",
    "# Définie les limites des axes\n",
    "plt.xlim([-1, 4])\n",
    "plt.ylim([0, 5])\n",
    "\n",
    "# Dans un script non-interactif, montre la figure et met en pause le script\n",
    "# plt.show()\n",
    "\n",
    "# Sauve la figure sous la forme d'un `png`\n",
    "plt.savefig('toto.png')\n",
    "! ls"
   ]
  },
  {
   "cell_type": "markdown",
   "metadata": {},
   "source": [
    "La librairie `matplotlib` est très riche (et complexe). Il existe une [documentation fournie avec de nombreux d'exemples](https://matplotlib.org/). Le plus simple est souvent de chercher un exemple qui fait quelques choses de simlaire et regarder comment le faire."
   ]
  },
  {
   "cell_type": "markdown",
   "metadata": {},
   "source": [
    "#### Tableau multi-dimensionels\n",
    "\n",
    "On peut aussi créer de tableau en plus grande dimension, comme des matrices ou des tenseurs, avec des listes imbriquées:"
   ]
  },
  {
   "cell_type": "code",
   "execution_count": null,
   "metadata": {},
   "outputs": [],
   "source": [
    "M = np.array([[1, 0], [3, 2]])\n",
    "print(M)\n",
    "print(type(M))"
   ]
  },
  {
   "cell_type": "markdown",
   "metadata": {},
   "source": [
    "Les matrices peuvent être visualisées comme des images avec les fonctions `matshow` et `imshow` de `matplotlib`."
   ]
  },
  {
   "cell_type": "code",
   "execution_count": null,
   "metadata": {},
   "outputs": [],
   "source": [
    "# On enlève les axes de la figure avec `plt.axis('off')`\n",
    "plt.imshow(M)\n",
    "plt.axis('off')\n",
    "\n",
    "# Les axes sont modifiés directement par `matshow`\n",
    "plt.matshow(M)"
   ]
  },
  {
   "cell_type": "code",
   "execution_count": null,
   "metadata": {},
   "outputs": [],
   "source": [
    "T = np.array([[[[1, 2], [3, 4]],\n",
    "                [[5, 6], [7, 8]]],\n",
    "              [[[9, 10], [11, 12]],\n",
    "               [[13, 14], [15, 16]]]])\n",
    "print(T)\n",
    "print(type(T))"
   ]
  },
  {
   "cell_type": "markdown",
   "metadata": {},
   "source": [
    "#### Attribut d'un `array`\n",
    "\n",
    "L'object `array` dispose de plusieurs attributs qui renseignent des informations sur son contenu. On peut ainsi accéder à la taille total du vecteur et au type d'élément dans le vecteur à partir des attributs `size`, `nbytes` et `dtype`:"
   ]
  },
  {
   "cell_type": "code",
   "execution_count": null,
   "metadata": {
    "scrolled": true
   },
   "outputs": [],
   "source": [
    "print(\"Taille du vecteur v: {}\".format(v.size))\n",
    "print(\"Type de donnée du vecteur v: {}\".format(v.dtype))\n",
    "print(\"Taille en bytes du vecteur v: {}\".format(v.nbytes))"
   ]
  },
  {
   "cell_type": "markdown",
   "metadata": {},
   "source": [
    "Les tableaux multi-dimensionels sont aussi de type `array`.  \n",
    "Ils exposent donc les même attributs `size` et `dtype`:"
   ]
  },
  {
   "cell_type": "code",
   "execution_count": null,
   "metadata": {},
   "outputs": [],
   "source": [
    "print(\"M is a matrix with size={} and dtype={}\"\n",
    "      .format(M.size, M.dtype))\n",
    "print(\"T is a tensor with size={} and dtype={}\"\n",
    "      .format(T.size, T.dtype))"
   ]
  },
  {
   "cell_type": "markdown",
   "metadata": {},
   "source": [
    "**Exercice 1 :** (*Créé un tableau avec une liste*)  \n",
    "* Créer un simple tableau à 2 dimensions (contenant les éléments que vous voulez).  \n",
    "* Utiliser les fonctions `len()`, `np.shape()` sur votre tableau. Comment sont elles reliées? comment est ce relié à l'attribut `ndim`?"
   ]
  },
  {
   "cell_type": "code",
   "execution_count": null,
   "metadata": {},
   "outputs": [],
   "source": [
    "# %load solutions/exo01.py"
   ]
  },
  {
   "cell_type": "markdown",
   "metadata": {},
   "source": [
    "Ce qui les distingues, ce sont le nombre de leur dimension `ndim` et leur forme `shape`:"
   ]
  },
  {
   "cell_type": "code",
   "execution_count": null,
   "metadata": {},
   "outputs": [],
   "source": [
    "print(\"v est un array de dimension {} avec une shape={}\"\n",
    "      .format(v.ndim, v.shape))\n",
    "print(\"M est un array de dimension {} avec une shape={}\"\n",
    "      .format(M.ndim, M.shape))\n",
    "print(\"T est un array de dimension {} avec une shape={}\"\n",
    "      .format(T.ndim, T.shape))"
   ]
  },
  {
   "cell_type": "markdown",
   "metadata": {},
   "source": [
    "La `shape` d'un tableau peut être manipuler à grace à la fonction `reshape`."
   ]
  },
  {
   "cell_type": "code",
   "execution_count": null,
   "metadata": {},
   "outputs": [],
   "source": [
    "v = np.array([ 0,  1,  2,  3,  4,  5,  6,  7,  8,  9, 10, 11])\n",
    "print(\"v is shape:\", v.shape)"
   ]
  },
  {
   "cell_type": "code",
   "execution_count": null,
   "metadata": {},
   "outputs": [],
   "source": [
    "M = v.reshape(3, 4)\n",
    "print(\"M is shape {} while v is still shape {}\"\n",
    "      .format(M.shape, v.shape))"
   ]
  },
  {
   "cell_type": "code",
   "execution_count": null,
   "metadata": {},
   "outputs": [],
   "source": [
    "M = v.reshape(3, -1)\n",
    "print(\"M is shape:\", M.shape)"
   ]
  },
  {
   "cell_type": "code",
   "execution_count": null,
   "metadata": {},
   "outputs": [],
   "source": [
    "T = v.reshape(1, 2, 3, 2, 1)\n",
    "print(\"T is shape:\", T.shape)"
   ]
  },
  {
   "cell_type": "code",
   "execution_count": null,
   "metadata": {},
   "outputs": [],
   "source": [
    "# This will trow an error as we do keep all values in v\n",
    "# when we reshape it.\n",
    "v.reshape(3, 3)"
   ]
  },
  {
   "cell_type": "markdown",
   "metadata": {},
   "source": [
    "#### Indexation des données\n",
    "\n",
    "Comme pour les listes, on utilise les crochets pour accéder à un élément du tableau. L'indexation commence à `0` aussi. On peut aussi assigner des éléments directements:"
   ]
  },
  {
   "cell_type": "code",
   "execution_count": null,
   "metadata": {},
   "outputs": [],
   "source": [
    "print(v)\n",
    "print(v[0], v[1])"
   ]
  },
  {
   "cell_type": "code",
   "execution_count": null,
   "metadata": {
    "scrolled": false
   },
   "outputs": [],
   "source": [
    "v[2] = 42\n",
    "print(v)"
   ]
  },
  {
   "cell_type": "markdown",
   "metadata": {},
   "source": [
    "Pour les tableaux multi-dimensionnels, l'indexation renvoie aussi un `array` qui peut lui même être indexé. Une notation rapide avec des virgules est aussi possible:"
   ]
  },
  {
   "cell_type": "code",
   "execution_count": null,
   "metadata": {},
   "outputs": [],
   "source": [
    "print(M[0])"
   ]
  },
  {
   "cell_type": "code",
   "execution_count": null,
   "metadata": {},
   "outputs": [],
   "source": [
    "print(\"type(M[0]) = {}\".format(type(M[0])))"
   ]
  },
  {
   "cell_type": "code",
   "execution_count": null,
   "metadata": {},
   "outputs": [],
   "source": [
    "print(\"M[0][1] = {}\".format(M[0][1]))"
   ]
  },
  {
   "cell_type": "code",
   "execution_count": null,
   "metadata": {},
   "outputs": [],
   "source": [
    "print(M[1])\n",
    "print(\"M[1, 0] = {}\".format(M[1, 0]))"
   ]
  },
  {
   "cell_type": "markdown",
   "metadata": {},
   "source": [
    "**Exercice 2 :** (*Indexation des donnés*)  \n",
    "* Modifier le tableau `v` pour que son 3e élément soit égale à 0.\n",
    "* Modifier le tableau `v` pour que son dernier élément soit égale à 10."
   ]
  },
  {
   "cell_type": "code",
   "execution_count": null,
   "metadata": {},
   "outputs": [],
   "source": [
    "# %load solutions/exo02.py"
   ]
  },
  {
   "cell_type": "markdown",
   "metadata": {},
   "source": [
    "#### Type de donnée"
   ]
  },
  {
   "cell_type": "code",
   "execution_count": null,
   "metadata": {},
   "outputs": [],
   "source": [
    "# Par default, le type des données est float64\n",
    "v_float = np.array([1., 3.1, 2.5, 4., 0., 8.])\n",
    "print(v_float)\n",
    "print(\"Type de donnée du vecteur v_float: {}\"\n",
    "      .format(v_float.dtype))\n",
    "print(\"Taille en bytes vecteur v_float: 6 x 8 = {}\\n\"\n",
    "      .format(v_float.nbytes))"
   ]
  },
  {
   "cell_type": "markdown",
   "metadata": {},
   "source": [
    "À la création de l'`array`, on peut préciser de quelle type de donnée il s'agit avec l'argument `dtype`:\n",
    " * Types possibles avec `dtype` : `int`, `float`, `complex`, `bool`, `object`, etc."
   ]
  },
  {
   "cell_type": "markdown",
   "metadata": {},
   "source": [
    "On peut aussi créé des tableaux avec des types de données différents:"
   ]
  },
  {
   "cell_type": "code",
   "execution_count": null,
   "metadata": {},
   "outputs": [],
   "source": [
    "# On peut les convertir en entier -> perte de la partie décimale\n",
    "v_int = np.array([1., 3.1, 2.5, 4., 0., 8.], dtype=int)\n",
    "print(v_int)\n",
    "print(\"Type de donnée du vecteur v_int: {}\"\n",
    "      .format(v_int.dtype))\n",
    "print(\"Taille en bytes vecteur v_int: 6 x 8 = {}\\n\"\n",
    "      .format(v_int.nbytes))"
   ]
  },
  {
   "cell_type": "markdown",
   "metadata": {},
   "source": [
    " * On peut aussi spécifier la précision en bits: `int64`, `int16`, `float128`, `complex128`."
   ]
  },
  {
   "cell_type": "code",
   "execution_count": null,
   "metadata": {},
   "outputs": [],
   "source": [
    "# On peut les convertirs en float32 -> moins précis mais moins gros en mémoire\n",
    "v_int32 = np.array([1., 3.1, 2.5, 4., 0., 8.], dtype=np.float32)\n",
    "print(v_int32)\n",
    "print(\"Type de donnée du vecteur v_int: {}\"\n",
    "      .format(v_int32.dtype))\n",
    "print(\"Taille en bytes vecteur v_int: 6 x 4 = {}\\n\"\n",
    "      .format(v_int32.nbytes))"
   ]
  },
  {
   "cell_type": "markdown",
   "metadata": {},
   "source": [
    "**Attention !** Une fois le type fixé, les données qui sont stockées dans le vecteur sont toutes du même type."
   ]
  },
  {
   "cell_type": "code",
   "execution_count": null,
   "metadata": {},
   "outputs": [],
   "source": [
    "v = np.array([1, 2, 3, 4])\n",
    "v[0] = 3.2\n",
    "print(v)\n",
    "print(\"dtype de v:\", v.dtype)"
   ]
  },
  {
   "cell_type": "markdown",
   "metadata": {},
   "source": [
    "Le type des éléments doit rester le même lors de l'assignement. On ne peut donc pas assigner un élément qui ne peut pas être converti dans le `dtype` du tableau."
   ]
  },
  {
   "cell_type": "code",
   "execution_count": null,
   "metadata": {},
   "outputs": [],
   "source": [
    "v[0] = \"heloo\""
   ]
  },
  {
   "cell_type": "markdown",
   "metadata": {},
   "source": [
    "On peut cependant obtenir une copie l'`array` avec le bon type grace à la méthode `astype`:"
   ]
  },
  {
   "cell_type": "code",
   "execution_count": null,
   "metadata": {},
   "outputs": [],
   "source": [
    "v_float = v.astype(float)\n",
    "v_float[0] = 3.2\n",
    "print(v_float, \"dtype =\", v_float.dtype)"
   ]
  },
  {
   "cell_type": "markdown",
   "metadata": {},
   "source": [
    "### 1.2 - A partir de fonctions spéciales\n",
    "\n",
    "\n",
    "#### Tableaux constants\n",
    "On peut créer des `array` à partir de fonctions spéciales:  \n",
    "`np.zeros`, `np.ones`, `np.empty`, `np.eye`, ...\n",
    "\n",
    "Toutes ces fonctions prennent comme premier argument `shape`.  \n",
    "\n",
    "**Exercice 3 :** (*Générer des tableaux de constantes*)  \n",
    "Utiliser les fonctions `np.zeros`, `np.ones` et `np.eye` pour répondre au question suivante:"
   ]
  },
  {
   "cell_type": "code",
   "execution_count": null,
   "metadata": {},
   "outputs": [],
   "source": [
    "# %load solutions/exo03.py"
   ]
  },
  {
   "cell_type": "code",
   "execution_count": null,
   "metadata": {},
   "outputs": [],
   "source": [
    "np.zeros?"
   ]
  },
  {
   "cell_type": "code",
   "execution_count": null,
   "metadata": {},
   "outputs": [],
   "source": [
    "# Généré un tableau de 1 de taille 10, puis de taille 2x3x2\n",
    "v1 = np.ones(10)\n",
    "M1 = np.ones((2, 3, 2))\n",
    "print(\"1 vector of size: {}\\n\".format(v1.shape), v1)\n",
    "print(\"1 tensor of size: {}\\n\".format(M1.shape), M1)\n",
    "assert v1.shape == (10,)\n",
    "assert M1.shape == (2, 3, 2)\n",
    "assert np.all(M1 == 1)"
   ]
  },
  {
   "cell_type": "code",
   "execution_count": null,
   "metadata": {},
   "outputs": [],
   "source": [
    "# Généré la matrice identité de taille 4x4\n",
    "I = np.eye(4)\n",
    "print(\"Id matrix of size: {}\\n\".format(I.shape), I)"
   ]
  },
  {
   "cell_type": "markdown",
   "metadata": {},
   "source": [
    "#### Générer des intervales\n",
    "\n",
    "Les fonctions `arange` et `linspace` peuvent être utilisée pour générer des données séquentielles:"
   ]
  },
  {
   "cell_type": "code",
   "execution_count": null,
   "metadata": {},
   "outputs": [],
   "source": [
    "# create a range\n",
    "x1 = np.arange(0, 21, 2) # arguments: start, stop, step\n",
    "print(\"Valeurs paires de 0 à 20:\", x1)"
   ]
  },
  {
   "cell_type": "code",
   "execution_count": null,
   "metadata": {},
   "outputs": [],
   "source": [
    "# un tableau avec un pas non entier:\n",
    "x2 = np.arange(-1, 1, 0.1)\n",
    "print(\"Valeurs entre -1 et 1, tous les .1:\", x2)"
   ]
  },
  {
   "cell_type": "code",
   "execution_count": null,
   "metadata": {},
   "outputs": [],
   "source": [
    "# un tableau avec un pas négatif:\n",
    "x3 = np.arange(100, -1, -1)\n",
    "print(\"Valeurs de 100 à 0\", x3)"
   ]
  },
  {
   "cell_type": "markdown",
   "metadata": {},
   "source": [
    "**Exercice 4 :** (Générer de interval*)  \n",
    "Recréer les mêmes tableaux avec la fonction `np.linspace`"
   ]
  },
  {
   "cell_type": "code",
   "execution_count": null,
   "metadata": {},
   "outputs": [],
   "source": [
    "# %load solutions/exo04.py"
   ]
  },
  {
   "cell_type": "code",
   "execution_count": null,
   "metadata": {},
   "outputs": [],
   "source": [
    "# Créer un tableau avec les valeurs entre -1 et 1, tous les .1:\n",
    "l2 = np.linspace(-1, .9, 20)\n",
    "assert np.allclose(l2, x2)\n",
    "print(l2)"
   ]
  },
  {
   "cell_type": "code",
   "execution_count": null,
   "metadata": {},
   "outputs": [],
   "source": [
    "# Créer un tableau avec les valeurs de 100 à 0:\n",
    "l3 = np.linspace(100, 0, 101)\n",
    "assert np.allclose(l3, x3)\n",
    "print(l3)"
   ]
  },
  {
   "cell_type": "markdown",
   "metadata": {},
   "source": [
    "#### Générer des tableaux aléatoires\n",
    "\n",
    "Pour généré des tableaux plus complex, on peut utiliser le module `np.random` de `numpy`.  \n",
    "Ce module implémente principalement 2 générateurs de nombre aléatoire:\n",
    "\n",
    "* **Uniforme:** `np.random.rand` génère des nombres tirés uniformément dans $[0, 1]$.\n",
    "* **Normale:** `np.random.randn` génère des nombres tirés selon une loi normale $\\mathcal N(0, 1)$.\n",
    "\n",
    "Il expose aussi des fonctions de plus haut niveau pour différentes lois de probabilité."
   ]
  },
  {
   "cell_type": "code",
   "execution_count": null,
   "metadata": {},
   "outputs": [],
   "source": [
    "np.random.rand(5, 5)"
   ]
  },
  {
   "cell_type": "code",
   "execution_count": null,
   "metadata": {},
   "outputs": [],
   "source": [
    "np.random.randn(5, 5)"
   ]
  },
  {
   "cell_type": "code",
   "execution_count": null,
   "metadata": {},
   "outputs": [],
   "source": [
    "a = np.random.randn(100000)\n",
    "hh = plt.hist(a, bins=100)"
   ]
  },
  {
   "cell_type": "markdown",
   "metadata": {},
   "source": [
    "### 1.3 - A partir d'un fichier: I/O pour les `array`\n",
    "\n",
    "#### Fichiers séparés par des virgules (CSV)\n",
    "\n",
    "Un format fichier classique est le format CSV (comma-separated values), ou bien TSV (tab-separated values). Pour lire de tels fichiers, on peut utiliser `numpy.genfromtxt`. Par exemple:"
   ]
  },
  {
   "cell_type": "code",
   "execution_count": null,
   "metadata": {},
   "outputs": [],
   "source": [
    "!cat data/2_numpy_data.csv"
   ]
  },
  {
   "cell_type": "code",
   "execution_count": null,
   "metadata": {},
   "outputs": [],
   "source": [
    "data = np.genfromtxt('data/2_numpy_data.csv', delimiter=',')\n",
    "data"
   ]
  },
  {
   "cell_type": "markdown",
   "metadata": {},
   "source": [
    "A l'aide de `numpy.savetxt` on peut enregistrer un *array* `numpy` dans un fichier txt:"
   ]
  },
  {
   "cell_type": "code",
   "execution_count": null,
   "metadata": {},
   "outputs": [],
   "source": [
    "M = np.random.rand(3,3)\n",
    "print(M)"
   ]
  },
  {
   "cell_type": "code",
   "execution_count": null,
   "metadata": {},
   "outputs": [],
   "source": [
    "np.savetxt(\"random-matrix.txt\", M, delimiter=';')\n",
    "!cat random-matrix.txt"
   ]
  },
  {
   "cell_type": "code",
   "execution_count": null,
   "metadata": {},
   "outputs": [],
   "source": [
    "np.savetxt(\"random-matrix.csv\", M, fmt='%.5f', delimiter=';') # fmt spécifie le format\n",
    "\n",
    "!cat random-matrix.csv"
   ]
  },
  {
   "cell_type": "markdown",
   "metadata": {},
   "source": [
    "### 1.4 - Indexing des tableaux\n",
    "\n",
    "Comme les listes, les tableaux élément des tableaux peuvent être séléctioné avec du slicing.\n",
    "*Slicing* fait référence à la syntaxe `M[start:stop:step]` pour extraire une partie d'un *array*:"
   ]
  },
  {
   "cell_type": "code",
   "execution_count": null,
   "metadata": {},
   "outputs": [],
   "source": [
    "v = np.arange(5)\n",
    "v = np.arange(0, 5, 1)\n",
    "print(v)"
   ]
  },
  {
   "cell_type": "code",
   "execution_count": null,
   "metadata": {},
   "outputs": [],
   "source": [
    "print(\"Indices de début, fin, et pas avec leurs valeurs\"\n",
    "      \" par défaut:\\n\", v[::])"
   ]
  },
  {
   "cell_type": "code",
   "execution_count": null,
   "metadata": {},
   "outputs": [],
   "source": [
    "print(\"Pas de 2:\", v[::2])"
   ]
  },
  {
   "cell_type": "code",
   "execution_count": null,
   "metadata": {},
   "outputs": [],
   "source": [
    "print(\"Les 3 premiers éléments:\", v[:3])\n",
    "print(\"A partir de l'indice 2:\", v[2:])"
   ]
  },
  {
   "cell_type": "markdown",
   "metadata": {},
   "source": [
    "De la même manière, chaque dimension du tableau peut être *slicée*:"
   ]
  },
  {
   "cell_type": "code",
   "execution_count": null,
   "metadata": {},
   "outputs": [],
   "source": [
    "M = np.arange(12).reshape(4, 3)\n",
    "print(M)"
   ]
  },
  {
   "cell_type": "code",
   "execution_count": null,
   "metadata": {},
   "outputs": [],
   "source": [
    "print(\"On selectionne une ligne sur 2 et pas la\"\n",
    "      \" 1ere colone:\\n\", M[::2, 1:])"
   ]
  },
  {
   "cell_type": "code",
   "execution_count": null,
   "metadata": {},
   "outputs": [],
   "source": [
    "print(\"On selectionne les lignes 1 et 2 et uniquement la dernière colone:\\n\",\n",
    "      M[1:3, :1])"
   ]
  },
  {
   "cell_type": "markdown",
   "metadata": {},
   "source": [
    "Les slices (ou tranches) sont modifiables :"
   ]
  },
  {
   "cell_type": "code",
   "execution_count": null,
   "metadata": {},
   "outputs": [],
   "source": [
    "M[1::2, -1:1:-1] = 1000\n",
    "print(M)"
   ]
  },
  {
   "cell_type": "markdown",
   "metadata": {},
   "source": [
    "**Exercice 5 :** (*le plateau d'échec*)\n",
    "\n",
    "Créez un tableau de zéros et le remplir pour obtenir un motif de plateau d'échec de dimension 8x8.\n",
    "<img src=\"image/checkerboard.svg\" width=300, height=300>"
   ]
  },
  {
   "cell_type": "code",
   "execution_count": null,
   "metadata": {},
   "outputs": [],
   "source": [
    "# %load solutions/exo05.py"
   ]
  },
  {
   "cell_type": "markdown",
   "metadata": {},
   "source": [
    "#### Indexation avancée (*fancy indexing*)\n",
    "\n",
    "Lorsque qu'on utilise des listes ou des *array* pour définir des tranches : "
   ]
  },
  {
   "cell_type": "code",
   "execution_count": null,
   "metadata": {},
   "outputs": [],
   "source": [
    "A = np.array([[n + m * 10 for n in range(5)]\n",
    "               for m in range(5)])\n",
    "print(A)"
   ]
  },
  {
   "cell_type": "code",
   "execution_count": null,
   "metadata": {},
   "outputs": [],
   "source": [
    "row_indices = [1, 2, 3]\n",
    "print(A[row_indices])"
   ]
  },
  {
   "cell_type": "code",
   "execution_count": null,
   "metadata": {},
   "outputs": [],
   "source": [
    "print(A[[1, 2]][:, [3, 0]])"
   ]
  },
  {
   "cell_type": "code",
   "execution_count": null,
   "metadata": {},
   "outputs": [],
   "source": [
    "A[[1, 2]][:, [3, 4]] = 0  # ATTENTION !\n",
    "print(A)"
   ]
  },
  {
   "cell_type": "code",
   "execution_count": null,
   "metadata": {},
   "outputs": [],
   "source": [
    "A[np.ix_([1, 2], [3, 4])] = 0\n",
    "print(A)"
   ]
  },
  {
   "cell_type": "markdown",
   "metadata": {},
   "source": [
    "On peut aussi utiliser des masques binaires :\n"
   ]
  },
  {
   "cell_type": "code",
   "execution_count": null,
   "metadata": {},
   "outputs": [],
   "source": [
    "B = np.random.rand(100)\n",
    "B"
   ]
  },
  {
   "cell_type": "code",
   "execution_count": null,
   "metadata": {},
   "outputs": [],
   "source": [
    "B > .9"
   ]
  },
  {
   "cell_type": "code",
   "execution_count": null,
   "metadata": {},
   "outputs": [],
   "source": [
    "print(B[B < .1])"
   ]
  },
  {
   "cell_type": "code",
   "execution_count": null,
   "metadata": {},
   "outputs": [],
   "source": [
    "# ou encore\n",
    "B = np.arange(5)\n",
    "a = np.array([1, 2, 3, 4, 5])\n",
    "print(a < 3)\n",
    "print(B[a < 3])"
   ]
  },
  {
   "cell_type": "markdown",
   "metadata": {},
   "source": [
    "**Exercice 6 :** (*Fancy indexing*)  \n",
    "* Généré un tableau contenant  contenant 100 éléments tirés au hasard selon $\\mathcal U([0, 1])$ (~ `np.random.rand`).\n",
    "* En utilisant l'indexation avancée, sélectionnez au hasard avec répétition 10 éléments de ce tableau.\n",
    "\n",
    "(*Astuce: `np.random.randint(max_int, size=n)` génère n nombres au hasard de 0 à `max_int`*)"
   ]
  },
  {
   "cell_type": "code",
   "execution_count": null,
   "metadata": {},
   "outputs": [],
   "source": [
    "# %load solutions/exo06.py"
   ]
  },
  {
   "cell_type": "code",
   "execution_count": null,
   "metadata": {},
   "outputs": [],
   "source": [
    "np.random.choice(X, size=10, replace=False)"
   ]
  },
  {
   "cell_type": "markdown",
   "metadata": {},
   "source": [
    "#### where\n",
    "\n",
    "Un masque binaire peut être converti en indices de positions avec `where`"
   ]
  },
  {
   "cell_type": "code",
   "execution_count": null,
   "metadata": {},
   "outputs": [],
   "source": [
    "x = np.arange(0, 10, 0.5)\n",
    "print(x)\n",
    "mask = (x > 5) * (x < 7.5)\n",
    "print(mask)\n",
    "indices = np.where(mask)\n",
    "indices"
   ]
  },
  {
   "cell_type": "code",
   "execution_count": null,
   "metadata": {},
   "outputs": [],
   "source": [
    "x[indices] # équivalent à x[mask]"
   ]
  },
  {
   "cell_type": "markdown",
   "metadata": {},
   "source": [
    "## 2 - Opérations sur les tableaux\n",
    "\n",
    "Maintenant que l'on a vu comment créér des tableaux et accéder à leur élément, on va voir les opérations mathématique que l'on peut faire dessus:\n",
    "\n",
    "### 2.1 - Opérations scalaires et terme-à-terme\n",
    "\n",
    "On peut effectuer les opérations arithmétiques habituelles pour multiplier, additionner, soustraire et diviser des arrays avec/par des scalaires :"
   ]
  },
  {
   "cell_type": "code",
   "execution_count": null,
   "metadata": {},
   "outputs": [],
   "source": [
    "v1 = np.ones(10)\n",
    "print(v1)\n",
    "print(v1 * 2)\n",
    "print(v1 + 10)"
   ]
  },
  {
   "cell_type": "markdown",
   "metadata": {},
   "source": [
    "On peut aussi appliqué des fonctions mathématiques terme-à-terme comme `np.exp`, `np.log`, `np.sqrt`, `np.abs`, `np.sin`, `np.cos`, `np.arctan`, ..."
   ]
  },
  {
   "cell_type": "code",
   "execution_count": null,
   "metadata": {},
   "outputs": [],
   "source": [
    "x = np.linspace(-2, 2, 101)\n",
    "\n",
    "plt.figure(figsize=(15, 8))\n",
    "\n",
    "plt.subplot(2, 2, 1)\n",
    "plt.plot(x, x + 2,'g--', label='$y = x + 2$')\n",
    "plt.legend(loc=0)\n",
    "\n",
    "plt.subplot(2, 2, 2)\n",
    "plt.plot(x, 2 * x, 'r*-', label='$y = 2x$', markevery=10)\n",
    "plt.legend(loc=2)\n",
    "\n",
    "plt.subplot(2, 2, 3)\n",
    "plt.plot(x, x ** 2, 'bs-', label='$y = x^2$', markevery=10)\n",
    "plt.legend(loc=2)\n",
    "\n",
    "plt.subplot(2, 2, 4)\n",
    "plt.plot(x, np.exp(x), 'ko-', label='$y = \\sqrt{x}$', markevery=10)\n",
    "plt.legend(loc=2)\n",
    "plt.show()"
   ]
  },
  {
   "cell_type": "markdown",
   "metadata": {},
   "source": [
    "**Exercice 7 :** (*Courbe paramétrique*)  \n",
    "Tracer la courbe $x = cos(t)$ et $y=sin(t)$ pour $t \\in [0, 2\\pi]$.  \n",
    "On pourra utiliser la constante $\\pi =$`np.pi`."
   ]
  },
  {
   "cell_type": "code",
   "execution_count": null,
   "metadata": {},
   "outputs": [],
   "source": [
    "# %load solutions/exo07.py"
   ]
  },
  {
   "cell_type": "markdown",
   "metadata": {},
   "source": [
    "Les opérations par défaut entre 2 `array` sont aussi terme-à-terme."
   ]
  },
  {
   "cell_type": "code",
   "execution_count": null,
   "metadata": {},
   "outputs": [],
   "source": [
    "A = np.arange(25).reshape(5, 5)\n",
    "print(A)"
   ]
  },
  {
   "cell_type": "code",
   "execution_count": null,
   "metadata": {},
   "outputs": [],
   "source": [
    "print(A * A)"
   ]
  },
  {
   "cell_type": "code",
   "execution_count": null,
   "metadata": {},
   "outputs": [],
   "source": [
    "print((A + A.T)/ 2)"
   ]
  },
  {
   "cell_type": "code",
   "execution_count": null,
   "metadata": {},
   "outputs": [],
   "source": [
    "A = np.zeros((2, 3))\n",
    "B = np.zeros((4, 3))\n",
    "print(A, B)\n",
    "A+B"
   ]
  },
  {
   "cell_type": "markdown",
   "metadata": {},
   "source": [
    "En multipliant des *arrays* de tailles compatibles, on obtient des multiplications terme-à-terme par ligne :"
   ]
  },
  {
   "cell_type": "code",
   "execution_count": null,
   "metadata": {},
   "outputs": [],
   "source": [
    "v1 = np.arange(6)\n",
    "A = np.ones((5, 6))\n",
    "print(A.shape, v1.shape)\n",
    "print(A)\n",
    "print(v1)\n",
    "print(A * v1)"
   ]
  },
  {
   "cell_type": "markdown",
   "metadata": {},
   "source": [
    "De façon plus générale, on peut faire des opérations sur des tableaux de différentes tailles. Dans certains cas, NumPy peut transformer les tableaux pour qu'ils aient la même taille, cette conversion s'appelle le **\"Broadcasting\"**.\n",
    "<img src=\"image/numpy_broadcasting.png\" width=600>"
   ]
  },
  {
   "cell_type": "code",
   "execution_count": null,
   "metadata": {},
   "outputs": [],
   "source": [
    "a = np.arange(4)\n",
    "b = np.arange(5)\n",
    "print(a, a.shape)\n",
    "print(b, b.shape)\n",
    "a * b"
   ]
  },
  {
   "cell_type": "code",
   "execution_count": null,
   "metadata": {},
   "outputs": [],
   "source": [
    "B = b[np.newaxis, :]\n",
    "A = a[:, None]\n",
    "c = A * B\n",
    "print(c)\n",
    "print(A.shape, B.shape, c.shape)"
   ]
  },
  {
   "cell_type": "markdown",
   "metadata": {},
   "source": [
    "Il existe une règle pour savoir dans quel cas on peut faire du \"broadcasting\":\n",
    "**Dans une opération, la taille des axex des deux tableaux doit être soit la même, soit une des deux doit être 1**.\n",
    "Dans la figure ci-dessus, cette règle est respectée:\n",
    "```\n",
    "a:      4 x 3   \n",
    "b:      4 x 3\n",
    "result: 4 x 3\n",
    "\n",
    "a:      4 x 3\n",
    "b:          3\n",
    "result: 4 x 3\n",
    "\n",
    "a:      4 x 1\n",
    "b:          3\n",
    "result: 4 x 3\n",
    "```\n",
    "\n",
    "Que donnerait les deux cas suivant?\n",
    "\n",
    "```\n",
    "Image  (3d array): 256 x 256 x 3\n",
    "Scale  (1d array):             3\n",
    "Result (3d array): \n",
    "\n",
    "A      (4d array):  8 x 1 x 6 x 1\n",
    "B      (3d array):      7 x 1 x 5\n",
    "Result (4d array):  \n",
    "```"
   ]
  },
  {
   "cell_type": "code",
   "execution_count": null,
   "metadata": {},
   "outputs": [],
   "source": []
  },
  {
   "cell_type": "markdown",
   "metadata": {},
   "source": [
    "**Exercice 8 :** (*Opération terme-à-terme*)\n",
    "\n",
    "Sans utiliser de boucles (`for/while`) :\n",
    "\n",
    " * Créer une matrice (5x6) aléatoire\n",
    " * Remplacer une colonne sur deux par sa valeur moins le double de la colonne suivante\n",
    " * Remplacer les valeurs négatives par 0 en utilisant un masque binaire\n"
   ]
  },
  {
   "cell_type": "code",
   "execution_count": null,
   "metadata": {},
   "outputs": [],
   "source": [
    "# %load solutions/exo08.py"
   ]
  },
  {
   "cell_type": "markdown",
   "metadata": {},
   "source": [
    "### 2.2 - Algèbre matricielle\n",
    "\n",
    "Comment faire des multiplications de matrices ? Deux façons :\n",
    " \n",
    " * en utilisant les fonctions `dot`; (recommandé)\n",
    " * en utiliser l'opérateur `@`."
   ]
  },
  {
   "cell_type": "code",
   "execution_count": null,
   "metadata": {},
   "outputs": [],
   "source": [
    "A = np.array([[n + m * 10 for n in range(5)] for m in range(5)])\n",
    "v1 = np.arange(5)\n",
    "print(A.shape, v1.shape)\n",
    "print(A)\n",
    "print(v1)\n",
    "print(type(A), type(v1))"
   ]
  },
  {
   "cell_type": "code",
   "execution_count": null,
   "metadata": {},
   "outputs": [],
   "source": [
    "print(v1 * v1)  # multiplication élément par élément\n",
    "print(np.dot(v1, v1))  # multiplication matrice\n",
    "print(v1 @ v1)  # multiplication matrice"
   ]
  },
  {
   "cell_type": "code",
   "execution_count": null,
   "metadata": {},
   "outputs": [],
   "source": [
    "A.dot(v1)"
   ]
  },
  {
   "cell_type": "code",
   "execution_count": null,
   "metadata": {},
   "outputs": [],
   "source": [
    "print(A * A)  # multiplication élément par élément\n",
    "print(A @ A)  # multiplication matrice"
   ]
  },
  {
   "cell_type": "markdown",
   "metadata": {},
   "source": [
    "Voir également les fonctions : `inner`, `outer`, `cross`, `kron`, `tensordot`. Utiliser par exemple `help(kron)` ou `kron?`.\n",
    "\n",
    "### 2.3 - Algébre de plus haut niveau\n",
    "\n",
    "`numpy` expose aussi des fonctionalités de plus haut niveau telles que les décompositions classique en valeurs propres/singulières, factorisation de Cholesky/QP, ...  \n",
    "Ces fonctionalités sont regroupées dans le module `np.linalg`.  \n",
    "Beaucoup d'outils du calcul scientifique en python, compatible avec `numpy` sont aussi accessibles dans la librairie [`scipy`](https://docs.scipy.org/doc/). Pour plus, d'information, voir [tutorial scipy](http://scipy-lectures.org/).\n",
    "\n",
    "**Exercice 9 :** (*Résolution d'un système linéaire*)  \n",
    "Résoudre le systeme d'équation: $\\begin{cases}3x -2y +z &= 10\\\\x +5y + 10z &= 21\\\\y - z &= -5\\\\\\end{cases}$.  \n",
    "(*Astuce:* utiliser la fonction `np.linalg.inv`)."
   ]
  },
  {
   "cell_type": "code",
   "execution_count": null,
   "metadata": {},
   "outputs": [],
   "source": [
    "# %load solutions/exo09.py"
   ]
  },
  {
   "cell_type": "markdown",
   "metadata": {},
   "source": [
    "### 2.4 - Opérations de réduction\n",
    "\n",
    "Enfin, `numpy` propose de opération de réduction sur les tableaux.  \n",
    "Ces opérations calculent une quantité selon un axe en aggrégeant l'information comme par exemple: `np.max`, `np.min`, `np.sum`, `np.mean`, `np.std`, `np.argmax`, ..."
   ]
  },
  {
   "cell_type": "code",
   "execution_count": null,
   "metadata": {},
   "outputs": [],
   "source": [
    "data = np.arange(20)\n",
    "print(data.sum())\n",
    "print(\"Moyenne:\", np.mean(data), \"Std:\", data.std(), \"Var:\", data.var())"
   ]
  },
  {
   "cell_type": "markdown",
   "metadata": {},
   "source": [
    "Par défault, la quantité est évaluer pour le tableau en entier.  \n",
    "Mais pour les tableau multi-dimensionels, il est aussi possible de spécifier la direction de l'opération:"
   ]
  },
  {
   "cell_type": "code",
   "execution_count": null,
   "metadata": {},
   "outputs": [],
   "source": [
    "data = np.arange(20).reshape((5, 4))\n",
    "data[3, :] = 9\n",
    "print(data)\n",
    "\n",
    "# Moyenne globale:\n",
    "print(\"Moyenne globale:\", data.mean())\n",
    "print(\"Moyennes par colone:\", data.mean(axis=1))\n",
    "print(\"Moyennes par ligne:\", data.mean(axis=0))\n",
    "\n",
    "# la moyenne de la troisième colonne\n",
    "print(\"Moyenne de la 3e ligne\", np.mean(data[3, :]), data.mean(axis=0)[3])"
   ]
  },
  {
   "cell_type": "markdown",
   "metadata": {},
   "source": [
    "**Exercice 10 :** (*Blanchiment de donnée*)  \n",
    "Créer un tableau X de taille `100x5` selon une loi normale.  \n",
    "Soustrayer à chaque colone sa moyenne et ladiviser par son écart type."
   ]
  },
  {
   "cell_type": "code",
   "execution_count": null,
   "metadata": {},
   "outputs": [],
   "source": [
    "# %load solutions/exo10.py"
   ]
  },
  {
   "cell_type": "markdown",
   "metadata": {},
   "source": [
    "### 2.5 - Concaténer, répéter des `arrays`\n",
    "\n",
    "En utilisant les fonctions `repeat`, `tile`, `vstack`, `hstack`, et `concatenate`, on peut créer des vecteurs/matrices plus grandes à partir de vecteurs/matrices plus petites :"
   ]
  },
  {
   "cell_type": "code",
   "execution_count": null,
   "metadata": {},
   "outputs": [],
   "source": [
    "# Repeat et tile:\n",
    "a = np.array([[1, 2], [3, 4]])\n",
    "print(a)\n",
    "# répéter chaque élément 3 fois\n",
    "print(np.repeat(a, 3)) # résultat 1-d\n",
    "\n",
    "# on peut spécifier l'argument axis\n",
    "print(np.repeat(a, 3, axis=1))\n",
    "\n",
    "# répéter la matrice 3 fois\n",
    "print(np.tile(a, 3))"
   ]
  },
  {
   "cell_type": "code",
   "execution_count": null,
   "metadata": {},
   "outputs": [],
   "source": [
    "# Concatenate\n",
    "b = np.array([[5, 6]])\n",
    "print(\"Add a line\\n\", np.concatenate((a, b), axis=0))\n",
    "print(\"Vertical\\n\", np.vstack((a, b)))\n",
    "\n",
    "# stacking horizontal ou vertical\n",
    "print(\"Add a column\\n\", np.concatenate((a, b.T), axis=1))\n",
    "print(\"Horizontal\\n\", np.hstack((a, b.T)))"
   ]
  },
  {
   "cell_type": "markdown",
   "metadata": {},
   "source": [
    "### 2.6 - Itérer sur les éléments d'un array\n",
    "\n",
    " * Dans la mesure du possible, il faut éviter l'itération sur les éléments d'un *array* : c'est beaucoup plus lent que les opérations vectorisées\n",
    " * Mais il arrive que l'on n'ait pas le choix...\n",
    " \n",
    " * Pour obtenir les indices des éléments sur lesquels on itère (par exemple, pour pouvoir les modifier en même temps) on peut utiliser `enumerate` :"
   ]
  },
  {
   "cell_type": "code",
   "execution_count": null,
   "metadata": {},
   "outputs": [],
   "source": [
    "M = np.array([[1, 2], [3, 4]])\n",
    "\n",
    "for row in M:\n",
    "    print(\"row\", row)\n",
    "    \n",
    "    for i, element in enumerate(row):\n",
    "        print(f\"Element {i} ->\", element)"
   ]
  },
  {
   "cell_type": "markdown",
   "metadata": {},
   "source": [
    "### 2.7 - Utilisation d'`arrays` dans des conditions\n",
    "\n",
    "Losqu'on s'intéresse à des conditions sur tout on une partie d'un `array`, on peut utiliser `any` ou `all` :"
   ]
  },
  {
   "cell_type": "code",
   "execution_count": null,
   "metadata": {},
   "outputs": [],
   "source": [
    "print(M)\n",
    "\n",
    "if (M > 5).any():\n",
    "    print(\"au moins un élément de M est plus grand que 5\")\n",
    "else:\n",
    "    print(\"aucun élément de M n'est plus grand que 5\")\n",
    "\n",
    "\n",
    "if (M > 5).all():\n",
    "    print(\"tous les éléments de M sont plus grands que 5\")\n",
    "else:\n",
    "    print(\"tous les éléments de M sont plus petits que 5\")"
   ]
  }
 ],
 "metadata": {
  "kernelspec": {
   "display_name": "Python 3",
   "language": "python",
   "name": "python3"
  },
  "language_info": {
   "codemirror_mode": {
    "name": "ipython",
    "version": 3
   },
   "file_extension": ".py",
   "mimetype": "text/x-python",
   "name": "python",
   "nbconvert_exporter": "python",
   "pygments_lexer": "ipython3",
   "version": "3.7.7"
  }
 },
 "nbformat": 4,
 "nbformat_minor": 2
}
