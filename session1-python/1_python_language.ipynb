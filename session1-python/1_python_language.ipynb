{
 "cells": [
  {
   "cell_type": "markdown",
   "metadata": {},
   "source": [
    "# Introduction au language python"
   ]
  },
  {
   "cell_type": "markdown",
   "metadata": {},
   "source": [
    "Dans cette section, nous allons:\n",
    "* Découvrir l'environnement de développement en Python pour le calcul scientifique\n",
    "* Se familiariser avec le language Python\n",
    "\n",
    "Cette section est adaptée des Scipy lecture notes [\"Getting started with Python for science\"](http://www.scipy-lectures.org/intro)"
   ]
  },
  {
   "cell_type": "markdown",
   "metadata": {},
   "source": [
    "## Python: qu'est ce que c'est?\n",
    "\n",
    "Python est un langage qui a été créé en 1991 par Guido van Rossum.  \n",
    "C'est un langage libre, développé par une large communauté d'utilisateurs.  \n",
    "Pour résumer, le succès de Python tient particulièrement en quatre points:\n",
    "* **Simplicité et flexibilité:** le langage est simple à comprendre (à lire) et la librairie standard propose de nombreuses fonctionalités par défault. \n",
    "* **Des librairies spécialisées:** Il existe une multitude de modules spécialisés, que l'on peut voir comme des extensions du langage Python pour réaliser certaines tâches:\n",
    "    - `Django`: framwork de developpement web.\n",
    "    - `Numpy`: librairie d'algébre linéaire.\n",
    "    - `Tensorflow/Pytorch`: librairie dédiée aux Réseaux de Neurones.\n",
    "    - `PyTest`: librairie liée au test unitaire en python.\n",
    "    - ....\n",
    "    \n",
    "  Ces librairies sont réunies dans 2 principaux gestionnaires de packets: `pip` et `conda`, tout comme `CRAN` réunit les librairies `R` disponibles.\n",
    "* **Une facilité d'extension:** Il est en général assez simple d'utiliser/d'appeler un autre langage dans un programme Python, par exemple `R` avec `rpy2`.\n",
    "* **Un langage interprété:** Tout comme `R`, c'est un langage qui permet le developpement interactif.\n",
    "\n",
    "En cela, `Python` et `R` sont très proches et les concepts de l'un sont facilement transposable à l'autre, mais contrairement à `R`, `Python` est  entièrement conçu en langage objet.\n",
    "\n",
    "\n",
    "<div style=\"width: 80%; padding: .5em 1.5em;\n",
    "            margin: .5em 2em .5em 2em;\n",
    "            border-radius: 12pt; border-color: black; \n",
    "            border-style: solid;\">\n",
    "<b style=\"font-variant: small-caps; text-decoration: underline;\">Langage Interprété:</b><br>\n",
    "    Python est un langage interprété, c'est à dire qu'il se compose d'un langage et d'un interpréteur.\n",
    "    La principale différence avec les langages compilés est que la suite des instructions qui va être exécutée par le programme n'est pas connue quand celui-ci est lancé. Seules les différentes rèles qui peuvent être appliquées sont connues.\n",
    "    Le langage de programmation définit cet ensemble de régles et c'est ce que l'on appelle communément le langage Python (c'est ce qu'on va apprendre ici!).<br>\n",
    "    Il existe ensuite différents interpréteurs qui prennent ces instructions pour modifier l'état interne (comprendre les variables) du programme:\n",
    "    <ul>\n",
    "        <li> <a href=https://python.org>CPython</a>: l'interpréteur standard de Python. Écrit en C, c'est l'interpreteur de base que vous utiliserez le plus souvent.</li>\n",
    "        <li> <a href=https://jython.org/>Jython</a>: un interpréteur écrit en Java qui permet une interaction simple avec du code Java.</li>\n",
    "        <li> <a href=https://ironpython.net/>IronPython</a>: un interpréteur intégré avec  le FRamework .Net  (travail dans  le navigateur).</li>\n",
    "        <li> <a href=https://micropython.org/>microPython</a>: un interpréteur dédié au calcul embarqué, avec une optimisation drastique de la mémoire.</li>\n",
    "        <li> ....</li>\n",
    "    </ul>\n",
    "</div>\n"
   ]
  },
  {
   "cell_type": "markdown",
   "metadata": {},
   "source": [
    "## L'environnement de développement en Python pour la programmation scientifique\n",
    "\n",
    "### Les modules Python pour la programmation scientifique\n",
    "\n",
    "Pour obtenir un environnement de programmation scientifique, Python peut être combiné avec les modules de base suivants:  \n",
    "* [Numpy](http://www.numpy.org/): permet la définition et la manipulation de tableaux N-dimensionnel.  \n",
    "* [Scipy](http://www.scipy.org/): contient des routines haut niveau de traitement de données (optimisation, regression, interpolation, ...). \n",
    "* [Matplotlib](http://matplotlib.org/): contient des outils de visualisation.  \n",
    "\n",
    "De nombreux autres modules sont disponibles en fonction des besoins, tels que [Pandas](http://pandas.pydata.org/) pour l'analyse de données, [scikit-learn](http://scikit-learn.org/stable/) ou [keras](https://keras.io/) pour le machine learning, [pytest](https://docs.pytest.org/en/latest/) pour les tests, ... \n",
    "\n",
    "\n",
    "### Installation d'Anaconda\n",
    "\n",
    "[Anaconda](https://www.continuum.io/downloads) est une distribution Python qui inclut de nombreux packages python pour la programmation scientifique. C'est une façon pratique pour installer et mettre en place son environnement de travail sous n'importe quel système d'exploitation. Pour l'installer:\n",
    "\n",
    "1. Aller sur le site d'anaconda: [Downloads](https://www.anaconda.com/products/individual#Downloads)\n",
    "2. Télécharger la version pour `Python 3.7` adaptée à votre ordinateur (OS et archeticture).\n",
    "3. Une fois le setup téléchargé, l'exécuter:\n",
    "    * Accepter tous les paramètres par défaut.\n",
    "\n",
    "### Description d'Anaconda\n",
    "\n",
    "Anaconda contient divers outils utiles pour `Python`. Nous nous servirons de:\n",
    "\n",
    "* `Anaconda Navigator`: Interface graphique pour lancer les différents programmes de Anaconda et installer des librairies supplémentaires.\n",
    "* `Anaconda Prompt`: Console pour faire de même en ligne de commande.\n",
    "* `Jupyter Notebook`: Interface graphique dans le navitageur web pour écrire et exécuter du code `Python`.\n",
    "* `Spyder`: Un éditeur intégré, similaire à `Rstudio` ou `Matlab`.\n",
    "\n",
    "Lancez Anaconda Navigator (en cherchant dans la barre de recherche de programmes si nécéssaire) et vérifiez que vous arrivez à ouvrir un notebook jupyter, comme indiqué [ici](https://docs.anaconda.com/anaconda/user-guide/getting-started/#run-python-in-a-jupyter-notebook). Vous pouvez aussi taper dans une fenêtre de commande `anaconda-navigator`.\n",
    "\n",
    "### Installation des librairies de calcul scientifique\n",
    "\n",
    "Pour utiliser `Python` pour le calcul scientifique, il est nécessaire d'installer plusieurs librairies très utiles:\n",
    "\n",
    "* `numpy`: gestion de tableaux et opérations d'algèbre linéaire de base.\n",
    "* `scipy`: librairie de calcul scientifique basée sur `numpy`.\n",
    "* `pandas`: gestion de données tabulaires de type `DataFrame`.\n",
    "\n",
    "Pour vérifier si un package est installé, il suffit d'essayer de l'importer en `Python`.\n",
    "Tous les packages suivants sont bien installés si l'éxecution (CTL+ENTREE) de la cellule suivante ne provoque aucune erreur."
   ]
  },
  {
   "cell_type": "code",
   "execution_count": null,
   "metadata": {},
   "outputs": [],
   "source": [
    "import numpy\n",
    "import scipy\n",
    "import pandas"
   ]
  },
  {
   "cell_type": "markdown",
   "metadata": {},
   "source": [
    "Il est possible d'installer un package avec `conda` en lançant la commande `conda install -y pkg_name`. Cette commande peut être lancée dans le `Anaconda Prompt` ou dans une cellule avec `!` pour signifier que la ligne est une ligne de commande. Pour exécuter réellement la commande suivante, supprimer le commentaire # la précédant."
   ]
  },
  {
   "cell_type": "code",
   "execution_count": null,
   "metadata": {},
   "outputs": [],
   "source": [
    "!conda install -y numpy"
   ]
  },
  {
   "cell_type": "markdown",
   "metadata": {},
   "source": [
    "Les [packages](http://conda.pydata.org/docs/using/pkgs.html) et les [environnements](http://conda.pydata.org/docs/using/envs.html) peuvent être gérés avec l'interface graphique de `Anaconda Navigator` ou avec la commande `conda` (`conda --help` et `conda env --help`).\n",
    "\n",
    "\n",
    "### Écrire du code en python\n",
    "\n",
    "La plupart des **éditeurs de texte** pour la programmation fournissent au moins un support rudimentaire pour Python. Deux options populaires sont [VSCode](https://code.visualstudio.com/) et [vim](https://realpython.com/blog/python/vim-and-python-a-match-made-in-heaven/).\n",
    "\n",
    "Avec Anaconda est fourni [Spyder](https://github.com/spyder-ide/spyder), qui est une environnement de développement intéractif puissant, incluant notamment un éditeur mais aussi une console.\n",
    "\n",
    "### Comment exécuter du code?\n",
    "\n",
    "1. Python:\n",
    "   `$ python script.py`.  \n",
    "   Execution d'un script entier.\n",
    "\n",
    "2. IPython: shell interactif\n",
    "   `$ ipython`  \n",
    "   REPL model. Très pratique pour tester des algorithmes, explorer des données,... [Documentation ici](http://ipython.readthedocs.io/en/stable/).  \n",
    "\n",
    "4. dans un IDE tel que Pycharm ou Spyder\n",
    "\n",
    "3. Jupyter notebook  \n",
    "   Application web qui permet de créer des documents contenant du code, du texte, et des résultats (traces, graphiques).\n",
    "   Utilise le kernel IPython. [Documentation ici](http://jupyter-notebook.readthedocs.io/en/latest/)   \n",
    "   Note: [lien utile](http://help.pythonanywhere.com/pages/IPythonNotebookVirtualenvs) pour utiliser Jupyter notebook dans un environnement virtuel.\n",
    "   \n",
    "\n",
    "Ce fichier est un exemple de notebook jupyter. Son extension est **.ipynb**. Il contient plusieurs types de cellules, dont <ul><li>les cellules Markdown de texte (comme celle-ci). Double cliquer pour activer.\n",
    "    <li>les cellules de code, précédée par `I[]`.  Cliquer pour activer.\n",
    "        </ul>\n",
    "        Elles s'exécutent quand elles sont activées en tapant `CTL+ENTREE`. Utiliser l'interface web pour gérer les cellules."
   ]
  },
  {
   "cell_type": "markdown",
   "metadata": {},
   "source": [
    "## Les bases du langage `Python`\n",
    "\n",
    "Commençons par préciser comment accéder à la documentation\n",
    "* [manuel de référence](https://docs.python.org/fr/3.7/reference/): structure et sémantique interne\n",
    "\n",
    "* [bibliothèque standard](https://docs.python.org/fr/3.7/library/): sémantique des objets natifs secondaires, des fonctions, et des modules\n",
    "\n",
    "* commande en ligne : `help('commande')` ou `commande?`\n",
    "\n",
    "### Quelques astuces pour l'utilisation de IPython"
   ]
  },
  {
   "cell_type": "code",
   "execution_count": null,
   "metadata": {},
   "outputs": [],
   "source": [
    "print('hello')"
   ]
  },
  {
   "cell_type": "code",
   "execution_count": null,
   "metadata": {},
   "outputs": [],
   "source": [
    "#  donne une overview des fonctionnalités IPython\n",
    "?"
   ]
  },
  {
   "cell_type": "code",
   "execution_count": null,
   "metadata": {},
   "outputs": [],
   "source": [
    "# Execute une commande bash\n",
    "!ls"
   ]
  },
  {
   "cell_type": "code",
   "execution_count": null,
   "metadata": {},
   "outputs": [],
   "source": [
    "# quick reference\n",
    "%quickref"
   ]
  },
  {
   "cell_type": "code",
   "execution_count": null,
   "metadata": {},
   "outputs": [],
   "source": [
    "# aide Python\n",
    "help(sum)"
   ]
  },
  {
   "cell_type": "code",
   "execution_count": null,
   "metadata": {},
   "outputs": [],
   "source": [
    "# Détails sur l'object sum\n",
    "sum?"
   ]
  },
  {
   "cell_type": "code",
   "execution_count": null,
   "metadata": {},
   "outputs": [],
   "source": [
    "x = 5\n",
    "x?"
   ]
  },
  {
   "cell_type": "markdown",
   "metadata": {},
   "source": [
    "IPython a un ensemble de \"fonctions magiques\":\n",
    "* \"Line magics\" qui ont pour préfixe le signe % et reçoivent comme argument le reste de la ligne\n",
    "* \"Cell magics\" qui ont pour préfixe le signe %% et reçoivent comme argument la cellule.\n",
    "\n",
    "Les \"magics\" incluent:\n",
    "* des fonctions en relation avec du code: `%run`, `%debug`, `%load_ext`, ...  \n",
    "* des fonctions qui affectent le shell: `%colors`, `%automagic`, `%matplotlib inline`, ...  \n",
    "* d'autres fonctions telles que `%reset`, `%timeit`, `%%writefile`, `%paste`, `%whos`, `%hist`, ...\n"
   ]
  },
  {
   "cell_type": "code",
   "execution_count": null,
   "metadata": {},
   "outputs": [],
   "source": [
    "%whos"
   ]
  },
  {
   "cell_type": "code",
   "execution_count": null,
   "metadata": {},
   "outputs": [],
   "source": [
    "%timeit 10 + 11"
   ]
  },
  {
   "cell_type": "code",
   "execution_count": null,
   "metadata": {},
   "outputs": [],
   "source": [
    "%%writefile test.py\n",
    "\n",
    "print(\"bonjour du fichier test.py\")\n"
   ]
  },
  {
   "cell_type": "code",
   "execution_count": null,
   "metadata": {},
   "outputs": [],
   "source": [
    "!cat test.py"
   ]
  },
  {
   "cell_type": "code",
   "execution_count": null,
   "metadata": {},
   "outputs": [],
   "source": [
    "%run test.py"
   ]
  },
  {
   "cell_type": "markdown",
   "metadata": {},
   "source": [
    "## Les bases du langage Python"
   ]
  },
  {
   "cell_type": "code",
   "execution_count": null,
   "metadata": {},
   "outputs": [],
   "source": [
    "import this"
   ]
  },
  {
   "cell_type": "markdown",
   "metadata": {},
   "source": [
    "## Le guide de style pep8\n",
    "\n",
    "Certains espaces ne sont pas necessaire dans le fichier (après une virgule, un opérateur, pour l'alignement de block). Cependant, pour des questions de facilité de lecture, certaines conventions existent. Elles sont regroupées sous le nom de [`Pep8`](https://pep8.org/) et dans l'ensemble, si vous collaborez avec d'autres personnes en Python, essayer de suivre ses conventions permet d'avoir une homogénéité."
   ]
  },
  {
   "cell_type": "markdown",
   "metadata": {},
   "source": [
    "### La fonction print\n",
    "\n",
    "La fonction `print` permet d'afficher l'expression qu'elle contient."
   ]
  },
  {
   "cell_type": "code",
   "execution_count": null,
   "metadata": {},
   "outputs": [],
   "source": [
    "print(\"Hello world!\")"
   ]
  },
  {
   "cell_type": "markdown",
   "metadata": {},
   "source": [
    "Elle permet d'afficher de l'information sur ce qui se passe dans le programme. "
   ]
  },
  {
   "cell_type": "code",
   "execution_count": null,
   "metadata": {},
   "outputs": [],
   "source": [
    "print(1)\n",
    "2 + 2\n",
    "print(2)\n",
    "1 + 1"
   ]
  },
  {
   "cell_type": "markdown",
   "metadata": {},
   "source": [
    "### Les types de bases\n",
    "\n",
    "#### 1. Les constantes de Python\n",
    "\n",
    "Il existe différents valeures de base dans python. Les plus communes sont\n",
    "\n",
    "* `None`: une valeure vide.\n",
    "* `False/True`: Les constantes booléennes.\n",
    "* Les entiers: `0, 1, -2, ..`. Ils peuvent aussi s'écrire sous forme binaire `0b1111` ou hexadécimale `0xf`.\n",
    "* Les floatants: `0.0, 1.0, -1.234, ...`. Ils peucvent aussi s'ecrire sous la forme scientifique `1e-4, 3.4e-12,...`.\n",
    "* Les charactères: `a, b, c, d, ...`."
   ]
  },
  {
   "cell_type": "code",
   "execution_count": null,
   "metadata": {},
   "outputs": [],
   "source": [
    "15, 0b1111, 0xf"
   ]
  },
  {
   "cell_type": "code",
   "execution_count": null,
   "metadata": {},
   "outputs": [],
   "source": [
    "0.023, 2.3e-2"
   ]
  },
  {
   "cell_type": "markdown",
   "metadata": {},
   "source": [
    "#### 1.1 Les types numériques"
   ]
  },
  {
   "cell_type": "code",
   "execution_count": null,
   "metadata": {},
   "outputs": [],
   "source": [
    "a = 4\n",
    "type(a)"
   ]
  },
  {
   "cell_type": "code",
   "execution_count": null,
   "metadata": {},
   "outputs": [],
   "source": [
    "b = 4.6\n",
    "type(b)"
   ]
  },
  {
   "cell_type": "code",
   "execution_count": null,
   "metadata": {},
   "outputs": [],
   "source": [
    "c = 2.2 + 0.8j\n",
    "print(c.real)\n",
    "print(c.imag)\n",
    "type(c)"
   ]
  },
  {
   "cell_type": "code",
   "execution_count": null,
   "metadata": {},
   "outputs": [],
   "source": [
    "d = 4 != 6\n",
    "type(d)"
   ]
  },
  {
   "cell_type": "markdown",
   "metadata": {},
   "source": [
    "Les opérations arithmétiques de base `+`, `-`, `*`, `/`, `%` (modulo) sont implémentées nativement.  "
   ]
  },
  {
   "cell_type": "code",
   "execution_count": null,
   "metadata": {},
   "outputs": [],
   "source": [
    "print(24 * 4)\n",
    "print(2 ** 10)\n",
    "print(12 % 5)"
   ]
  },
  {
   "cell_type": "code",
   "execution_count": null,
   "metadata": {},
   "outputs": [],
   "source": [
    "# définir certaines variables et les afficher\n",
    "a = 1\n",
    "a += 5\n",
    "print(a)\n",
    "\n",
    "11 // 2"
   ]
  },
  {
   "cell_type": "markdown",
   "metadata": {},
   "source": [
    "**Attention à la division d'entier!**\n",
    "\n",
    "En Python 2:\n",
    "\n",
    "```\n",
    "In: 11 / 2\n",
    "Out: 5\n",
    "```\n",
    "Par contre, en python 3, on obtient 5.5... Pour être tranquille, il vaut mieux utiliser des floats\n",
    "```\n",
    "In: 11 / 2.\n",
    "Out: 5.5\n",
    "```\n",
    "Pour toujours obenir le comportement de Python 3:\n",
    "```\n",
    "In: from __future__ import division\n",
    "    11 / 2\n",
    "Out: 5.5\n",
    "```"
   ]
  },
  {
   "cell_type": "markdown",
   "metadata": {},
   "source": [
    "La division d'entier est obtenue avec `//`"
   ]
  },
  {
   "cell_type": "code",
   "execution_count": null,
   "metadata": {},
   "outputs": [],
   "source": [
    "11 // 2"
   ]
  },
  {
   "cell_type": "markdown",
   "metadata": {},
   "source": [
    "#### 2. Les containeurs\n",
    "\n",
    "**Attention l'indexage commence à 0**  \n",
    "\n"
   ]
  },
  {
   "cell_type": "markdown",
   "metadata": {},
   "source": [
    "##### 2.1 Les tuples\n",
    "\n",
    "Les tuples sont des listes immutables."
   ]
  },
  {
   "cell_type": "code",
   "execution_count": null,
   "metadata": {},
   "outputs": [],
   "source": [
    "t = 'blabla', 2, 'blibli'"
   ]
  },
  {
   "cell_type": "code",
   "execution_count": null,
   "metadata": {},
   "outputs": [],
   "source": [
    "t"
   ]
  },
  {
   "cell_type": "code",
   "execution_count": null,
   "metadata": {},
   "outputs": [],
   "source": [
    "t[0] = 0"
   ]
  },
  {
   "cell_type": "code",
   "execution_count": null,
   "metadata": {},
   "outputs": [],
   "source": [
    "u = ('blabla', 2, 'blibli')"
   ]
  },
  {
   "cell_type": "code",
   "execution_count": null,
   "metadata": {},
   "outputs": [],
   "source": [
    "u"
   ]
  },
  {
   "cell_type": "code",
   "execution_count": null,
   "metadata": {},
   "outputs": [],
   "source": [
    "s1, v1, s2, a  = u\n",
    "print(s1)\n",
    "print(v1)"
   ]
  },
  {
   "cell_type": "markdown",
   "metadata": {},
   "source": [
    "##### 2.2 Les listes"
   ]
  },
  {
   "cell_type": "code",
   "execution_count": null,
   "metadata": {},
   "outputs": [],
   "source": [
    "semaine = ['lundi', 'mardi', 'mercredi', 'jeudi', 'vendredi']\n",
    "type(semaine)"
   ]
  },
  {
   "cell_type": "code",
   "execution_count": null,
   "metadata": {},
   "outputs": [],
   "source": [
    "semaine[0]"
   ]
  },
  {
   "cell_type": "code",
   "execution_count": null,
   "metadata": {},
   "outputs": [],
   "source": [
    "semaine[-1]"
   ]
  },
  {
   "cell_type": "code",
   "execution_count": null,
   "metadata": {},
   "outputs": [],
   "source": [
    "semaine[-4]"
   ]
  },
  {
   "cell_type": "markdown",
   "metadata": {},
   "source": [
    "Slicing fait référence à la syntaxe `semaine[start:stop:stride]` (tous les paramètres du slicing sont optionnels), cela permet d'extraire une partie de la liste.\n",
    "\n",
    "**Note:** L'objet `1:-1` est en fait une `slice`."
   ]
  },
  {
   "cell_type": "code",
   "execution_count": null,
   "metadata": {},
   "outputs": [],
   "source": [
    "semaine[1:-1]"
   ]
  },
  {
   "cell_type": "code",
   "execution_count": null,
   "metadata": {},
   "outputs": [],
   "source": [
    "# un element sur deux\n",
    "semaine[::2]"
   ]
  },
  {
   "cell_type": "code",
   "execution_count": null,
   "metadata": {},
   "outputs": [],
   "source": [
    "# à l'envers\n",
    "a = list(range(5))\n",
    "a[::-1]"
   ]
  },
  {
   "cell_type": "markdown",
   "metadata": {},
   "source": [
    "Les éléments d'une liste peuvent avoir des types différents."
   ]
  },
  {
   "cell_type": "code",
   "execution_count": null,
   "metadata": {},
   "outputs": [],
   "source": [
    "jour = ['samedi', 23, 0.1 , None, True]"
   ]
  },
  {
   "cell_type": "markdown",
   "metadata": {},
   "source": [
    "Pour ajouter ou enlever des éléments d'une liste:"
   ]
  },
  {
   "cell_type": "code",
   "execution_count": null,
   "metadata": {},
   "outputs": [],
   "source": [
    "semaine.append('samedi')\n",
    "print(semaine)"
   ]
  },
  {
   "cell_type": "code",
   "execution_count": null,
   "metadata": {},
   "outputs": [],
   "source": [
    "semaine.pop(0)\n",
    "print(semaine)"
   ]
  },
  {
   "cell_type": "code",
   "execution_count": null,
   "metadata": {},
   "outputs": [],
   "source": [
    "semaine.extend(['samedi', 'dimanche'])\n",
    "print(semaine)"
   ]
  },
  {
   "cell_type": "code",
   "execution_count": null,
   "metadata": {},
   "outputs": [],
   "source": [
    "semaine = semaine[2::]\n",
    "print(semaine)"
   ]
  },
  {
   "cell_type": "markdown",
   "metadata": {},
   "source": [
    "Pour concaténer et répéter une liste:"
   ]
  },
  {
   "cell_type": "code",
   "execution_count": null,
   "metadata": {},
   "outputs": [],
   "source": [
    "semaine + jour"
   ]
  },
  {
   "cell_type": "code",
   "execution_count": null,
   "metadata": {},
   "outputs": [],
   "source": []
  },
  {
   "cell_type": "code",
   "execution_count": null,
   "metadata": {},
   "outputs": [],
   "source": [
    "semaine"
   ]
  },
  {
   "cell_type": "code",
   "execution_count": null,
   "metadata": {},
   "outputs": [],
   "source": [
    "semaine[0] = 0"
   ]
  },
  {
   "cell_type": "markdown",
   "metadata": {},
   "source": [
    "Pour trier:"
   ]
  },
  {
   "cell_type": "code",
   "execution_count": null,
   "metadata": {},
   "outputs": [],
   "source": [
    "sorted(semaine)"
   ]
  },
  {
   "cell_type": "code",
   "execution_count": null,
   "metadata": {},
   "outputs": [],
   "source": [
    "print(semaine)\n",
    "semaine.sort()\n",
    "print(semaine)"
   ]
  },
  {
   "cell_type": "markdown",
   "metadata": {},
   "source": [
    "La notation semaine.method() (`comme semaine.append()`, `semaine.sort()`) est un exemple de la programmation orientée objet. Comme `semaine` est une `list`, elle a la méthode `xxx` appelée avec la notation `.`.\n",
    "\n",
    "Pour découvrir les méthodes disponibles, on peut utiliser la tab-completion:"
   ]
  },
  {
   "cell_type": "code",
   "execution_count": null,
   "metadata": {},
   "outputs": [],
   "source": [
    "semaine.count?"
   ]
  },
  {
   "cell_type": "markdown",
   "metadata": {},
   "source": [
    "<div style=\"width: 80%; padding: .5em 1.5em;\n",
    "            margin: .5em 2em .5em 2em;\n",
    "            border-radius: 12pt; border-color: black; \n",
    "            border-style: solid;\">\n",
    "    <b style=\"font-variant: small-caps; text-decoration: underline;\">Application:</b>\n",
    "     <ul>\n",
    "    <li> Créer une liste <code>semaine</code> avec les 7 jours de la semaine\n",
    "    <li> Faire afficher sur la même ligne <code>mardi</code>  et <code>dimanche</code>\n",
    "    <li> Quel est le type de l'objet correspondant?\n",
    "    <li>On peut vérifier la réponse avec <code>type</code>\n",
    "    <li> Avec des commandes de sélection les plus simples possibles, faire afficher les jours de travail, puis les jours du week-end\n",
    "    <li> Renverser la liste semaine avec le fancy indexing?\n",
    "    <li> Prendre 1 lettre sur 3 de <code>lundi</code> à partir de la lettre <code>u</code>\n",
    "    <li> En utilisant la documentation de la commande <code>in</code>, tester la présence de <code>vendredi</code> dans la liste\n",
    "        </ul\n",
    "</div>"
   ]
  },
  {
   "cell_type": "code",
   "execution_count": null,
   "metadata": {},
   "outputs": [],
   "source": []
  },
  {
   "cell_type": "markdown",
   "metadata": {},
   "source": [
    "##### 2.2 Les strings"
   ]
  },
  {
   "cell_type": "code",
   "execution_count": null,
   "metadata": {},
   "outputs": [],
   "source": [
    "s = 'Hello, how are you?'\n",
    "print(s)\n",
    "s = \"Hi, what's up\"\n",
    "print(s)\n",
    "s = '''Hello,                 \n",
    "    how are you'''\n",
    "print(s)\n",
    "s = \"\"\"Hi,\n",
    "what's up?\"\"\"\n",
    "print(s)"
   ]
  },
  {
   "cell_type": "code",
   "execution_count": null,
   "metadata": {},
   "outputs": [],
   "source": [
    "s[0]"
   ]
  },
  {
   "cell_type": "code",
   "execution_count": null,
   "metadata": {},
   "outputs": [],
   "source": [
    "s[0::2]"
   ]
  },
  {
   "cell_type": "markdown",
   "metadata": {},
   "source": [
    "Un string est un object immutable."
   ]
  },
  {
   "cell_type": "code",
   "execution_count": null,
   "metadata": {},
   "outputs": [],
   "source": [
    "s = \"hello Babar\"\n",
    "s[1] = 'a'"
   ]
  },
  {
   "cell_type": "code",
   "execution_count": null,
   "metadata": {},
   "outputs": [],
   "source": [
    "s = s.replace('e', 'a', 1)\n",
    "print(s)"
   ]
  },
  {
   "cell_type": "code",
   "execution_count": null,
   "metadata": {},
   "outputs": [],
   "source": [
    "s = s.replace('a', 'o')\n",
    "print(s)"
   ]
  },
  {
   "cell_type": "markdown",
   "metadata": {},
   "source": [
    "Formattage des strings:"
   ]
  },
  {
   "cell_type": "code",
   "execution_count": null,
   "metadata": {},
   "outputs": [],
   "source": [
    "'An integer: %i; a float: %f; another string: %s' % (1, 0.1, 'string')"
   ]
  },
  {
   "cell_type": "code",
   "execution_count": null,
   "metadata": {},
   "outputs": [],
   "source": [
    "'An integer: %i; a float: %10.3f; another string: %s' % (1, 0.1, 'string')"
   ]
  },
  {
   "cell_type": "code",
   "execution_count": null,
   "metadata": {},
   "outputs": [],
   "source": [
    "cours = \"python\"\n",
    "jour = 29.0\n",
    "print(f\"Aujourd'hui, le {jour:.0f}, nous avons cours de {cours}\")"
   ]
  },
  {
   "cell_type": "code",
   "execution_count": null,
   "metadata": {},
   "outputs": [],
   "source": [
    "score = 0.99\n",
    "metrics = \"accuracy\"\n",
    "# définir la string: <metrics> du modèle est <score>\n",
    "f\"{metrics} du modèle est {score}\""
   ]
  },
  {
   "cell_type": "markdown",
   "metadata": {},
   "source": [
    "##### 2.3 Les dictionnaires"
   ]
  },
  {
   "cell_type": "code",
   "execution_count": null,
   "metadata": {},
   "outputs": [],
   "source": [
    "d = {}"
   ]
  },
  {
   "cell_type": "code",
   "execution_count": null,
   "metadata": {},
   "outputs": [],
   "source": [
    "dd = {'jour': 19, 'mois': 'Octobre'}\n",
    "dd"
   ]
  },
  {
   "cell_type": "code",
   "execution_count": null,
   "metadata": {},
   "outputs": [],
   "source": [
    "dd['annees'] = [2017, 2018]"
   ]
  },
  {
   "cell_type": "code",
   "execution_count": null,
   "metadata": {},
   "outputs": [],
   "source": [
    "dd"
   ]
  },
  {
   "cell_type": "code",
   "execution_count": null,
   "metadata": {},
   "outputs": [],
   "source": [
    "dd.keys()"
   ]
  },
  {
   "cell_type": "code",
   "execution_count": null,
   "metadata": {},
   "outputs": [],
   "source": [
    "dd.values()"
   ]
  },
  {
   "cell_type": "code",
   "execution_count": null,
   "metadata": {},
   "outputs": [],
   "source": [
    "dd.items()"
   ]
  },
  {
   "cell_type": "markdown",
   "metadata": {},
   "source": [
    "##### 2.4 Les sets"
   ]
  },
  {
   "cell_type": "code",
   "execution_count": null,
   "metadata": {},
   "outputs": [],
   "source": [
    "s = set(('blabla', 'blibli', 2, 'blabla'))"
   ]
  },
  {
   "cell_type": "code",
   "execution_count": null,
   "metadata": {},
   "outputs": [],
   "source": [
    "s"
   ]
  },
  {
   "cell_type": "code",
   "execution_count": null,
   "metadata": {},
   "outputs": [],
   "source": [
    "s.difference(('blibli', 2))"
   ]
  },
  {
   "cell_type": "code",
   "execution_count": null,
   "metadata": {},
   "outputs": [],
   "source": [
    "3 not in s"
   ]
  },
  {
   "cell_type": "markdown",
   "metadata": {},
   "source": [
    "### L'assignement\n",
    "\n",
    "**Attention: un object peut avoir plusieurs noms attachés**"
   ]
  },
  {
   "cell_type": "code",
   "execution_count": null,
   "metadata": {},
   "outputs": [],
   "source": [
    "a = [2, 4, 6]"
   ]
  },
  {
   "cell_type": "code",
   "execution_count": null,
   "metadata": {},
   "outputs": [],
   "source": [
    "b = a.copy()"
   ]
  },
  {
   "cell_type": "code",
   "execution_count": null,
   "metadata": {},
   "outputs": [],
   "source": [
    "a"
   ]
  },
  {
   "cell_type": "code",
   "execution_count": null,
   "metadata": {},
   "outputs": [],
   "source": [
    "b"
   ]
  },
  {
   "cell_type": "code",
   "execution_count": null,
   "metadata": {},
   "outputs": [],
   "source": [
    "a is b"
   ]
  },
  {
   "cell_type": "code",
   "execution_count": null,
   "metadata": {},
   "outputs": [],
   "source": [
    "b[2] = 12"
   ]
  },
  {
   "cell_type": "code",
   "execution_count": null,
   "metadata": {},
   "outputs": [],
   "source": [
    "a "
   ]
  },
  {
   "cell_type": "code",
   "execution_count": null,
   "metadata": {},
   "outputs": [],
   "source": [
    "id(a)"
   ]
  },
  {
   "cell_type": "code",
   "execution_count": null,
   "metadata": {},
   "outputs": [],
   "source": [
    "id(b)"
   ]
  },
  {
   "cell_type": "markdown",
   "metadata": {},
   "source": [
    "### Les structures de contrôle"
   ]
  },
  {
   "cell_type": "markdown",
   "metadata": {},
   "source": [
    "* **If/elif/else structure**"
   ]
  },
  {
   "cell_type": "code",
   "execution_count": null,
   "metadata": {},
   "outputs": [],
   "source": [
    "a = 4\n",
    "b = 3\n",
    "\n",
    "if a < b:\n",
    "    print('hello')\n",
    "\n",
    "    print('false')"
   ]
  },
  {
   "cell_type": "code",
   "execution_count": null,
   "metadata": {},
   "outputs": [],
   "source": [
    "if a > b:\n",
    "    print('Hi!')\n",
    "else:\n",
    "    print('Bybye')\n",
    "\n",
    "if (a == 4 and a > b):\n",
    "    print('b smaller than 4')\n",
    "elif (a == 4 and a <= b):\n",
    "    print('b is greater than 4')\n",
    "else:\n",
    "    print('a does not equal 4')"
   ]
  },
  {
   "cell_type": "markdown",
   "metadata": {},
   "source": [
    "* **for loop**\n",
    "\n",
    "On peut itérer en utilisant un index:"
   ]
  },
  {
   "cell_type": "code",
   "execution_count": null,
   "metadata": {},
   "outputs": [],
   "source": [
    "for i in range(10):\n",
    "    print(i)"
   ]
  },
  {
   "cell_type": "markdown",
   "metadata": {},
   "source": [
    "Assez souvent, il est préférable d'itérer sur des valeurs:"
   ]
  },
  {
   "cell_type": "code",
   "execution_count": null,
   "metadata": {},
   "outputs": [],
   "source": [
    "for word in ('cool', 'powerful', 'readable'):\n",
    "    print('Python is %s' % word)"
   ]
  },
  {
   "cell_type": "markdown",
   "metadata": {},
   "source": [
    "On peut itérer sur n'importe quelle séquence (string, listes, keys d'un dictionnaire, lignes d'un fichier, ...)"
   ]
  },
  {
   "cell_type": "code",
   "execution_count": null,
   "metadata": {},
   "outputs": [],
   "source": [
    "vowels = 'aeiouy'\n",
    "for i in 'powerful'[::-1]:\n",
    "    print(i)"
   ]
  },
  {
   "cell_type": "code",
   "execution_count": null,
   "metadata": {},
   "outputs": [],
   "source": [
    "message = \"Hello how are you?\".replace(' ', ',')\n",
    "message.split() # returns a list\n",
    "for word in message.split(','):\n",
    "    print(word)"
   ]
  },
  {
   "cell_type": "markdown",
   "metadata": {},
   "source": [
    "On peut utiliser `enumerate` pour obtenir l'indice et la valeur correspondante de la séquence:"
   ]
  },
  {
   "cell_type": "code",
   "execution_count": null,
   "metadata": {},
   "outputs": [],
   "source": [
    "words = ('cool', 'powerful', 'readable')\n",
    "print(len(words))"
   ]
  },
  {
   "cell_type": "code",
   "execution_count": null,
   "metadata": {},
   "outputs": [],
   "source": [
    "for i in range(0, len(words)):\n",
    "    print((i, words[i]))"
   ]
  },
  {
   "cell_type": "code",
   "execution_count": null,
   "metadata": {},
   "outputs": [],
   "source": [
    "for index, item in enumerate(words):\n",
    "    print((index, item))"
   ]
  },
  {
   "cell_type": "markdown",
   "metadata": {},
   "source": [
    "On peut itérer sur un dictionnaire:"
   ]
  },
  {
   "cell_type": "code",
   "execution_count": null,
   "metadata": {},
   "outputs": [],
   "source": [
    "d = {'a': 1, 'b':1.2, 'c':1j, 'ai': 2}\n",
    "for key, val in sorted(d.items()):\n",
    "    print('Key: %s has value: %s' % (key, val))"
   ]
  },
  {
   "cell_type": "markdown",
   "metadata": {},
   "source": [
    "Pour itérer sur deux objects en parallèle:"
   ]
  },
  {
   "cell_type": "code",
   "execution_count": null,
   "metadata": {},
   "outputs": [],
   "source": [
    "list_animal_en = ['cat', 'dog', 'crow', 'mouse']\n",
    "list_animal_fr = ['chat', 'chien', 'corbeau', 'souris']\n",
    "for il1, il2 in zip(list_animal_en, list_animal_fr):\n",
    "    print('%s = %s' % (il1, il2))"
   ]
  },
  {
   "cell_type": "markdown",
   "metadata": {},
   "source": [
    "Exercice: Compter le nombre d'occurences de chaque charactère dans la chaîne de caractères \"HelLo WorLd!!\" On renverra un dictionaire qui à la lettre associe son nombre d'occurences."
   ]
  },
  {
   "cell_type": "code",
   "execution_count": null,
   "metadata": {},
   "outputs": [],
   "source": [
    "s = \"HelLo WorLd!!\"\n",
    "s = \"hello world!!\""
   ]
  },
  {
   "cell_type": "code",
   "execution_count": null,
   "metadata": {},
   "outputs": [],
   "source": [
    "res = {}\n",
    "for i in s:\n",
    "    if i in res:\n",
    "        res[i] += 1\n",
    "    else:\n",
    "        res[i] = 1\n",
    "res"
   ]
  },
  {
   "cell_type": "code",
   "execution_count": null,
   "metadata": {},
   "outputs": [],
   "source": [
    "res = {}\n",
    "for c in set(s):\n",
    "    res[c] = s.count(c)\n",
    "print(res)"
   ]
  },
  {
   "cell_type": "markdown",
   "metadata": {},
   "source": [
    "**\"List comprehension\"**: une façon \"pythonesque\" de générer une liste"
   ]
  },
  {
   "cell_type": "code",
   "execution_count": null,
   "metadata": {},
   "outputs": [],
   "source": [
    "a = list(range(10))\n",
    "[2*x for x in a]"
   ]
  },
  {
   "cell_type": "markdown",
   "metadata": {},
   "source": [
    "* **while condition**"
   ]
  },
  {
   "cell_type": "code",
   "execution_count": null,
   "metadata": {},
   "outputs": [],
   "source": [
    "z = 1 + 1j\n",
    "while abs(z) < 100:\n",
    "    z = z**2 + 1\n",
    "    print(abs(z))\n",
    "z"
   ]
  },
  {
   "cell_type": "markdown",
   "metadata": {},
   "source": [
    "<div style=\"width: 80%; padding: .5em 1.5em;\n",
    "            margin: .5em 2em .5em 2em;\n",
    "            border-radius: 12pt; border-color: black; \n",
    "            border-style: solid;\">\n",
    "    <b style=\"font-variant: small-caps; text-decoration: underline;\">Exercice:</b>\n",
    "        Calculer une approximation de π par la formule de Wallis:\n",
    "        <img src=wallis.png>\n",
    "</div>"
   ]
  },
  {
   "cell_type": "code",
   "execution_count": null,
   "metadata": {},
   "outputs": [],
   "source": [
    "# %load solutions/solution_wallis.py"
   ]
  },
  {
   "cell_type": "markdown",
   "metadata": {},
   "source": [
    "### Les functions"
   ]
  },
  {
   "cell_type": "code",
   "execution_count": null,
   "metadata": {},
   "outputs": [],
   "source": [
    "def say_multiple_hello(n):\n",
    "    '''Print hello n times'''\n",
    "    for i in range(n):\n",
    "        print('hello')\n",
    "        \n",
    "print(say_multiple_hello(1))"
   ]
  },
  {
   "cell_type": "code",
   "execution_count": null,
   "metadata": {},
   "outputs": [],
   "source": [
    "say_multiple_hello?"
   ]
  },
  {
   "cell_type": "code",
   "execution_count": null,
   "metadata": {},
   "outputs": [],
   "source": [
    "def add(a, b):\n",
    "    '''Return the sum of two numbers a and b (float)'''\n",
    "    return a + b, a - b"
   ]
  },
  {
   "cell_type": "markdown",
   "metadata": {},
   "source": [
    "Remarque: par défaut, les fonctions renvoient `None`"
   ]
  },
  {
   "cell_type": "markdown",
   "metadata": {},
   "source": [
    "Pour utiliser comme input des variables optionnelles:"
   ]
  },
  {
   "cell_type": "code",
   "execution_count": null,
   "metadata": {},
   "outputs": [],
   "source": [
    "def double_it(a, x=2, y=5):\n",
    "    print(y)\n",
    "    return x * 2"
   ]
  },
  {
   "cell_type": "code",
   "execution_count": null,
   "metadata": {},
   "outputs": [],
   "source": [
    "double_it(a=1, y=10)"
   ]
  },
  {
   "cell_type": "code",
   "execution_count": null,
   "metadata": {},
   "outputs": [],
   "source": [
    "double_it(3)"
   ]
  },
  {
   "cell_type": "markdown",
   "metadata": {},
   "source": [
    "**Attention:** si une valeur d'input d'une fonction est \"immutable\", elle ne va pas être modifiée par la fonction. Par contre, si elle est \"mutable\", il se peut qu'elle soit modifiée, comme dans l'exemple ci-dessous:"
   ]
  },
  {
   "cell_type": "code",
   "execution_count": null,
   "metadata": {},
   "outputs": [],
   "source": [
    "def try_to_modify(x, y, z):\n",
    "    x = 2\n",
    "    y.append(42)\n",
    "    z = [99] # new reference\n",
    "    print(x)\n",
    "    print(y)\n",
    "    print(z)\n",
    "a = 77    # immutable variable\n",
    "b = [99]  # mutable variable\n",
    "c = [28]\n",
    "try_to_modify(a, b, c)\n",
    "print(a)\n",
    "print(b)\n",
    "print(c)"
   ]
  },
  {
   "cell_type": "markdown",
   "metadata": {},
   "source": [
    "**Remarque:** Les fonctions sont des **objects**, qui peuvent:\n",
    "* être assignées à une variable  \n",
    "* un élément d'une liste  \n",
    "* être utilisée comme argument d'une autre fonction"
   ]
  },
  {
   "cell_type": "code",
   "execution_count": null,
   "metadata": {},
   "outputs": [],
   "source": [
    "a = double_it\n",
    "print(type(a))\n",
    "a(6)"
   ]
  },
  {
   "cell_type": "markdown",
   "metadata": {},
   "source": [
    "### Les modules"
   ]
  },
  {
   "cell_type": "markdown",
   "metadata": {},
   "source": [
    "L'import des modules se fait en tête d'un script Python. Il est recommandé d'importer en premier les modules qui sont le plus bas niveau. "
   ]
  },
  {
   "cell_type": "code",
   "execution_count": null,
   "metadata": {},
   "outputs": [],
   "source": [
    "import os"
   ]
  },
  {
   "cell_type": "code",
   "execution_count": null,
   "metadata": {},
   "outputs": [],
   "source": [
    "os.listdir('.')"
   ]
  },
  {
   "cell_type": "code",
   "execution_count": null,
   "metadata": {},
   "outputs": [],
   "source": [
    "from os import listdir\n",
    "listdir('.')"
   ]
  },
  {
   "cell_type": "code",
   "execution_count": null,
   "metadata": {},
   "outputs": [],
   "source": [
    "import numpy as np"
   ]
  },
  {
   "cell_type": "code",
   "execution_count": null,
   "metadata": {},
   "outputs": [],
   "source": [
    "np.array"
   ]
  },
  {
   "cell_type": "markdown",
   "metadata": {},
   "source": [
    "**On peut aussi créer des modules.**"
   ]
  },
  {
   "cell_type": "code",
   "execution_count": null,
   "metadata": {},
   "outputs": [],
   "source": [
    "%%writefile demo.py\n",
    "\"A demo module.\"\n",
    "\n",
    "def print_b():\n",
    "    \"Prints b.\"\n",
    "    print('b')\n",
    "\n",
    "def print_a():\n",
    "    \"Prints a.\"\n",
    "    print('a')\n",
    "\n",
    "c = 2\n",
    "d = 2"
   ]
  },
  {
   "cell_type": "markdown",
   "metadata": {},
   "source": [
    "On peut ensuite utiliser ce module:"
   ]
  },
  {
   "cell_type": "code",
   "execution_count": null,
   "metadata": {},
   "outputs": [],
   "source": [
    "import demo"
   ]
  },
  {
   "cell_type": "code",
   "execution_count": null,
   "metadata": {},
   "outputs": [],
   "source": [
    "demo.print_a()"
   ]
  },
  {
   "cell_type": "markdown",
   "metadata": {},
   "source": [
    "On a alors accès aux objets du module (variables, fonctions et classes):"
   ]
  },
  {
   "cell_type": "code",
   "execution_count": null,
   "metadata": {},
   "outputs": [],
   "source": [
    "demo?"
   ]
  },
  {
   "cell_type": "code",
   "execution_count": null,
   "metadata": {},
   "outputs": [],
   "source": [
    "%whos"
   ]
  },
  {
   "cell_type": "code",
   "execution_count": null,
   "metadata": {},
   "outputs": [],
   "source": [
    "demo."
   ]
  },
  {
   "cell_type": "markdown",
   "metadata": {},
   "source": [
    "Afin d'exécuter du code directement quand un module est chargé, on peut utiliser **`__main__`**:"
   ]
  },
  {
   "cell_type": "code",
   "execution_count": null,
   "metadata": {},
   "outputs": [],
   "source": [
    "%%writefile demo2.py\n",
    "def print_b():\n",
    "    \"Prints b.\"\n",
    "    print('b')\n",
    "\n",
    "def print_a():\n",
    "    \"Prints a.\"\n",
    "    print('a')\n",
    "\n",
    "# print_b() runs on import\n",
    "print_b()\n",
    "\n",
    "if __name__ == '__main__':\n",
    "    # print_a() is only executed when the module is run directly.\n",
    "    print_a()"
   ]
  },
  {
   "cell_type": "code",
   "execution_count": null,
   "metadata": {},
   "outputs": [],
   "source": [
    "import demo2"
   ]
  },
  {
   "cell_type": "code",
   "execution_count": null,
   "metadata": {},
   "outputs": [],
   "source": [
    "%run demo2"
   ]
  },
  {
   "cell_type": "markdown",
   "metadata": {},
   "source": [
    "<div style=\"width: 80%; padding: .5em 1.5em;\n",
    "            margin: .5em 2em .5em 2em;\n",
    "            border-radius: 12pt; border-color: black; \n",
    "            border-style: solid;\">\n",
    "    <b style=\"font-variant: small-caps; text-decoration: underline;\">Exercice:</b>\n",
    "    implémenter quicksort\n",
    "\n",
    "La [page wikipedia](https://en.wikipedia.org/wiki/Quicksort) décrivant l’algorithme de tri quicksort donne le pseudo-code suivant:\n",
    "```\n",
    "function quicksort('array')\n",
    "   if length('array') <= 1\n",
    "        return 'array'\n",
    "   select and remove a pivot value 'pivot' from 'array'\n",
    "   create empty lists 'less' and 'greater'\n",
    "   for each 'x' in 'array'\n",
    "       if 'x' <= 'pivot' then append 'x' to 'less'\n",
    "       else append 'x' to 'greater'\n",
    "   return concatenate(quicksort('less'), 'pivot', quicksort('greater'))\n",
    "```\n",
    "Transformer ce pseudo-code en code valide Python.\n",
    "\n",
    "Des indices:\n",
    "* la longueur d’une liste est donnée par `len(l)`\n",
    "* deux listes peuvent être concaténées avec `l1 + l2`\n",
    "\n",
    "Attention: une liste est mutable...\n",
    "\n",
    "Il vous suffit de compléter l'ébauche ci dessous.\n",
    "    \n",
    "</div>"
   ]
  },
  {
   "cell_type": "code",
   "execution_count": null,
   "metadata": {},
   "outputs": [],
   "source": [
    "# %load solutions/solution_exo_quicksort.py\n",
    "def quicksort(ll):\n",
    "    pass\n",
    "\n",
    "quicksort([-2, 3, 5, 1, 3])"
   ]
  },
  {
   "cell_type": "code",
   "execution_count": null,
   "metadata": {},
   "outputs": [],
   "source": [
    "test_lists = [\n",
    "    [-2, 3, 5, 1, 3],\n",
    "    [5, 4, 3, 2, 1],\n",
    "    [1, 2, 3, 4],\n",
    "    [],\n",
    "    [1],\n",
    "    [2, 8, 1, 4, 5]\n",
    "]\n",
    "for l in test_lists:\n",
    "    l_sorted = quicksort(l)\n",
    "    assert len(l_sorted) == len(l), (l_sorted, l)\n",
    "    for l1, l2 in zip(l_sorted, sorted(l)):\n",
    "        assert l1 == l2\n",
    "print('success')"
   ]
  },
  {
   "cell_type": "markdown",
   "metadata": {},
   "source": [
    "### Les classes\n",
    "\n",
    "* Les classes sont les éléments centraux de la programmation orientée objet.\n",
    "* Classe: structure qui sert à représenter un objet et l'ensemble des opérations qui peuvent êtres effectuées sur ce dernier.\n",
    "\n",
    "Dans Python une classe contient des attributs (variables) et des méthodes (fonctions). Elle est définie de manière analogue aux fonctions mais en utilisant le mot clé class. La définition d'une classe contient généralement un certain nombre de méthodes de classe (des fonctions dans la classe).\n",
    "\n",
    "* Le premier argument d'un méthode doit être self: argument obligatoire. Cet objet self est une auto-référence.\n",
    "* Certains noms de méthodes ont un sens particulier, par exemple :  \n",
    "  * __init__: nom de la méthode invoquée à la création de l'objet  \n",
    "  * __str__ : méthode invoquée lorsque une représentation de la classe sous forme de chaîne de caractères est demandée, par exemple quand la classe est passée à print  "
   ]
  },
  {
   "cell_type": "code",
   "execution_count": null,
   "metadata": {},
   "outputs": [],
   "source": [
    "class CoursPython:\n",
    "    \n",
    "    language = 'Python'\n",
    "    \n",
    "    def __init__(self, names, date):\n",
    "        self.names = names\n",
    "        self.date = date\n",
    "        \n",
    "    def show_course(self):\n",
    "        print('%s sont a la formation Python du %s' %\n",
    "              (self.names, self.date))"
   ]
  },
  {
   "cell_type": "code",
   "execution_count": null,
   "metadata": {},
   "outputs": [],
   "source": [
    "cours_python = CoursPython('Patrick, Chantal', '19/10/17')"
   ]
  },
  {
   "cell_type": "code",
   "execution_count": null,
   "metadata": {},
   "outputs": [],
   "source": [
    "cours_python.names"
   ]
  },
  {
   "cell_type": "code",
   "execution_count": null,
   "metadata": {},
   "outputs": [],
   "source": [
    "cours_python.show_course()"
   ]
  },
  {
   "cell_type": "code",
   "execution_count": null,
   "metadata": {},
   "outputs": [],
   "source": [
    "cours_python.language"
   ]
  },
  {
   "cell_type": "markdown",
   "metadata": {},
   "source": [
    "**Attention:** différence entre la définition d'un attribut de la classe et son instantiation à la création de la classe."
   ]
  },
  {
   "cell_type": "code",
   "execution_count": null,
   "metadata": {},
   "outputs": [],
   "source": [
    "class A:\n",
    "    foo = []\n",
    "\n",
    "class B:\n",
    "    def __init__(self):\n",
    "        self.foo = []"
   ]
  },
  {
   "cell_type": "code",
   "execution_count": null,
   "metadata": {},
   "outputs": [],
   "source": [
    "a = A()\n",
    "b = A()"
   ]
  },
  {
   "cell_type": "code",
   "execution_count": null,
   "metadata": {},
   "outputs": [],
   "source": [
    "a.foo.append(4)"
   ]
  },
  {
   "cell_type": "code",
   "execution_count": null,
   "metadata": {},
   "outputs": [],
   "source": [
    "b.foo"
   ]
  },
  {
   "cell_type": "code",
   "execution_count": null,
   "metadata": {},
   "outputs": [],
   "source": [
    "a = B()\n",
    "b = B()"
   ]
  },
  {
   "cell_type": "code",
   "execution_count": null,
   "metadata": {},
   "outputs": [],
   "source": [
    "a.foo.append(4)\n",
    "a.foo"
   ]
  },
  {
   "cell_type": "code",
   "execution_count": null,
   "metadata": {},
   "outputs": [],
   "source": [
    "b.foo"
   ]
  },
  {
   "cell_type": "markdown",
   "metadata": {},
   "source": [
    "<div style=\"width: 80%; padding: .5em 1.5em;\n",
    "            margin: .5em 2em .5em 2em;\n",
    "            border-radius: 12pt; border-color: black; \n",
    "            border-style: solid;\">\n",
    "    <b style=\"font-variant: small-caps; text-decoration: underline;\">Exercice:</b>\n",
    "    Définir une classe <code>Satellite()</code> qui permette d'instancier des objets simulant des satellites artificiels lancés dans l'espace, autour de la terre. \n",
    "\n",
    "Le constructeur de cette classe initialisera les attributs d'instance suivants, avec les valeurs par défaut indiquées:   \n",
    "* masse = 100 \n",
    "* vitesse = 0  \n",
    "\n",
    "Lorsque l'on instanciera un nouvel objet `Satellite()`, on pourra choisir son nom, sa masse et sa vitesse. \n",
    "\n",
    "Les méthodes suivantes seront définies : \n",
    "* `impulsion(force, duree)` permettra de faire varier la vitesse du satellite. La variation de vitesse \n",
    "${\\displaystyle \\Delta v}$ subie par un objet de masse $m$ soumis à l'action d'une force $F$ pendant un temps $t$ vaut $${\\displaystyle \\Delta v={\\frac {F\\times \\Delta t}{m}}}$$\n",
    "Par exemple : un satellite de 300 kg qui subit une force de 600 Newtons pendant 10 secondes voit sa vitesse augmenter (ou diminuer) de 20 m/s. \n",
    "* `affiche_vitesse()` affichera le nom du satellite et sa vitesse courante. \n",
    "* `energie()` renverra au programme appelant la valeur de l'énergie cinétique du satellite. L'énergie cinétique ${\\displaystyle E_{c}}$ se calcule à l'aide de la formule $${\\displaystyle E_{c}={\\frac {1}{2}}mv^{2}}$$ \n",
    "    \n",
    "La classe pourra être testée avec le programme de test ci-dessous.\n",
    "</div>\n"
   ]
  },
  {
   "cell_type": "code",
   "execution_count": null,
   "metadata": {},
   "outputs": [],
   "source": [
    "# %load solutions/solution_exo_satellite.py"
   ]
  },
  {
   "cell_type": "code",
   "execution_count": null,
   "metadata": {},
   "outputs": [],
   "source": [
    "# Programme de test :\n",
    "s1 = Satellite('Zoé', masse=250, vitesse=10)\n",
    "s1.impulsion(500, 15)\n",
    "s1.affiche_vitesse()\n",
    "print(s1.energie())\n",
    "assert s1.energie() == 2e5\n",
    "\n",
    "s1.impulsion(500, 15)\n",
    "s1.affiche_vitesse()\n",
    "assert s1.energie() == 6.125e5\n",
    "print(s1.energie())"
   ]
  },
  {
   "cell_type": "code",
   "execution_count": null,
   "metadata": {},
   "outputs": [],
   "source": []
  }
 ],
 "metadata": {
  "kernelspec": {
   "display_name": "Python 3",
   "language": "python",
   "name": "python3"
  },
  "language_info": {
   "codemirror_mode": {
    "name": "ipython",
    "version": 3
   },
   "file_extension": ".py",
   "mimetype": "text/x-python",
   "name": "python",
   "nbconvert_exporter": "python",
   "pygments_lexer": "ipython3",
   "version": "3.7.7"
  }
 },
 "nbformat": 4,
 "nbformat_minor": 1
}
